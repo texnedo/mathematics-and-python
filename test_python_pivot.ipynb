{
 "cells": [
  {
   "cell_type": "code",
   "execution_count": 6,
   "id": "07bb3395",
   "metadata": {},
   "outputs": [
    {
     "data": {
      "text/html": [
       "\n",
       "        <iframe\n",
       "            width=\"100%\"\n",
       "            height=\"500\"\n",
       "            src=\"pivot_table_dynamic.html\"\n",
       "            frameborder=\"0\"\n",
       "            allowfullscreen\n",
       "            \n",
       "        ></iframe>\n",
       "        "
      ],
      "text/plain": [
       "<IPython.lib.display.IFrame at 0x1379ae820>"
      ]
     },
     "execution_count": 6,
     "metadata": {},
     "output_type": "execute_result"
    }
   ],
   "source": [
    "import pandas as pd\n",
    "from pivottablejs import pivot_ui\n",
    "\n",
    "# Simulated Data: Metrics for each combination of FlightID and slice IDs\n",
    "data = {\n",
    "    'FlightID': [1, 1, 1, 2, 2, 2],\n",
    "    'S1': ['A', 'A', 'B', 'A', 'B', 'B'],\n",
    "    'S2': ['X', 'Y', 'X', 'Y', 'X', 'Y'],\n",
    "    'Clicks': [100, 150, 200, 120, 180, 220],\n",
    "    'Impressions': [1000, 1500, 2500, 1200, 2300, 2700],\n",
    "    'Conversions': [10, 20, 30, 12, 18, 28],\n",
    "}\n",
    "\n",
    "# Create a DataFrame\n",
    "df = pd.DataFrame(data)\n",
    "\n",
    "# Function to dynamically compute metrics (CTR, CVR) per slice\n",
    "def compute_metrics(df, group_by):\n",
    "    # Group by the selected slices and sum the key metrics\n",
    "    grouped = df.groupby(group_by, as_index=False).sum()\n",
    "    # Compute dynamic CTR and CVR\n",
    "    grouped['CTR'] = grouped['Clicks'] / grouped['Impressions']\n",
    "    grouped['CVR'] = grouped['Conversions'] / grouped['Clicks']\n",
    "    return grouped\n",
    "\n",
    "# Example of grouping by S1 and S2\n",
    "slices = ['S1', 'S2']\n",
    "df_with_metrics = compute_metrics(df, slices)\n",
    "\n",
    "# Display dynamically computed pivot table\n",
    "pivot_ui(df_with_metrics, outfile_path=\"pivot_table_dynamic.html\")\n"
   ]
  },
  {
   "cell_type": "code",
   "execution_count": null,
   "id": "bf2dd14c",
   "metadata": {},
   "outputs": [],
   "source": []
  }
 ],
 "metadata": {
  "kernelspec": {
   "display_name": "Python 3 (ipykernel)",
   "language": "python",
   "name": "python3"
  },
  "language_info": {
   "codemirror_mode": {
    "name": "ipython",
    "version": 3
   },
   "file_extension": ".py",
   "mimetype": "text/x-python",
   "name": "python",
   "nbconvert_exporter": "python",
   "pygments_lexer": "ipython3",
   "version": "3.9.6"
  }
 },
 "nbformat": 4,
 "nbformat_minor": 5
}
