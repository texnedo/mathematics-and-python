{
 "cells": [
  {
   "cell_type": "markdown",
   "metadata": {
    "id": "NbHgrZs86Y6e"
   },
   "source": [
    "# Exploratory Data Analysis - Data Visualization and Summary Statistics\n",
    "\n",
    "Welcome to the third notebook of the exploratory data analysis (EDA) series. This notebook is a continuation of the rideshare notebook you used last week.\n",
    "\n",
    "For this notebook you will use the data on ridesharing in the year 2022 in the city of Chicago, which can be found [here](https://data.cityofchicago.org/Transportation/Transportation-Network-Providers-Trips/m6dm-c72p/data). You have already worked with this dataset in the previous week. This time you will continue working on the cleaned-up and reduced version of the dataset, which you prepared in the previous notebook.\n",
    "\n",
    "### Learning Objectives:\n",
    "In this notebook you will use the following concepts from the course in a practical setting:\n",
    " - Probability\n",
    " - Descriptive statistics (mean, median, standard deviation and quartiles)\n",
    " - Box plots\n",
    " - Joint distribution\n",
    " - Marginal distribution\n",
    " - Correlation\n"
   ]
  },
  {
   "cell_type": "markdown",
   "metadata": {
    "id": "BUmdnS4e6Y6g"
   },
   "source": [
    "# 1. Import the Python Libraries\n",
    "\n",
    "As usual, the first thing you need to do is import the libraries that you will use in this notebook."
   ]
  },
  {
   "cell_type": "code",
   "execution_count": 2,
   "metadata": {},
   "outputs": [],
   "source": [
    "import pandas as pd\n",
    "import numpy as np\n",
    "import matplotlib.pyplot as plt\n",
    "import seaborn as sns\n",
    "\n",
    "# Library for displaying a map\n",
    "import folium \n",
    "from folium.plugins import FastMarkerCluster"
   ]
  },
  {
   "cell_type": "markdown",
   "metadata": {
    "id": "CmlrVEnd6Y6h"
   },
   "source": [
    "# 2. Load the Dataset\n",
    "\n",
    "The next step is to open the dataset. This is the reduced and cleaned-up version that you used in the previous notebook."
   ]
  },
  {
   "cell_type": "code",
   "execution_count": 3,
   "metadata": {
    "id": "OD7tmLwb6Y6j"
   },
   "outputs": [
    {
     "data": {
      "text/html": [
       "<div>\n",
       "<style scoped>\n",
       "    .dataframe tbody tr th:only-of-type {\n",
       "        vertical-align: middle;\n",
       "    }\n",
       "\n",
       "    .dataframe tbody tr th {\n",
       "        vertical-align: top;\n",
       "    }\n",
       "\n",
       "    .dataframe thead th {\n",
       "        text-align: right;\n",
       "    }\n",
       "</style>\n",
       "<table border=\"1\" class=\"dataframe\">\n",
       "  <thead>\n",
       "    <tr style=\"text-align: right;\">\n",
       "      <th></th>\n",
       "      <th>trip_start_timestamp</th>\n",
       "      <th>trip_seconds</th>\n",
       "      <th>trip_miles</th>\n",
       "      <th>fare</th>\n",
       "      <th>tip</th>\n",
       "      <th>additional_charges</th>\n",
       "      <th>trip_total</th>\n",
       "      <th>shared_trip_authorized</th>\n",
       "      <th>trips_pooled</th>\n",
       "      <th>pickup_centroid_latitude</th>\n",
       "      <th>pickup_centroid_longitude</th>\n",
       "      <th>dropoff_centroid_latitude</th>\n",
       "      <th>dropoff_centroid_longitude</th>\n",
       "      <th>date</th>\n",
       "      <th>weekday</th>\n",
       "    </tr>\n",
       "  </thead>\n",
       "  <tbody>\n",
       "    <tr>\n",
       "      <th>0</th>\n",
       "      <td>2022-01-01</td>\n",
       "      <td>3905.0</td>\n",
       "      <td>44.5</td>\n",
       "      <td>55.0</td>\n",
       "      <td>0.0</td>\n",
       "      <td>11.25</td>\n",
       "      <td>66.25</td>\n",
       "      <td>0</td>\n",
       "      <td>1</td>\n",
       "      <td>41.972563</td>\n",
       "      <td>-87.678846</td>\n",
       "      <td>NaN</td>\n",
       "      <td>NaN</td>\n",
       "      <td>2022-01-01</td>\n",
       "      <td>Saturday</td>\n",
       "    </tr>\n",
       "    <tr>\n",
       "      <th>1</th>\n",
       "      <td>2022-01-01</td>\n",
       "      <td>2299.0</td>\n",
       "      <td>25.0</td>\n",
       "      <td>32.5</td>\n",
       "      <td>7.0</td>\n",
       "      <td>7.18</td>\n",
       "      <td>46.68</td>\n",
       "      <td>0</td>\n",
       "      <td>1</td>\n",
       "      <td>41.878866</td>\n",
       "      <td>-87.625192</td>\n",
       "      <td>NaN</td>\n",
       "      <td>NaN</td>\n",
       "      <td>2022-01-01</td>\n",
       "      <td>Saturday</td>\n",
       "    </tr>\n",
       "    <tr>\n",
       "      <th>2</th>\n",
       "      <td>2022-01-01</td>\n",
       "      <td>275.0</td>\n",
       "      <td>1.5</td>\n",
       "      <td>7.5</td>\n",
       "      <td>0.0</td>\n",
       "      <td>1.02</td>\n",
       "      <td>8.52</td>\n",
       "      <td>0</td>\n",
       "      <td>1</td>\n",
       "      <td>41.792357</td>\n",
       "      <td>-87.617931</td>\n",
       "      <td>41.812949</td>\n",
       "      <td>-87.617860</td>\n",
       "      <td>2022-01-01</td>\n",
       "      <td>Saturday</td>\n",
       "    </tr>\n",
       "    <tr>\n",
       "      <th>3</th>\n",
       "      <td>2022-01-01</td>\n",
       "      <td>243.0</td>\n",
       "      <td>1.0</td>\n",
       "      <td>5.0</td>\n",
       "      <td>0.0</td>\n",
       "      <td>2.36</td>\n",
       "      <td>7.36</td>\n",
       "      <td>0</td>\n",
       "      <td>1</td>\n",
       "      <td>41.936310</td>\n",
       "      <td>-87.651563</td>\n",
       "      <td>41.943155</td>\n",
       "      <td>-87.640698</td>\n",
       "      <td>2022-01-01</td>\n",
       "      <td>Saturday</td>\n",
       "    </tr>\n",
       "    <tr>\n",
       "      <th>4</th>\n",
       "      <td>2022-01-01</td>\n",
       "      <td>364.0</td>\n",
       "      <td>1.3</td>\n",
       "      <td>5.0</td>\n",
       "      <td>0.0</td>\n",
       "      <td>2.36</td>\n",
       "      <td>7.36</td>\n",
       "      <td>0</td>\n",
       "      <td>1</td>\n",
       "      <td>41.921855</td>\n",
       "      <td>-87.646211</td>\n",
       "      <td>41.936237</td>\n",
       "      <td>-87.656412</td>\n",
       "      <td>2022-01-01</td>\n",
       "      <td>Saturday</td>\n",
       "    </tr>\n",
       "  </tbody>\n",
       "</table>\n",
       "</div>"
      ],
      "text/plain": [
       "  trip_start_timestamp  trip_seconds  trip_miles  fare  tip  \\\n",
       "0           2022-01-01        3905.0        44.5  55.0  0.0   \n",
       "1           2022-01-01        2299.0        25.0  32.5  7.0   \n",
       "2           2022-01-01         275.0         1.5   7.5  0.0   \n",
       "3           2022-01-01         243.0         1.0   5.0  0.0   \n",
       "4           2022-01-01         364.0         1.3   5.0  0.0   \n",
       "\n",
       "   additional_charges  trip_total  shared_trip_authorized  trips_pooled  \\\n",
       "0               11.25       66.25                       0             1   \n",
       "1                7.18       46.68                       0             1   \n",
       "2                1.02        8.52                       0             1   \n",
       "3                2.36        7.36                       0             1   \n",
       "4                2.36        7.36                       0             1   \n",
       "\n",
       "   pickup_centroid_latitude  pickup_centroid_longitude  \\\n",
       "0                 41.972563                 -87.678846   \n",
       "1                 41.878866                 -87.625192   \n",
       "2                 41.792357                 -87.617931   \n",
       "3                 41.936310                 -87.651563   \n",
       "4                 41.921855                 -87.646211   \n",
       "\n",
       "   dropoff_centroid_latitude  dropoff_centroid_longitude       date   weekday  \n",
       "0                        NaN                         NaN 2022-01-01  Saturday  \n",
       "1                        NaN                         NaN 2022-01-01  Saturday  \n",
       "2                  41.812949                  -87.617860 2022-01-01  Saturday  \n",
       "3                  41.943155                  -87.640698 2022-01-01  Saturday  \n",
       "4                  41.936237                  -87.656412 2022-01-01  Saturday  "
      ]
     },
     "execution_count": 3,
     "metadata": {},
     "output_type": "execute_result"
    }
   ],
   "source": [
    "# Open the dataset\n",
    "# Note the parse_dates parameter, which automatically saves the given columns as dates.\n",
    "df = pd.read_csv(\"data/rideshare_2022_cleaned.csv\", parse_dates=['trip_start_timestamp', 'date'])\n",
    "\n",
    "# Show the first few lines of the dataset\n",
    "df.head()"
   ]
  },
  {
   "cell_type": "markdown",
   "metadata": {
    "id": "j1dm9RddaOH5"
   },
   "source": [
    "# 3. Investigate the Summary Statistics\n",
    "\n",
    "To get a better grasp of the data it is very useful to learn a bit more about the values in each column. In the previous notebook you have already plotted some histograms of individual columns to see how the data is distributed. Now it's time to approach this more systematically. Let's look at the numeric values first. Pandas has a very useful function `.describe()`, which returns a new dataframe with summary statistics for each of the columns. Run the cell below to compute and display summary statistics for your dataset. The output is a new dataframe that contains the count, mean, standard deviation, minimum value, maximum value and 25%, 50% (median) and 75% quartiles for each of the columns. By now, you should be familiar with all of these statistics. If you need a refresher, check out the Week 2 Lesson 1 videos again. "
   ]
  },
  {
   "cell_type": "code",
   "execution_count": 4,
   "metadata": {
    "id": "_oco5Fgh6Y61"
   },
   "outputs": [
    {
     "data": {
      "text/html": [
       "<div>\n",
       "<style scoped>\n",
       "    .dataframe tbody tr th:only-of-type {\n",
       "        vertical-align: middle;\n",
       "    }\n",
       "\n",
       "    .dataframe tbody tr th {\n",
       "        vertical-align: top;\n",
       "    }\n",
       "\n",
       "    .dataframe thead th {\n",
       "        text-align: right;\n",
       "    }\n",
       "</style>\n",
       "<table border=\"1\" class=\"dataframe\">\n",
       "  <thead>\n",
       "    <tr style=\"text-align: right;\">\n",
       "      <th></th>\n",
       "      <th>trip_start_timestamp</th>\n",
       "      <th>trip_seconds</th>\n",
       "      <th>trip_miles</th>\n",
       "      <th>fare</th>\n",
       "      <th>tip</th>\n",
       "      <th>additional_charges</th>\n",
       "      <th>trip_total</th>\n",
       "      <th>shared_trip_authorized</th>\n",
       "      <th>trips_pooled</th>\n",
       "      <th>pickup_centroid_latitude</th>\n",
       "      <th>pickup_centroid_longitude</th>\n",
       "      <th>dropoff_centroid_latitude</th>\n",
       "      <th>dropoff_centroid_longitude</th>\n",
       "      <th>date</th>\n",
       "    </tr>\n",
       "  </thead>\n",
       "  <tbody>\n",
       "    <tr>\n",
       "      <th>count</th>\n",
       "      <td>691098</td>\n",
       "      <td>691073.000000</td>\n",
       "      <td>691096.000000</td>\n",
       "      <td>689952.000000</td>\n",
       "      <td>689952.000000</td>\n",
       "      <td>689952.000000</td>\n",
       "      <td>689952.000000</td>\n",
       "      <td>691098.000000</td>\n",
       "      <td>691098.000000</td>\n",
       "      <td>635075.000000</td>\n",
       "      <td>635075.000000</td>\n",
       "      <td>632163.000000</td>\n",
       "      <td>632163.000000</td>\n",
       "      <td>691098</td>\n",
       "    </tr>\n",
       "    <tr>\n",
       "      <th>mean</th>\n",
       "      <td>2022-07-09 12:13:17.168419328</td>\n",
       "      <td>1089.008338</td>\n",
       "      <td>6.941224</td>\n",
       "      <td>18.577024</td>\n",
       "      <td>1.264072</td>\n",
       "      <td>4.694999</td>\n",
       "      <td>24.536095</td>\n",
       "      <td>0.022537</td>\n",
       "      <td>1.010250</td>\n",
       "      <td>41.889642</td>\n",
       "      <td>-87.671920</td>\n",
       "      <td>41.890190</td>\n",
       "      <td>-87.674246</td>\n",
       "      <td>2022-07-09 02:16:40.835192832</td>\n",
       "    </tr>\n",
       "    <tr>\n",
       "      <th>min</th>\n",
       "      <td>2022-01-01 00:00:00</td>\n",
       "      <td>1.000000</td>\n",
       "      <td>0.000000</td>\n",
       "      <td>0.000000</td>\n",
       "      <td>0.000000</td>\n",
       "      <td>0.000000</td>\n",
       "      <td>0.000000</td>\n",
       "      <td>0.000000</td>\n",
       "      <td>1.000000</td>\n",
       "      <td>41.650222</td>\n",
       "      <td>-87.913625</td>\n",
       "      <td>41.650222</td>\n",
       "      <td>-87.913625</td>\n",
       "      <td>2022-01-01 00:00:00</td>\n",
       "    </tr>\n",
       "    <tr>\n",
       "      <th>25%</th>\n",
       "      <td>2022-04-11 11:45:00</td>\n",
       "      <td>543.000000</td>\n",
       "      <td>2.000000</td>\n",
       "      <td>10.000000</td>\n",
       "      <td>0.000000</td>\n",
       "      <td>2.490000</td>\n",
       "      <td>13.440000</td>\n",
       "      <td>0.000000</td>\n",
       "      <td>1.000000</td>\n",
       "      <td>41.871016</td>\n",
       "      <td>-87.689319</td>\n",
       "      <td>41.871016</td>\n",
       "      <td>-87.691430</td>\n",
       "      <td>2022-04-11 00:00:00</td>\n",
       "    </tr>\n",
       "    <tr>\n",
       "      <th>50%</th>\n",
       "      <td>2022-07-12 09:45:00</td>\n",
       "      <td>880.000000</td>\n",
       "      <td>4.100000</td>\n",
       "      <td>15.000000</td>\n",
       "      <td>0.000000</td>\n",
       "      <td>3.550000</td>\n",
       "      <td>19.020000</td>\n",
       "      <td>0.000000</td>\n",
       "      <td>1.000000</td>\n",
       "      <td>41.893216</td>\n",
       "      <td>-87.654093</td>\n",
       "      <td>41.893216</td>\n",
       "      <td>-87.654007</td>\n",
       "      <td>2022-07-12 00:00:00</td>\n",
       "    </tr>\n",
       "    <tr>\n",
       "      <th>75%</th>\n",
       "      <td>2022-10-08 19:30:00</td>\n",
       "      <td>1416.000000</td>\n",
       "      <td>9.200000</td>\n",
       "      <td>22.500000</td>\n",
       "      <td>1.000000</td>\n",
       "      <td>5.460000</td>\n",
       "      <td>29.490000</td>\n",
       "      <td>0.000000</td>\n",
       "      <td>1.000000</td>\n",
       "      <td>41.934762</td>\n",
       "      <td>-87.631407</td>\n",
       "      <td>41.935706</td>\n",
       "      <td>-87.631407</td>\n",
       "      <td>2022-10-08 00:00:00</td>\n",
       "    </tr>\n",
       "    <tr>\n",
       "      <th>max</th>\n",
       "      <td>2022-12-31 12:45:00</td>\n",
       "      <td>34892.000000</td>\n",
       "      <td>366.900000</td>\n",
       "      <td>637.500000</td>\n",
       "      <td>100.000000</td>\n",
       "      <td>253.010000</td>\n",
       "      <td>656.750000</td>\n",
       "      <td>1.000000</td>\n",
       "      <td>5.000000</td>\n",
       "      <td>42.021224</td>\n",
       "      <td>-87.530712</td>\n",
       "      <td>42.021224</td>\n",
       "      <td>-87.530712</td>\n",
       "      <td>2022-12-31 00:00:00</td>\n",
       "    </tr>\n",
       "    <tr>\n",
       "      <th>std</th>\n",
       "      <td>NaN</td>\n",
       "      <td>782.835520</td>\n",
       "      <td>7.773458</td>\n",
       "      <td>14.069854</td>\n",
       "      <td>2.923235</td>\n",
       "      <td>4.314872</td>\n",
       "      <td>17.627719</td>\n",
       "      <td>0.148421</td>\n",
       "      <td>0.113987</td>\n",
       "      <td>0.067517</td>\n",
       "      <td>0.070488</td>\n",
       "      <td>0.067239</td>\n",
       "      <td>0.075001</td>\n",
       "      <td>NaN</td>\n",
       "    </tr>\n",
       "  </tbody>\n",
       "</table>\n",
       "</div>"
      ],
      "text/plain": [
       "                trip_start_timestamp   trip_seconds     trip_miles  \\\n",
       "count                         691098  691073.000000  691096.000000   \n",
       "mean   2022-07-09 12:13:17.168419328    1089.008338       6.941224   \n",
       "min              2022-01-01 00:00:00       1.000000       0.000000   \n",
       "25%              2022-04-11 11:45:00     543.000000       2.000000   \n",
       "50%              2022-07-12 09:45:00     880.000000       4.100000   \n",
       "75%              2022-10-08 19:30:00    1416.000000       9.200000   \n",
       "max              2022-12-31 12:45:00   34892.000000     366.900000   \n",
       "std                              NaN     782.835520       7.773458   \n",
       "\n",
       "                fare            tip  additional_charges     trip_total  \\\n",
       "count  689952.000000  689952.000000       689952.000000  689952.000000   \n",
       "mean       18.577024       1.264072            4.694999      24.536095   \n",
       "min         0.000000       0.000000            0.000000       0.000000   \n",
       "25%        10.000000       0.000000            2.490000      13.440000   \n",
       "50%        15.000000       0.000000            3.550000      19.020000   \n",
       "75%        22.500000       1.000000            5.460000      29.490000   \n",
       "max       637.500000     100.000000          253.010000     656.750000   \n",
       "std        14.069854       2.923235            4.314872      17.627719   \n",
       "\n",
       "       shared_trip_authorized   trips_pooled  pickup_centroid_latitude  \\\n",
       "count           691098.000000  691098.000000             635075.000000   \n",
       "mean                 0.022537       1.010250                 41.889642   \n",
       "min                  0.000000       1.000000                 41.650222   \n",
       "25%                  0.000000       1.000000                 41.871016   \n",
       "50%                  0.000000       1.000000                 41.893216   \n",
       "75%                  0.000000       1.000000                 41.934762   \n",
       "max                  1.000000       5.000000                 42.021224   \n",
       "std                  0.148421       0.113987                  0.067517   \n",
       "\n",
       "       pickup_centroid_longitude  dropoff_centroid_latitude  \\\n",
       "count              635075.000000              632163.000000   \n",
       "mean                  -87.671920                  41.890190   \n",
       "min                   -87.913625                  41.650222   \n",
       "25%                   -87.689319                  41.871016   \n",
       "50%                   -87.654093                  41.893216   \n",
       "75%                   -87.631407                  41.935706   \n",
       "max                   -87.530712                  42.021224   \n",
       "std                     0.070488                   0.067239   \n",
       "\n",
       "       dropoff_centroid_longitude                           date  \n",
       "count               632163.000000                         691098  \n",
       "mean                   -87.674246  2022-07-09 02:16:40.835192832  \n",
       "min                    -87.913625            2022-01-01 00:00:00  \n",
       "25%                    -87.691430            2022-04-11 00:00:00  \n",
       "50%                    -87.654007            2022-07-12 00:00:00  \n",
       "75%                    -87.631407            2022-10-08 00:00:00  \n",
       "max                    -87.530712            2022-12-31 00:00:00  \n",
       "std                      0.075001                            NaN  "
      ]
     },
     "execution_count": 4,
     "metadata": {},
     "output_type": "execute_result"
    }
   ],
   "source": [
    "# Calculate and display the summary statistics\n",
    "df.describe()"
   ]
  },
  {
   "cell_type": "markdown",
   "metadata": {
    "id": "5nMgnk7vb7Sh"
   },
   "source": [
    "In the dataframe above, you can find a lot of useful information. Carefully inspect the contents of the table to understand the data better. The following questions may help you think about the insights you can get from the summary statistics presented in the table.\n",
    "1. Check the minimum and maximum value for each column. What are their values and how far apart are they? For example: What is the shortest and longest trip that was taken and what is the difference between them?\n",
    "2. What is mean value of each column? For example: What is the mean trip length? Is it closer to the minimum or maximum value?\n",
    "3. What is the standard deviation of each column? For example: how much do the trip lengths vary?\n",
    "4. Compare the quartiles and the mean. Is the mean above or below the median? How could you explain this (think of the shape of the histograms you saw in the previous notebook and look for long or heavy tails).\n",
    "\n",
    "Note that the first three questions all relate to the same column `trip_miles`. You can ask the same question about any column, for example: What is the mean/median/highest/lowest tip?"
   ]
  },
  {
   "cell_type": "markdown",
   "metadata": {
    "id": "cp92o4D66Y7O"
   },
   "source": [
    "## 3.1 Visualize the Summary Statistics Using Boxplots\n",
    "\n",
    "A great way to understand your data is to visualize it! A commonly used tool to display summary statistics is a boxplot. Fortunately, it is already integrated to `Pandas`, and you can simply draw it by using `DataFrame.boxplot()`. Remember that the box-plot involves infromation about all the quartiles and the maximum and minumum values of the variable, and it looks something like this\n",
    "\n",
    "![](./images/box-plot-screenshot.png)\n",
    "\n",
    "As with other plots, if you do not specify which variable, or column, you want to plot, it will plot all of them. Because the columns have very different values, it is better to plot one by one, so you can more easily see the information being communicated."
   ]
  },
  {
   "cell_type": "code",
   "execution_count": 5,
   "metadata": {
    "id": "gWWzoUy_lPSu"
   },
   "outputs": [
    {
     "data": {
      "text/plain": [
       "<Axes: >"
      ]
     },
     "execution_count": 5,
     "metadata": {},
     "output_type": "execute_result"
    },
    {
     "data": {
      "image/png": "[encoded data removed]",
      "text/plain": [
       "<Figure size 640x480 with 1 Axes>"
      ]
     },
     "metadata": {},
     "output_type": "display_data"
    }
   ],
   "source": [
    "# Select the column which you want to plot. Change this for a different column name,\n",
    "# if you are interested in plotting other columns\n",
    "column_to_plot = 'fare'\n",
    "\n",
    "# Display the boxplot\n",
    "plt.figure()\n",
    "df.boxplot(column_to_plot)"
   ]
  },
  {
   "cell_type": "code",
   "execution_count": 6,
   "metadata": {},
   "outputs": [
    {
     "data": {
      "text/plain": [
       "<Axes: >"
      ]
     },
     "execution_count": 6,
     "metadata": {},
     "output_type": "execute_result"
    },
    {
     "data": {
      "image/png": "[encoded data removed]",
      "text/plain": [
       "<Figure size 640x480 with 1 Axes>"
      ]
     },
     "metadata": {},
     "output_type": "display_data"
    }
   ],
   "source": [
    "plt.figure()\n",
    "df.boxplot('trip_miles')"
   ]
  },
  {
   "cell_type": "markdown",
   "metadata": {
    "id": "gqGiBrgln9vE"
   },
   "source": [
    "The blue box shows the interquartile range (IQR), and the horizontal blue lines in the box show the Q1, Q2 (median), and Q3 quartiles. You can see these three numbers in the dataframe above (25%, 50% and 75%). Check whether they align with the plot. The horizontal black lines outside the box show +/- 1.5 times IQR, which is the default range used to identify outliers. The individual datapoints plotted outside the lines are the outliers.\n",
    "\n",
    "In the case of `fare` you can see a lot of outlier points, can you figure out why? Remember the distribution of this variable"
   ]
  },
  {
   "cell_type": "code",
   "execution_count": 7,
   "metadata": {},
   "outputs": [
    {
     "data": {
      "text/plain": [
       "array([[<Axes: title={'center': 'trip_start_timestamp'}>,\n",
       "        <Axes: title={'center': 'trip_seconds'}>,\n",
       "        <Axes: title={'center': 'trip_miles'}>,\n",
       "        <Axes: title={'center': 'fare'}>],\n",
       "       [<Axes: title={'center': 'tip'}>,\n",
       "        <Axes: title={'center': 'additional_charges'}>,\n",
       "        <Axes: title={'center': 'trip_total'}>,\n",
       "        <Axes: title={'center': 'shared_trip_authorized'}>],\n",
       "       [<Axes: title={'center': 'trips_pooled'}>,\n",
       "        <Axes: title={'center': 'pickup_centroid_latitude'}>,\n",
       "        <Axes: title={'center': 'pickup_centroid_longitude'}>,\n",
       "        <Axes: title={'center': 'dropoff_centroid_latitude'}>],\n",
       "       [<Axes: title={'center': 'dropoff_centroid_longitude'}>,\n",
       "        <Axes: title={'center': 'date'}>, <Axes: >, <Axes: >]],\n",
       "      dtype=object)"
      ]
     },
     "execution_count": 7,
     "metadata": {},
     "output_type": "execute_result"
    },
    {
     "data": {
      "image/png": "[encoded data removed]",
      "text/plain": [
       "<Figure size 640x480 with 16 Axes>"
      ]
     },
     "metadata": {},
     "output_type": "display_data"
    }
   ],
   "source": [
    "df.hist(density=True)"
   ]
  },
  {
   "cell_type": "code",
   "execution_count": 8,
   "metadata": {},
   "outputs": [
    {
     "data": {
      "text/plain": [
       "array([[<Axes: title={'center': 'fare'}>]], dtype=object)"
      ]
     },
     "execution_count": 8,
     "metadata": {},
     "output_type": "execute_result"
    },
    {
     "data": {
      "image/png": "[encoded data removed]",
      "text/plain": [
       "<Figure size 640x480 with 1 Axes>"
      ]
     },
     "metadata": {},
     "output_type": "display_data"
    }
   ],
   "source": [
    "df.hist(column_to_plot, density=True)"
   ]
  },
  {
   "cell_type": "code",
   "execution_count": 9,
   "metadata": {},
   "outputs": [
    {
     "data": {
      "text/plain": [
       "array([[<Axes: title={'center': 'fare'}>]], dtype=object)"
      ]
     },
     "execution_count": 9,
     "metadata": {},
     "output_type": "execute_result"
    },
    {
     "data": {
      "image/png": "[encoded data removed]",
      "text/plain": [
       "<Figure size 640x480 with 1 Axes>"
      ]
     },
     "metadata": {},
     "output_type": "display_data"
    }
   ],
   "source": [
    "df[df['fare'] < 100].hist('fare', density=True)"
   ]
  },
  {
   "cell_type": "code",
   "execution_count": 10,
   "metadata": {},
   "outputs": [
    {
     "data": {
      "text/plain": [
       "<Axes: >"
      ]
     },
     "execution_count": 10,
     "metadata": {},
     "output_type": "execute_result"
    },
    {
     "data": {
      "image/png": "[encoded data removed]",
      "text/plain": [
       "<Figure size 640x480 with 1 Axes>"
      ]
     },
     "metadata": {},
     "output_type": "display_data"
    }
   ],
   "source": [
    "df[df['fare'] < 40].boxplot('trip_miles')"
   ]
  },
  {
   "cell_type": "code",
   "execution_count": 11,
   "metadata": {},
   "outputs": [
    {
     "data": {
      "text/plain": [
       "<Axes: xlabel='fare', ylabel='weekday'>"
      ]
     },
     "execution_count": 11,
     "metadata": {},
     "output_type": "execute_result"
    },
    {
     "data": {
      "image/png": "[encoded data removed]",
      "text/plain": [
       "<Figure size 640x480 with 1 Axes>"
      ]
     },
     "metadata": {},
     "output_type": "display_data"
    }
   ],
   "source": [
    "sns.boxplot(data=df, x=\"fare\", y=\"weekday\")"
   ]
  },
  {
   "cell_type": "code",
   "execution_count": 12,
   "metadata": {},
   "outputs": [
    {
     "data": {
      "text/html": [
       "<div>\n",
       "<style scoped>\n",
       "    .dataframe tbody tr th:only-of-type {\n",
       "        vertical-align: middle;\n",
       "    }\n",
       "\n",
       "    .dataframe tbody tr th {\n",
       "        vertical-align: top;\n",
       "    }\n",
       "\n",
       "    .dataframe thead th {\n",
       "        text-align: right;\n",
       "    }\n",
       "</style>\n",
       "<table border=\"1\" class=\"dataframe\">\n",
       "  <thead>\n",
       "    <tr style=\"text-align: right;\">\n",
       "      <th></th>\n",
       "      <th></th>\n",
       "      <th>trip_start_timestamp</th>\n",
       "      <th>trip_seconds</th>\n",
       "      <th>trip_miles</th>\n",
       "      <th>fare</th>\n",
       "      <th>tip</th>\n",
       "      <th>additional_charges</th>\n",
       "      <th>trip_total</th>\n",
       "      <th>shared_trip_authorized</th>\n",
       "      <th>trips_pooled</th>\n",
       "      <th>pickup_centroid_latitude</th>\n",
       "      <th>pickup_centroid_longitude</th>\n",
       "      <th>dropoff_centroid_latitude</th>\n",
       "      <th>dropoff_centroid_longitude</th>\n",
       "      <th>date</th>\n",
       "    </tr>\n",
       "    <tr>\n",
       "      <th>weekday</th>\n",
       "      <th></th>\n",
       "      <th></th>\n",
       "      <th></th>\n",
       "      <th></th>\n",
       "      <th></th>\n",
       "      <th></th>\n",
       "      <th></th>\n",
       "      <th></th>\n",
       "      <th></th>\n",
       "      <th></th>\n",
       "      <th></th>\n",
       "      <th></th>\n",
       "      <th></th>\n",
       "      <th></th>\n",
       "      <th></th>\n",
       "    </tr>\n",
       "  </thead>\n",
       "  <tbody>\n",
       "    <tr>\n",
       "      <th rowspan=\"5\" valign=\"top\">Friday</th>\n",
       "      <th>trip_start_timestamp</th>\n",
       "      <td>1.000000</td>\n",
       "      <td>0.047625</td>\n",
       "      <td>0.026106</td>\n",
       "      <td>-0.006595</td>\n",
       "      <td>0.023573</td>\n",
       "      <td>0.047569</td>\n",
       "      <td>0.009650</td>\n",
       "      <td>0.133681</td>\n",
       "      <td>0.092963</td>\n",
       "      <td>0.000606</td>\n",
       "      <td>-0.006694</td>\n",
       "      <td>-0.001570</td>\n",
       "      <td>-0.009730</td>\n",
       "      <td>0.999997</td>\n",
       "    </tr>\n",
       "    <tr>\n",
       "      <th>trip_seconds</th>\n",
       "      <td>0.047625</td>\n",
       "      <td>1.000000</td>\n",
       "      <td>0.822710</td>\n",
       "      <td>0.725692</td>\n",
       "      <td>0.282425</td>\n",
       "      <td>0.475388</td>\n",
       "      <td>0.740373</td>\n",
       "      <td>0.036593</td>\n",
       "      <td>0.068520</td>\n",
       "      <td>0.065516</td>\n",
       "      <td>-0.302921</td>\n",
       "      <td>0.058552</td>\n",
       "      <td>-0.291459</td>\n",
       "      <td>0.047818</td>\n",
       "    </tr>\n",
       "    <tr>\n",
       "      <th>trip_miles</th>\n",
       "      <td>0.026106</td>\n",
       "      <td>0.822710</td>\n",
       "      <td>1.000000</td>\n",
       "      <td>0.739809</td>\n",
       "      <td>0.299313</td>\n",
       "      <td>0.572869</td>\n",
       "      <td>0.777022</td>\n",
       "      <td>0.036454</td>\n",
       "      <td>0.059706</td>\n",
       "      <td>0.032875</td>\n",
       "      <td>-0.348857</td>\n",
       "      <td>0.047703</td>\n",
       "      <td>-0.390132</td>\n",
       "      <td>0.026293</td>\n",
       "    </tr>\n",
       "    <tr>\n",
       "      <th>fare</th>\n",
       "      <td>-0.006595</td>\n",
       "      <td>0.725692</td>\n",
       "      <td>0.739809</td>\n",
       "      <td>1.000000</td>\n",
       "      <td>0.367327</td>\n",
       "      <td>0.409643</td>\n",
       "      <td>0.960020</td>\n",
       "      <td>-0.038412</td>\n",
       "      <td>-0.007572</td>\n",
       "      <td>0.056907</td>\n",
       "      <td>-0.241568</td>\n",
       "      <td>0.078531</td>\n",
       "      <td>-0.285549</td>\n",
       "      <td>-0.006404</td>\n",
       "    </tr>\n",
       "    <tr>\n",
       "      <th>tip</th>\n",
       "      <td>0.023573</td>\n",
       "      <td>0.282425</td>\n",
       "      <td>0.299313</td>\n",
       "      <td>0.367327</td>\n",
       "      <td>1.000000</td>\n",
       "      <td>0.270684</td>\n",
       "      <td>0.526990</td>\n",
       "      <td>-0.043508</td>\n",
       "      <td>-0.027263</td>\n",
       "      <td>0.108231</td>\n",
       "      <td>-0.158577</td>\n",
       "      <td>0.118317</td>\n",
       "      <td>-0.172148</td>\n",
       "      <td>0.023622</td>\n",
       "    </tr>\n",
       "    <tr>\n",
       "      <th>...</th>\n",
       "      <th>...</th>\n",
       "      <td>...</td>\n",
       "      <td>...</td>\n",
       "      <td>...</td>\n",
       "      <td>...</td>\n",
       "      <td>...</td>\n",
       "      <td>...</td>\n",
       "      <td>...</td>\n",
       "      <td>...</td>\n",
       "      <td>...</td>\n",
       "      <td>...</td>\n",
       "      <td>...</td>\n",
       "      <td>...</td>\n",
       "      <td>...</td>\n",
       "      <td>...</td>\n",
       "    </tr>\n",
       "    <tr>\n",
       "      <th rowspan=\"5\" valign=\"top\">Wednesday</th>\n",
       "      <th>pickup_centroid_latitude</th>\n",
       "      <td>0.005304</td>\n",
       "      <td>0.089168</td>\n",
       "      <td>0.063357</td>\n",
       "      <td>0.094337</td>\n",
       "      <td>0.123861</td>\n",
       "      <td>0.130355</td>\n",
       "      <td>0.124730</td>\n",
       "      <td>-0.063135</td>\n",
       "      <td>-0.034371</td>\n",
       "      <td>1.000000</td>\n",
       "      <td>-0.462971</td>\n",
       "      <td>0.651074</td>\n",
       "      <td>-0.228161</td>\n",
       "      <td>0.005263</td>\n",
       "    </tr>\n",
       "    <tr>\n",
       "      <th>pickup_centroid_longitude</th>\n",
       "      <td>-0.005165</td>\n",
       "      <td>-0.287914</td>\n",
       "      <td>-0.340364</td>\n",
       "      <td>-0.234750</td>\n",
       "      <td>-0.146884</td>\n",
       "      <td>-0.318305</td>\n",
       "      <td>-0.281977</td>\n",
       "      <td>0.015114</td>\n",
       "      <td>0.011344</td>\n",
       "      <td>-0.462971</td>\n",
       "      <td>1.000000</td>\n",
       "      <td>-0.227824</td>\n",
       "      <td>0.218258</td>\n",
       "      <td>-0.005206</td>\n",
       "    </tr>\n",
       "    <tr>\n",
       "      <th>dropoff_centroid_latitude</th>\n",
       "      <td>0.009221</td>\n",
       "      <td>0.093295</td>\n",
       "      <td>0.089551</td>\n",
       "      <td>0.120544</td>\n",
       "      <td>0.143251</td>\n",
       "      <td>0.169969</td>\n",
       "      <td>0.163513</td>\n",
       "      <td>-0.061111</td>\n",
       "      <td>-0.029055</td>\n",
       "      <td>0.651074</td>\n",
       "      <td>-0.227824</td>\n",
       "      <td>1.000000</td>\n",
       "      <td>-0.485962</td>\n",
       "      <td>0.009210</td>\n",
       "    </tr>\n",
       "    <tr>\n",
       "      <th>dropoff_centroid_longitude</th>\n",
       "      <td>-0.016807</td>\n",
       "      <td>-0.318281</td>\n",
       "      <td>-0.409235</td>\n",
       "      <td>-0.318763</td>\n",
       "      <td>-0.212321</td>\n",
       "      <td>-0.450327</td>\n",
       "      <td>-0.403037</td>\n",
       "      <td>0.019677</td>\n",
       "      <td>0.017843</td>\n",
       "      <td>-0.228161</td>\n",
       "      <td>0.218258</td>\n",
       "      <td>-0.485962</td>\n",
       "      <td>1.000000</td>\n",
       "      <td>-0.016995</td>\n",
       "    </tr>\n",
       "    <tr>\n",
       "      <th>date</th>\n",
       "      <td>0.999998</td>\n",
       "      <td>0.066845</td>\n",
       "      <td>0.032552</td>\n",
       "      <td>0.028012</td>\n",
       "      <td>0.034613</td>\n",
       "      <td>0.061806</td>\n",
       "      <td>0.042783</td>\n",
       "      <td>0.139429</td>\n",
       "      <td>0.089979</td>\n",
       "      <td>0.005263</td>\n",
       "      <td>-0.005206</td>\n",
       "      <td>0.009210</td>\n",
       "      <td>-0.016995</td>\n",
       "      <td>1.000000</td>\n",
       "    </tr>\n",
       "  </tbody>\n",
       "</table>\n",
       "<p>98 rows × 14 columns</p>\n",
       "</div>"
      ],
      "text/plain": [
       "                                      trip_start_timestamp  trip_seconds  \\\n",
       "weekday                                                                    \n",
       "Friday    trip_start_timestamp                    1.000000      0.047625   \n",
       "          trip_seconds                            0.047625      1.000000   \n",
       "          trip_miles                              0.026106      0.822710   \n",
       "          fare                                   -0.006595      0.725692   \n",
       "          tip                                     0.023573      0.282425   \n",
       "...                                                    ...           ...   \n",
       "Wednesday pickup_centroid_latitude                0.005304      0.089168   \n",
       "          pickup_centroid_longitude              -0.005165     -0.287914   \n",
       "          dropoff_centroid_latitude               0.009221      0.093295   \n",
       "          dropoff_centroid_longitude             -0.016807     -0.318281   \n",
       "          date                                    0.999998      0.066845   \n",
       "\n",
       "                                      trip_miles      fare       tip  \\\n",
       "weekday                                                                \n",
       "Friday    trip_start_timestamp          0.026106 -0.006595  0.023573   \n",
       "          trip_seconds                  0.822710  0.725692  0.282425   \n",
       "          trip_miles                    1.000000  0.739809  0.299313   \n",
       "          fare                          0.739809  1.000000  0.367327   \n",
       "          tip                           0.299313  0.367327  1.000000   \n",
       "...                                          ...       ...       ...   \n",
       "Wednesday pickup_centroid_latitude      0.063357  0.094337  0.123861   \n",
       "          pickup_centroid_longitude    -0.340364 -0.234750 -0.146884   \n",
       "          dropoff_centroid_latitude     0.089551  0.120544  0.143251   \n",
       "          dropoff_centroid_longitude   -0.409235 -0.318763 -0.212321   \n",
       "          date                          0.032552  0.028012  0.034613   \n",
       "\n",
       "                                      additional_charges  trip_total  \\\n",
       "weekday                                                                \n",
       "Friday    trip_start_timestamp                  0.047569    0.009650   \n",
       "          trip_seconds                          0.475388    0.740373   \n",
       "          trip_miles                            0.572869    0.777022   \n",
       "          fare                                  0.409643    0.960020   \n",
       "          tip                                   0.270684    0.526990   \n",
       "...                                                  ...         ...   \n",
       "Wednesday pickup_centroid_latitude              0.130355    0.124730   \n",
       "          pickup_centroid_longitude            -0.318305   -0.281977   \n",
       "          dropoff_centroid_latitude             0.169969    0.163513   \n",
       "          dropoff_centroid_longitude           -0.450327   -0.403037   \n",
       "          date                                  0.061806    0.042783   \n",
       "\n",
       "                                      shared_trip_authorized  trips_pooled  \\\n",
       "weekday                                                                      \n",
       "Friday    trip_start_timestamp                      0.133681      0.092963   \n",
       "          trip_seconds                              0.036593      0.068520   \n",
       "          trip_miles                                0.036454      0.059706   \n",
       "          fare                                     -0.038412     -0.007572   \n",
       "          tip                                      -0.043508     -0.027263   \n",
       "...                                                      ...           ...   \n",
       "Wednesday pickup_centroid_latitude                 -0.063135     -0.034371   \n",
       "          pickup_centroid_longitude                 0.015114      0.011344   \n",
       "          dropoff_centroid_latitude                -0.061111     -0.029055   \n",
       "          dropoff_centroid_longitude                0.019677      0.017843   \n",
       "          date                                      0.139429      0.089979   \n",
       "\n",
       "                                      pickup_centroid_latitude  \\\n",
       "weekday                                                          \n",
       "Friday    trip_start_timestamp                        0.000606   \n",
       "          trip_seconds                                0.065516   \n",
       "          trip_miles                                  0.032875   \n",
       "          fare                                        0.056907   \n",
       "          tip                                         0.108231   \n",
       "...                                                        ...   \n",
       "Wednesday pickup_centroid_latitude                    1.000000   \n",
       "          pickup_centroid_longitude                  -0.462971   \n",
       "          dropoff_centroid_latitude                   0.651074   \n",
       "          dropoff_centroid_longitude                 -0.228161   \n",
       "          date                                        0.005263   \n",
       "\n",
       "                                      pickup_centroid_longitude  \\\n",
       "weekday                                                           \n",
       "Friday    trip_start_timestamp                        -0.006694   \n",
       "          trip_seconds                                -0.302921   \n",
       "          trip_miles                                  -0.348857   \n",
       "          fare                                        -0.241568   \n",
       "          tip                                         -0.158577   \n",
       "...                                                         ...   \n",
       "Wednesday pickup_centroid_latitude                    -0.462971   \n",
       "          pickup_centroid_longitude                    1.000000   \n",
       "          dropoff_centroid_latitude                   -0.227824   \n",
       "          dropoff_centroid_longitude                   0.218258   \n",
       "          date                                        -0.005206   \n",
       "\n",
       "                                      dropoff_centroid_latitude  \\\n",
       "weekday                                                           \n",
       "Friday    trip_start_timestamp                        -0.001570   \n",
       "          trip_seconds                                 0.058552   \n",
       "          trip_miles                                   0.047703   \n",
       "          fare                                         0.078531   \n",
       "          tip                                          0.118317   \n",
       "...                                                         ...   \n",
       "Wednesday pickup_centroid_latitude                     0.651074   \n",
       "          pickup_centroid_longitude                   -0.227824   \n",
       "          dropoff_centroid_latitude                    1.000000   \n",
       "          dropoff_centroid_longitude                  -0.485962   \n",
       "          date                                         0.009210   \n",
       "\n",
       "                                      dropoff_centroid_longitude      date  \n",
       "weekday                                                                     \n",
       "Friday    trip_start_timestamp                         -0.009730  0.999997  \n",
       "          trip_seconds                                 -0.291459  0.047818  \n",
       "          trip_miles                                   -0.390132  0.026293  \n",
       "          fare                                         -0.285549 -0.006404  \n",
       "          tip                                          -0.172148  0.023622  \n",
       "...                                                          ...       ...  \n",
       "Wednesday pickup_centroid_latitude                     -0.228161  0.005263  \n",
       "          pickup_centroid_longitude                     0.218258 -0.005206  \n",
       "          dropoff_centroid_latitude                    -0.485962  0.009210  \n",
       "          dropoff_centroid_longitude                    1.000000 -0.016995  \n",
       "          date                                         -0.016995  1.000000  \n",
       "\n",
       "[98 rows x 14 columns]"
      ]
     },
     "execution_count": 12,
     "metadata": {},
     "output_type": "execute_result"
    }
   ],
   "source": [
    "df.groupby('weekday').corr()"
   ]
  },
  {
   "cell_type": "code",
   "execution_count": 13,
   "metadata": {},
   "outputs": [
    {
     "data": {
      "text/html": [
       "<div>\n",
       "<style scoped>\n",
       "    .dataframe tbody tr th:only-of-type {\n",
       "        vertical-align: middle;\n",
       "    }\n",
       "\n",
       "    .dataframe tbody tr th {\n",
       "        vertical-align: top;\n",
       "    }\n",
       "\n",
       "    .dataframe thead th {\n",
       "        text-align: right;\n",
       "    }\n",
       "</style>\n",
       "<table border=\"1\" class=\"dataframe\">\n",
       "  <thead>\n",
       "    <tr style=\"text-align: right;\">\n",
       "      <th></th>\n",
       "      <th>trip_seconds</th>\n",
       "      <th>trip_miles</th>\n",
       "      <th>fare</th>\n",
       "      <th>tip</th>\n",
       "      <th>additional_charges</th>\n",
       "      <th>trip_total</th>\n",
       "      <th>shared_trip_authorized</th>\n",
       "      <th>trips_pooled</th>\n",
       "    </tr>\n",
       "  </thead>\n",
       "  <tbody>\n",
       "    <tr>\n",
       "      <th>trip_seconds</th>\n",
       "      <td>1.000000</td>\n",
       "      <td>0.826908</td>\n",
       "      <td>0.708134</td>\n",
       "      <td>0.269926</td>\n",
       "      <td>0.467459</td>\n",
       "      <td>0.724395</td>\n",
       "      <td>0.030706</td>\n",
       "      <td>0.063508</td>\n",
       "    </tr>\n",
       "    <tr>\n",
       "      <th>trip_miles</th>\n",
       "      <td>0.826908</td>\n",
       "      <td>1.000000</td>\n",
       "      <td>0.737457</td>\n",
       "      <td>0.290126</td>\n",
       "      <td>0.564628</td>\n",
       "      <td>0.774934</td>\n",
       "      <td>0.028911</td>\n",
       "      <td>0.054949</td>\n",
       "    </tr>\n",
       "    <tr>\n",
       "      <th>fare</th>\n",
       "      <td>0.708134</td>\n",
       "      <td>0.737457</td>\n",
       "      <td>1.000000</td>\n",
       "      <td>0.359816</td>\n",
       "      <td>0.404739</td>\n",
       "      <td>0.956906</td>\n",
       "      <td>-0.043880</td>\n",
       "      <td>-0.010953</td>\n",
       "    </tr>\n",
       "    <tr>\n",
       "      <th>tip</th>\n",
       "      <td>0.269926</td>\n",
       "      <td>0.290126</td>\n",
       "      <td>0.359816</td>\n",
       "      <td>1.000000</td>\n",
       "      <td>0.272373</td>\n",
       "      <td>0.519696</td>\n",
       "      <td>-0.046435</td>\n",
       "      <td>-0.026000</td>\n",
       "    </tr>\n",
       "    <tr>\n",
       "      <th>additional_charges</th>\n",
       "      <td>0.467459</td>\n",
       "      <td>0.564628</td>\n",
       "      <td>0.404739</td>\n",
       "      <td>0.272373</td>\n",
       "      <td>1.000000</td>\n",
       "      <td>0.612995</td>\n",
       "      <td>-0.079156</td>\n",
       "      <td>-0.065894</td>\n",
       "    </tr>\n",
       "    <tr>\n",
       "      <th>trip_total</th>\n",
       "      <td>0.724395</td>\n",
       "      <td>0.774934</td>\n",
       "      <td>0.956906</td>\n",
       "      <td>0.519696</td>\n",
       "      <td>0.612995</td>\n",
       "      <td>1.000000</td>\n",
       "      <td>-0.062099</td>\n",
       "      <td>-0.029183</td>\n",
       "    </tr>\n",
       "    <tr>\n",
       "      <th>shared_trip_authorized</th>\n",
       "      <td>0.030706</td>\n",
       "      <td>0.028911</td>\n",
       "      <td>-0.043880</td>\n",
       "      <td>-0.046435</td>\n",
       "      <td>-0.079156</td>\n",
       "      <td>-0.062099</td>\n",
       "      <td>1.000000</td>\n",
       "      <td>0.576066</td>\n",
       "    </tr>\n",
       "    <tr>\n",
       "      <th>trips_pooled</th>\n",
       "      <td>0.063508</td>\n",
       "      <td>0.054949</td>\n",
       "      <td>-0.010953</td>\n",
       "      <td>-0.026000</td>\n",
       "      <td>-0.065894</td>\n",
       "      <td>-0.029183</td>\n",
       "      <td>0.576066</td>\n",
       "      <td>1.000000</td>\n",
       "    </tr>\n",
       "  </tbody>\n",
       "</table>\n",
       "</div>"
      ],
      "text/plain": [
       "                        trip_seconds  trip_miles      fare       tip  \\\n",
       "trip_seconds                1.000000    0.826908  0.708134  0.269926   \n",
       "trip_miles                  0.826908    1.000000  0.737457  0.290126   \n",
       "fare                        0.708134    0.737457  1.000000  0.359816   \n",
       "tip                         0.269926    0.290126  0.359816  1.000000   \n",
       "additional_charges          0.467459    0.564628  0.404739  0.272373   \n",
       "trip_total                  0.724395    0.774934  0.956906  0.519696   \n",
       "shared_trip_authorized      0.030706    0.028911 -0.043880 -0.046435   \n",
       "trips_pooled                0.063508    0.054949 -0.010953 -0.026000   \n",
       "\n",
       "                        additional_charges  trip_total  \\\n",
       "trip_seconds                      0.467459    0.724395   \n",
       "trip_miles                        0.564628    0.774934   \n",
       "fare                              0.404739    0.956906   \n",
       "tip                               0.272373    0.519696   \n",
       "additional_charges                1.000000    0.612995   \n",
       "trip_total                        0.612995    1.000000   \n",
       "shared_trip_authorized           -0.079156   -0.062099   \n",
       "trips_pooled                     -0.065894   -0.029183   \n",
       "\n",
       "                        shared_trip_authorized  trips_pooled  \n",
       "trip_seconds                          0.030706      0.063508  \n",
       "trip_miles                            0.028911      0.054949  \n",
       "fare                                 -0.043880     -0.010953  \n",
       "tip                                  -0.046435     -0.026000  \n",
       "additional_charges                   -0.079156     -0.065894  \n",
       "trip_total                           -0.062099     -0.029183  \n",
       "shared_trip_authorized                1.000000      0.576066  \n",
       "trips_pooled                          0.576066      1.000000  "
      ]
     },
     "execution_count": 13,
     "metadata": {},
     "output_type": "execute_result"
    }
   ],
   "source": [
    "df_short = df[['trip_seconds', 'trip_miles', 'fare', 'tip', 'additional_charges', 'trip_total', 'shared_trip_authorized', 'trips_pooled']]\n",
    "df_short.corr()"
   ]
  },
  {
   "cell_type": "code",
   "execution_count": 14,
   "metadata": {},
   "outputs": [
    {
     "data": {
      "text/plain": [
       "array([[<Axes: title={'center': 'trip_seconds'}>,\n",
       "        <Axes: title={'center': 'trip_miles'}>,\n",
       "        <Axes: title={'center': 'fare'}>],\n",
       "       [<Axes: title={'center': 'tip'}>,\n",
       "        <Axes: title={'center': 'additional_charges'}>,\n",
       "        <Axes: title={'center': 'trip_total'}>],\n",
       "       [<Axes: title={'center': 'shared_trip_authorized'}>,\n",
       "        <Axes: title={'center': 'trips_pooled'}>, <Axes: >]], dtype=object)"
      ]
     },
     "execution_count": 14,
     "metadata": {},
     "output_type": "execute_result"
    },
    {
     "data": {
      "image/png": "[encoded data removed]",
      "text/plain": [
       "<Figure size 640x480 with 9 Axes>"
      ]
     },
     "metadata": {},
     "output_type": "display_data"
    }
   ],
   "source": [
    "df_short.hist()"
   ]
  },
  {
   "cell_type": "code",
   "execution_count": 15,
   "metadata": {},
   "outputs": [
    {
     "data": {
      "text/plain": [
       "<Axes: >"
      ]
     },
     "execution_count": 15,
     "metadata": {},
     "output_type": "execute_result"
    },
    {
     "data": {
      "image/png": "[encoded data removed]",
      "text/plain": [
       "<Figure size 640x480 with 1 Axes>"
      ]
     },
     "metadata": {},
     "output_type": "display_data"
    }
   ],
   "source": [
    "df_short.boxplot()"
   ]
  },
  {
   "cell_type": "code",
   "execution_count": 16,
   "metadata": {},
   "outputs": [],
   "source": [
    "#pd.plotting.scatter_matrix(df_short)"
   ]
  },
  {
   "cell_type": "code",
   "execution_count": 18,
   "metadata": {},
   "outputs": [
    {
     "data": {
      "text/html": [
       "<div>\n",
       "<style scoped>\n",
       "    .dataframe tbody tr th:only-of-type {\n",
       "        vertical-align: middle;\n",
       "    }\n",
       "\n",
       "    .dataframe tbody tr th {\n",
       "        vertical-align: top;\n",
       "    }\n",
       "\n",
       "    .dataframe thead th {\n",
       "        text-align: right;\n",
       "    }\n",
       "</style>\n",
       "<table border=\"1\" class=\"dataframe\">\n",
       "  <thead>\n",
       "    <tr style=\"text-align: right;\">\n",
       "      <th></th>\n",
       "      <th>trip_seconds</th>\n",
       "      <th>trip_miles</th>\n",
       "      <th>fare</th>\n",
       "      <th>tip</th>\n",
       "      <th>additional_charges</th>\n",
       "      <th>trip_total</th>\n",
       "      <th>shared_trip_authorized</th>\n",
       "      <th>trips_pooled</th>\n",
       "    </tr>\n",
       "  </thead>\n",
       "  <tbody>\n",
       "    <tr>\n",
       "      <th>0</th>\n",
       "      <td>3905.0</td>\n",
       "      <td>44.5</td>\n",
       "      <td>55.0</td>\n",
       "      <td>0.0</td>\n",
       "      <td>11.25</td>\n",
       "      <td>66.25</td>\n",
       "      <td>0</td>\n",
       "      <td>1</td>\n",
       "    </tr>\n",
       "    <tr>\n",
       "      <th>1</th>\n",
       "      <td>2299.0</td>\n",
       "      <td>25.0</td>\n",
       "      <td>32.5</td>\n",
       "      <td>7.0</td>\n",
       "      <td>7.18</td>\n",
       "      <td>46.68</td>\n",
       "      <td>0</td>\n",
       "      <td>1</td>\n",
       "    </tr>\n",
       "    <tr>\n",
       "      <th>2</th>\n",
       "      <td>275.0</td>\n",
       "      <td>1.5</td>\n",
       "      <td>7.5</td>\n",
       "      <td>0.0</td>\n",
       "      <td>1.02</td>\n",
       "      <td>8.52</td>\n",
       "      <td>0</td>\n",
       "      <td>1</td>\n",
       "    </tr>\n",
       "    <tr>\n",
       "      <th>3</th>\n",
       "      <td>243.0</td>\n",
       "      <td>1.0</td>\n",
       "      <td>5.0</td>\n",
       "      <td>0.0</td>\n",
       "      <td>2.36</td>\n",
       "      <td>7.36</td>\n",
       "      <td>0</td>\n",
       "      <td>1</td>\n",
       "    </tr>\n",
       "    <tr>\n",
       "      <th>4</th>\n",
       "      <td>364.0</td>\n",
       "      <td>1.3</td>\n",
       "      <td>5.0</td>\n",
       "      <td>0.0</td>\n",
       "      <td>2.36</td>\n",
       "      <td>7.36</td>\n",
       "      <td>0</td>\n",
       "      <td>1</td>\n",
       "    </tr>\n",
       "  </tbody>\n",
       "</table>\n",
       "</div>"
      ],
      "text/plain": [
       "   trip_seconds  trip_miles  fare  tip  additional_charges  trip_total  \\\n",
       "0        3905.0        44.5  55.0  0.0               11.25       66.25   \n",
       "1        2299.0        25.0  32.5  7.0                7.18       46.68   \n",
       "2         275.0         1.5   7.5  0.0                1.02        8.52   \n",
       "3         243.0         1.0   5.0  0.0                2.36        7.36   \n",
       "4         364.0         1.3   5.0  0.0                2.36        7.36   \n",
       "\n",
       "   shared_trip_authorized  trips_pooled  \n",
       "0                       0             1  \n",
       "1                       0             1  \n",
       "2                       0             1  \n",
       "3                       0             1  \n",
       "4                       0             1  "
      ]
     },
     "execution_count": 18,
     "metadata": {},
     "output_type": "execute_result"
    }
   ],
   "source": [
    "df_short.head()"
   ]
  },
  {
   "cell_type": "code",
   "execution_count": 19,
   "metadata": {},
   "outputs": [
    {
     "data": {
      "text/html": [
       "<div>\n",
       "<style scoped>\n",
       "    .dataframe tbody tr th:only-of-type {\n",
       "        vertical-align: middle;\n",
       "    }\n",
       "\n",
       "    .dataframe tbody tr th {\n",
       "        vertical-align: top;\n",
       "    }\n",
       "\n",
       "    .dataframe thead th {\n",
       "        text-align: right;\n",
       "    }\n",
       "</style>\n",
       "<table border=\"1\" class=\"dataframe\">\n",
       "  <thead>\n",
       "    <tr style=\"text-align: right;\">\n",
       "      <th></th>\n",
       "      <th>trip_seconds</th>\n",
       "      <th>trip_miles</th>\n",
       "      <th>fare</th>\n",
       "      <th>tip</th>\n",
       "      <th>additional_charges</th>\n",
       "      <th>trip_total</th>\n",
       "      <th>shared_trip_authorized</th>\n",
       "      <th>trips_pooled</th>\n",
       "    </tr>\n",
       "  </thead>\n",
       "  <tbody>\n",
       "    <tr>\n",
       "      <th>count</th>\n",
       "      <td>691073.000000</td>\n",
       "      <td>691096.000000</td>\n",
       "      <td>689952.000000</td>\n",
       "      <td>689952.000000</td>\n",
       "      <td>689952.000000</td>\n",
       "      <td>689952.000000</td>\n",
       "      <td>691098.000000</td>\n",
       "      <td>691098.000000</td>\n",
       "    </tr>\n",
       "    <tr>\n",
       "      <th>mean</th>\n",
       "      <td>1089.008338</td>\n",
       "      <td>6.941224</td>\n",
       "      <td>18.577024</td>\n",
       "      <td>1.264072</td>\n",
       "      <td>4.694999</td>\n",
       "      <td>24.536095</td>\n",
       "      <td>0.022537</td>\n",
       "      <td>1.010250</td>\n",
       "    </tr>\n",
       "    <tr>\n",
       "      <th>std</th>\n",
       "      <td>782.835520</td>\n",
       "      <td>7.773458</td>\n",
       "      <td>14.069854</td>\n",
       "      <td>2.923235</td>\n",
       "      <td>4.314872</td>\n",
       "      <td>17.627719</td>\n",
       "      <td>0.148421</td>\n",
       "      <td>0.113987</td>\n",
       "    </tr>\n",
       "    <tr>\n",
       "      <th>min</th>\n",
       "      <td>1.000000</td>\n",
       "      <td>0.000000</td>\n",
       "      <td>0.000000</td>\n",
       "      <td>0.000000</td>\n",
       "      <td>0.000000</td>\n",
       "      <td>0.000000</td>\n",
       "      <td>0.000000</td>\n",
       "      <td>1.000000</td>\n",
       "    </tr>\n",
       "    <tr>\n",
       "      <th>25%</th>\n",
       "      <td>543.000000</td>\n",
       "      <td>2.000000</td>\n",
       "      <td>10.000000</td>\n",
       "      <td>0.000000</td>\n",
       "      <td>2.490000</td>\n",
       "      <td>13.440000</td>\n",
       "      <td>0.000000</td>\n",
       "      <td>1.000000</td>\n",
       "    </tr>\n",
       "    <tr>\n",
       "      <th>50%</th>\n",
       "      <td>880.000000</td>\n",
       "      <td>4.100000</td>\n",
       "      <td>15.000000</td>\n",
       "      <td>0.000000</td>\n",
       "      <td>3.550000</td>\n",
       "      <td>19.020000</td>\n",
       "      <td>0.000000</td>\n",
       "      <td>1.000000</td>\n",
       "    </tr>\n",
       "    <tr>\n",
       "      <th>75%</th>\n",
       "      <td>1416.000000</td>\n",
       "      <td>9.200000</td>\n",
       "      <td>22.500000</td>\n",
       "      <td>1.000000</td>\n",
       "      <td>5.460000</td>\n",
       "      <td>29.490000</td>\n",
       "      <td>0.000000</td>\n",
       "      <td>1.000000</td>\n",
       "    </tr>\n",
       "    <tr>\n",
       "      <th>max</th>\n",
       "      <td>34892.000000</td>\n",
       "      <td>366.900000</td>\n",
       "      <td>637.500000</td>\n",
       "      <td>100.000000</td>\n",
       "      <td>253.010000</td>\n",
       "      <td>656.750000</td>\n",
       "      <td>1.000000</td>\n",
       "      <td>5.000000</td>\n",
       "    </tr>\n",
       "  </tbody>\n",
       "</table>\n",
       "</div>"
      ],
      "text/plain": [
       "        trip_seconds     trip_miles           fare            tip  \\\n",
       "count  691073.000000  691096.000000  689952.000000  689952.000000   \n",
       "mean     1089.008338       6.941224      18.577024       1.264072   \n",
       "std       782.835520       7.773458      14.069854       2.923235   \n",
       "min         1.000000       0.000000       0.000000       0.000000   \n",
       "25%       543.000000       2.000000      10.000000       0.000000   \n",
       "50%       880.000000       4.100000      15.000000       0.000000   \n",
       "75%      1416.000000       9.200000      22.500000       1.000000   \n",
       "max     34892.000000     366.900000     637.500000     100.000000   \n",
       "\n",
       "       additional_charges     trip_total  shared_trip_authorized  \\\n",
       "count       689952.000000  689952.000000           691098.000000   \n",
       "mean             4.694999      24.536095                0.022537   \n",
       "std              4.314872      17.627719                0.148421   \n",
       "min              0.000000       0.000000                0.000000   \n",
       "25%              2.490000      13.440000                0.000000   \n",
       "50%              3.550000      19.020000                0.000000   \n",
       "75%              5.460000      29.490000                0.000000   \n",
       "max            253.010000     656.750000                1.000000   \n",
       "\n",
       "        trips_pooled  \n",
       "count  691098.000000  \n",
       "mean        1.010250  \n",
       "std         0.113987  \n",
       "min         1.000000  \n",
       "25%         1.000000  \n",
       "50%         1.000000  \n",
       "75%         1.000000  \n",
       "max         5.000000  "
      ]
     },
     "execution_count": 19,
     "metadata": {},
     "output_type": "execute_result"
    }
   ],
   "source": [
    "df_short.describe()"
   ]
  },
  {
   "cell_type": "code",
   "execution_count": null,
   "metadata": {},
   "outputs": [],
   "source": [
    "sns.pairplot(df_short)"
   ]
  },
  {
   "cell_type": "markdown",
   "metadata": {
    "id": "gqGiBrgln9vE"
   },
   "source": [
    "As you can see, this distribution is really heavy for smaller values, and has a really long tail, which is the values you are seeing as outliers.\n",
    "\n",
    "Go ahead and change the `column_to_plot` variable and plot the boxplots for other columns. Do they all have outliers only on one side? can you infer why?\n",
    "\n",
    "## 3.2 Visualize the Data on different weekdays\n",
    "\n",
    "If you want to split the data into subsets (for example for given days of the week) and plot a boxplot for each, you can easily do that using the parameter `by`. You just need to set it to the column name you want to use to split the data. Suppose you want to analize the `tip` variable by day of the week. Intuitively, what you are doing is creting classes according to the different days in `weekday`, and then analyzing the data for each of this classes. This way what you are actually doing is exploring the conditional distributions of a variable. In this case, you are looking at the tip given that it's a Monday, the tip given that it's a Tuesday, and so on."
   ]
  },
  {
   "cell_type": "code",
   "execution_count": null,
   "metadata": {},
   "outputs": [],
   "source": [
    "df.boxplot(column='tip', by='weekday')\n",
    "\n",
    "# Limit the plot in y direction. Comment this line of code to see full data\n",
    "plt.ylim(-2, 52)"
   ]
  },
  {
   "cell_type": "markdown",
   "metadata": {},
   "source": [
    "If you look closely, there are a couple of things that look a bit off in these boxplots. For example, what is happening with the Sunday data when you are looking at tips? It seems that there is no box in the boxplot. Also if you look more closely, the boxes that you see dont have a horizontal line in the middle. Why do you think this is happening? You can find a hint by thinking about the histogram of the tips that you saw in the previous notebook. Did the distribution have any interesting properties? If you don't remember what it looked like, feel free to create a new cell and draw the histogram. \n",
    "\n",
    "Another, more obvious, hint is in the summary statistics. Run the cell below to display them again, but this time you will do it just for the `tip` column, grouped by `weekday`."
   ]
  },
  {
   "cell_type": "code",
   "execution_count": null,
   "metadata": {},
   "outputs": [],
   "source": [
    "# Group the data by the day of the week, select the tip column and calculate the descriptive statistics.\n",
    "df.groupby('weekday')['tip'].describe()"
   ]
  },
  {
   "cell_type": "markdown",
   "metadata": {
    "id": "wdDhD8Sv7_LS"
   },
   "source": [
    "You can see that there are a lot of zeroes in this dataframe. Where do they all come from? It turns out that on Sunday more than 75% of the people did not tip. This makes the first three quartiles all show a zero, which is why you couldn't see a box on the boxplot. Remember that the size of the box is the distance between the values in the columns `25%` and `75%`. If these are both zero, the size of the box must also be zero.\n",
    "\n",
    "On the other days, however, less than 75% of the people did not tip, thus you have a nonzero value of the tip in the third quartile (in the column with name 75%). What does it mean for the plots? You have guessed it: the boxes appear. However, you still can't see the middle line and that is because the median (50% of the data) is the same as the first quaritle (25%), and thus the two lines overlap at zero.\n",
    "\n",
    "An interesting insight: on Sunday, all of the tips are outliers.\n",
    "\n",
    "Now, let's repeat the process but leave out non-tippers. This should give you a better understanding of the distribution of the actual tips."
   ]
  },
  {
   "cell_type": "code",
   "execution_count": null,
   "metadata": {
    "id": "X0jc57J3zbIv"
   },
   "outputs": [],
   "source": [
    "df_tippers = df[df['tip'] > 0]\n",
    "df_tippers.boxplot(column='tip', by='weekday')"
   ]
  },
  {
   "cell_type": "markdown",
   "metadata": {
    "id": "WphshSH43CnP"
   },
   "source": [
    "This plot gives you a better insight into the distribution of the tips that actually happened, however it misses an important piece of information: how many people do actually tip? You have calculated this already in the previous notebook.\n",
    "\n",
    "Imagine you are a driver. Is there any day of the week that you would like to drive more, as the tips are higher? \n",
    "Spliting by day of the week doesn't seem to have much of an impact to make this decision. Maybe you can have a look at the tips given different hours of day. Perhaps there is a higher chance of getitng tipped at a certain hour. Lets see if that's the case by running the cell below. For this, you will need to extract the hour of the trip for the `trip_start_timestamp` column, and save it on a new column in the dataframe."
   ]
  },
  {
   "cell_type": "code",
   "execution_count": null,
   "metadata": {
    "id": "Kuq8qMpRDSBc"
   },
   "outputs": [],
   "source": [
    "# Add a column for the hour of day to the dataframe\n",
    "df[\"hour\"] = df[\"trip_start_timestamp\"].apply(lambda x: x.hour)\n",
    "# Select only the tippers\n",
    "df_tippers = df[df['tip'] > 0]\n",
    "\n",
    "# Plot the boxplot of tips for each hour\n",
    "plt.figure()\n",
    "df_tippers.boxplot(column='tip', by='hour')\n",
    "plt.ylim(-2, 52)\n",
    "\n",
    "# Calculate the percentage of tippers\n",
    "percentage_of_tippers_hourly = df_tippers.groupby([\"hour\"])[\"tip\"].count() / df.groupby([\"hour\"])[\"tip\"].count() * 100\n",
    "\n",
    "# Plot the percentage of tippers\n",
    "plt.figure()\n",
    "percentage_of_tippers_hourly.plot(marker=\"o\", title=\"Percentage of Tippers\")"
   ]
  },
  {
   "cell_type": "markdown",
   "metadata": {
    "id": "j8eqnSKz6Y9i"
   },
   "source": [
    "It seems like the tips are slightly higher in the morning hours. But why would the tips be higher in the early morning? Maybe this has to do with the hour of day, perhaps people feel more empathy in the morning. Before you jump to this conclusion, however, let's see if there's any other explanations worth considering.\n",
    "\n",
    "Let's see if you can get any any extra information by looking at the the lenght of the trip. Plot the length of the trip next to see how it changes through the day:"
   ]
  },
  {
   "cell_type": "code",
   "execution_count": null,
   "metadata": {},
   "outputs": [],
   "source": [
    "df.boxplot(column='trip_miles', by='hour')\n",
    "plt.ylim(-10, 210)"
   ]
  },
  {
   "cell_type": "markdown",
   "metadata": {},
   "source": [
    "As you can see the trips are longer in the early morning hours. Now this is getting interesting. Maybe this is the reason for the higher average tips? Run the next cell to plot a scatter plot of `trip_miles` vs `tip`. Remember that you are only looking at the tippers (no tippers would just contribute to many additional points at tip=0)."
   ]
  },
  {
   "cell_type": "code",
   "execution_count": null,
   "metadata": {},
   "outputs": [],
   "source": [
    "df_tippers.plot(kind='scatter', x='trip_miles', y='tip', marker=\".\")"
   ]
  },
  {
   "cell_type": "markdown",
   "metadata": {
    "id": "rTzNZQFthjvn"
   },
   "source": [
    "Can you say something about the correlation between these two variables?  Remember that the correation was a scaled version of the Covariance, that was scaled to have range between -1 and 1\n",
    "<img src=\"./images/corr_coef_screenshot.png\" width=400)>\n",
    "\n",
    "The plot suggests that the riders pay higher tips for longer rides, which would imply a positive correlation. However the correlation is not that obvious, so the correlation will be positive, but not close 1. This correlation makes sense, as longer rides also cost more and thus the tips are likely to be higher. \n",
    "\n",
    "You can actually measure the correlation between the two variables using Pandas. Let's do it in the cell below!"
   ]
  },
  {
   "cell_type": "code",
   "execution_count": null,
   "metadata": {},
   "outputs": [],
   "source": [
    "(df_tippers.tip).corr(df_tippers.trip_miles)"
   ]
  },
  {
   "cell_type": "markdown",
   "metadata": {},
   "source": [
    "You got a correlation of 0.637. Remember that 0 correlation means no correlation at all, while correlation 1 means a perfect linear relationship, with positive slope. In this case, as predicted you get a value somewhere in between, being slightly above 0.5. You could say this is a modeate correlation between variables. "
   ]
  },
  {
   "cell_type": "markdown",
   "metadata": {
    "id": "rTzNZQFthjvn"
   },
   "source": [
    "Now try changing the variables in the plot above to see other columns. For example, you can plot `tip` against `fare`. How does it compare with the `tip` against `trip_miles` plot? Try also checking the correlation and making a comparison. \n",
    "\n",
    "# 4. Check the Locations of Rides\n",
    "\n",
    "Another thing you might want to know is where the rides usually start. The dataset contains the columns \"Pickup Centroid Latitude\", \"Pickup Centroid Longitude\", \"Dropoff Centroid Latitude\", and \"Dropoff Centroid Longitude\", which tell you the locations of the pickup and dropoff respectively.\n",
    "\n",
    "Run the cell below to plot the geographical distribution of the pickup locations."
   ]
  },
  {
   "cell_type": "code",
   "execution_count": null,
   "metadata": {},
   "outputs": [],
   "source": [
    "# Select the columns you want to plot\n",
    "latitude = df.dropna()[\"pickup_centroid_latitude\"].to_numpy()\n",
    "longitude = df.dropna()[\"pickup_centroid_longitude\"].to_numpy()\n",
    "# Plot the 2D histogram\n",
    "fig, ax = plt.subplots(1, 1, figsize=(10, 6))\n",
    "hist = ax.hist2d(longitude, latitude, bins=50, density=True)\n",
    "ax.set_aspect(1.3, \"box\")\n",
    "fig.colorbar(hist[3])\n",
    "ax.set_xlabel(\"Longitude (degrees)\")\n",
    "ax.set_ylabel(\"Latitude (degrees)\")"
   ]
  },
  {
   "cell_type": "markdown",
   "metadata": {},
   "source": [
    "What you have just plotted is a joint distribution! Joint distributions are distributions where a variable (in your case `tip`) is distributed across multiple variables (in your case latitude and longitude).\n",
    "\n",
    "Looking at the distribution, it seems you have many rides in the middle right of the plot, which is likely to be downtown Chicago. But then there are also quite a few rides in the top left corner, very far away from everything else. What could there be at that location? \n",
    "\n",
    "To answer this question, you can actually produce an interactive map. Run the following code to do so, plotting the same points on an actual map of Chicago. In reality this cell is only going to plot a limited number of your data points, even from this downsampled data set, to ensure the map renders quickly enough. Check the locations on the map to see where the majority of the points are and what the location in the upper left could be.\n",
    "\n",
    "Note generating this map is a more resource intensive operation and can sometimes fail. If the map doesn't render after a short wait, you can try re-running the cell."
   ]
  },
  {
   "cell_type": "code",
   "execution_count": null,
   "metadata": {},
   "outputs": [],
   "source": [
    "# Define the function for plotting an interactive map\n",
    "def interactive_map(df, n_samples=4000):\n",
    "    \n",
    "    points = df[[\"pickup_centroid_longitude\", \"pickup_centroid_latitude\"]].dropna()[0:n_samples]\n",
    "    \n",
    "    latitude = points.iloc[0][\"pickup_centroid_latitude\"]\n",
    "    longitude = points.iloc[0][\"pickup_centroid_longitude\"]\n",
    "    \n",
    "    map3 = folium.Map(location=[latitude, longitude], zoom_start=9)\n",
    "\n",
    "    marker_cluster = FastMarkerCluster([]).add_to(map3)\n",
    "    \n",
    "    for index, row in points.iterrows():\n",
    "        latitude = row[\"pickup_centroid_latitude\"]\n",
    "        longitude = row[\"pickup_centroid_longitude\"]\n",
    "        folium.Marker((latitude, longitude), icon=folium.Icon(color=\"green\")).add_to(marker_cluster)\n",
    "\n",
    "    return map3\n",
    "\n",
    "# Run the function\n",
    "# If the map doesn’t render, first try re-running this cell. If that doesn’t work, \n",
    "# you can restart the kernel (from the Kernel menu above) and try running the notebook again\n",
    "interactive_map(df)"
   ]
  },
  {
   "cell_type": "markdown",
   "metadata": {},
   "source": [
    "If you inspect the map carefully, you probably noticed that the rides from the top left corner come from the Chicago O'Hare International Airport. Run the code below to isolate these rides by their latitude and longitude and inspect them."
   ]
  },
  {
   "cell_type": "code",
   "execution_count": null,
   "metadata": {},
   "outputs": [],
   "source": [
    "# Select all of the rides starting at the airport\n",
    "airport_rides = df[\n",
    "    (df[\"pickup_centroid_longitude\"] < -87.9) &\n",
    "    (df[\"pickup_centroid_latitude\"] > 41.97) &\n",
    "    (df[\"pickup_centroid_latitude\"] < 41.99)\n",
    "]\n",
    "\n",
    "airport_df_tippers = airport_rides[airport_rides['tip'] > 0]\n",
    "\n",
    "# Plot the boxplot of tips for each hour\n",
    "plt.figure()\n",
    "airport_df_tippers.boxplot(column='tip', by='hour')\n",
    "\n",
    "# Calculate the percentage of tippers\n",
    "airport_tippers_hourly = airport_df_tippers.groupby([\"hour\"])[\"tip\"].count() / airport_rides.groupby([\"hour\"])[\"tip\"].count() * 100\n",
    "\n",
    "# Plot the percentage of tippers\n",
    "plt.figure()\n",
    "airport_tippers_hourly.plot(marker=\"o\", title=\"Percentage of Tippers on Rides From the Airport\")"
   ]
  },
  {
   "cell_type": "markdown",
   "metadata": {},
   "source": [
    "As you can see the percentage of the people who tip is much higher for the rides that start at the airport. Looks like this is a good place to be as a driver!\n",
    "\n",
    "**Congratulations on finishing this lab.** You have seen the implementation of quite a few concepts covered in this course: probabilities, descriptive statistics, such as mean, median, standard deviation and quartiles, you plotted box plots and a 2D histogram to represent a joint distribution and you looked into marginal distributions. On top of that you have practiced Pandas and plotting. If you liked this exercise, look out for another similar notebook next week!"
   ]
  },
  {
   "cell_type": "code",
   "execution_count": null,
   "metadata": {},
   "outputs": [],
   "source": []
  }
 ],
 "metadata": {
  "colab": {
   "private_outputs": true,
   "provenance": []
  },
  "kernelspec": {
   "display_name": "Python 3 (ipykernel)",
   "language": "python",
   "name": "python3"
  },
  "language_info": {
   "codemirror_mode": {
    "name": "ipython",
    "version": 3
   },
   "file_extension": ".py",
   "mimetype": "text/x-python",
   "name": "python",
   "nbconvert_exporter": "python",
   "pygments_lexer": "ipython3",
   "version": "3.9.6"
  }
 },
 "nbformat": 4,
 "nbformat_minor": 1
}
