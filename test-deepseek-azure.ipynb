{
 "cells": [
  {
   "cell_type": "code",
   "execution_count": 12,
   "id": "df7d1cd5",
   "metadata": {},
   "outputs": [],
   "source": [
    "import os\n",
    "from azure.identity import DefaultAzureCredential\n",
    "from azure.ai.projects import AIProjectClient\n",
    "from azure.ai.inference import ChatCompletionsClient\n",
    "from azure.ai.inference.models import SystemMessage, UserMessage\n",
    "from azure.core.credentials import AzureKeyCredential\n",
    "from IPython.display import display, Markdown, Latex\n",
    "import re"
   ]
  },
  {
   "cell_type": "code",
   "execution_count": 53,
   "id": "1f686a0d",
   "metadata": {},
   "outputs": [],
   "source": [
    "def deepseek_chat_completions(prompt, temperature=None, max_tokens=None):\n",
    "    try:\n",
    "        endpoint = os.getenv(\"AZURE_DEEPSEEK_ENDPOINT\")\n",
    "        key = os.getenv(\"AZURE_DEEPSEEK_KEY\")\n",
    "    except KeyError:\n",
    "        print(\"Missing environment variable 'AZURE_DEEPSEEK_ENDPOINT' or 'AZURE_DEEPSEEK_KEY'\")\n",
    "        print(\"Set them before running this sample.\")\n",
    "        exit()\n",
    "    client = ChatCompletionsClient(endpoint=endpoint, \n",
    "                                   credential=AzureKeyCredential(key), \n",
    "                                   model=\"DeepSeek-R1\",\n",
    "                                   api_version='2024-05-01-preview',\n",
    "                                   temperature=temperature,\n",
    "                                   max_tokens=max_tokens)\n",
    "    \n",
    "\n",
    "    response = client.complete(\n",
    "        messages=[\n",
    "            SystemMessage(\"You are a helpful assistant. Please add to the response tag <summary></summary> and provide there short summary of the conversational context that could be used to continue the discsussion.\"),\n",
    "            UserMessage(prompt),\n",
    "        ]\n",
    "    )\n",
    "\n",
    "    print(response.choices[0].message.content)\n",
    "    return response"
   ]
  },
  {
   "cell_type": "code",
   "execution_count": 51,
   "id": "4d63d126",
   "metadata": {},
   "outputs": [
    {
     "name": "stdout",
     "output_type": "stream",
     "text": [
      "Help on class ChatCompletionsClient in module azure.ai.inference._patch:\n",
      "\n",
      "class ChatCompletionsClient(azure.ai.inference._client.ChatCompletionsClient)\n",
      " |  ChatCompletionsClient(endpoint: str, credential: Union[azure.core.credentials.AzureKeyCredential, ForwardRef('TokenCredential')], *, frequency_penalty: Optional[float] = None, presence_penalty: Optional[float] = None, temperature: Optional[float] = None, top_p: Optional[float] = None, max_tokens: Optional[int] = None, response_format: Union[Literal['text', 'json_object'], azure.ai.inference.models._models.JsonSchemaFormat, NoneType] = None, stop: Optional[List[str]] = None, tools: Optional[List[azure.ai.inference.models._models.ChatCompletionsToolDefinition]] = None, tool_choice: Union[str, azure.ai.inference.models._enums.ChatCompletionsToolChoicePreset, azure.ai.inference.models._models.ChatCompletionsNamedToolChoice, NoneType] = None, seed: Optional[int] = None, model: Optional[str] = None, model_extras: Optional[Dict[str, Any]] = None, **kwargs: Any) -> None\n",
      " |  \n",
      " |  ChatCompletionsClient.\n",
      " |  \n",
      " |  :param endpoint: Service endpoint URL for AI model inference. Required.\n",
      " |  :type endpoint: str\n",
      " |  :param credential: Credential used to authenticate requests to the service. Is either a\n",
      " |   AzureKeyCredential type or a TokenCredential type. Required.\n",
      " |  :type credential: ~azure.core.credentials.AzureKeyCredential or\n",
      " |   ~azure.core.credentials.TokenCredential\n",
      " |  :keyword frequency_penalty: A value that influences the probability of generated tokens\n",
      " |      appearing based on their cumulative frequency in generated text.\n",
      " |      Positive values will make tokens less likely to appear as their frequency increases and\n",
      " |      decrease the likelihood of the model repeating the same statements verbatim.\n",
      " |      Supported range is [-2, 2].\n",
      " |      Default value is None.\n",
      " |  :paramtype frequency_penalty: float\n",
      " |  :keyword presence_penalty: A value that influences the probability of generated tokens\n",
      " |      appearing based on their existing\n",
      " |      presence in generated text.\n",
      " |      Positive values will make tokens less likely to appear when they already exist and increase\n",
      " |      the model's likelihood to output new topics.\n",
      " |      Supported range is [-2, 2].\n",
      " |      Default value is None.\n",
      " |  :paramtype presence_penalty: float\n",
      " |  :keyword temperature: The sampling temperature to use that controls the apparent creativity of\n",
      " |      generated completions.\n",
      " |      Higher values will make output more random while lower values will make results more focused\n",
      " |      and deterministic.\n",
      " |      It is not recommended to modify temperature and top_p for the same completions request as the\n",
      " |      interaction of these two settings is difficult to predict.\n",
      " |      Supported range is [0, 1].\n",
      " |      Default value is None.\n",
      " |  :paramtype temperature: float\n",
      " |  :keyword top_p: An alternative to sampling with temperature called nucleus sampling. This value\n",
      " |      causes the\n",
      " |      model to consider the results of tokens with the provided probability mass. As an example, a\n",
      " |      value of 0.15 will cause only the tokens comprising the top 15% of probability mass to be\n",
      " |      considered.\n",
      " |      It is not recommended to modify temperature and top_p for the same completions request as the\n",
      " |      interaction of these two settings is difficult to predict.\n",
      " |      Supported range is [0, 1].\n",
      " |      Default value is None.\n",
      " |  :paramtype top_p: float\n",
      " |  :keyword max_tokens: The maximum number of tokens to generate. Default value is None.\n",
      " |  :paramtype max_tokens: int\n",
      " |  :keyword response_format: The format that the AI model must output. AI chat completions models typically output\n",
      " |      unformatted text by default. This is equivalent to setting \"text\" as the response_format.\n",
      " |      To output JSON format, without adhering to any schema, set to \"json_object\".\n",
      " |      To output JSON format adhering to a provided schema, set this to an object of the class\n",
      " |      ~azure.ai.inference.models.JsonSchemaFormat. Default value is None.\n",
      " |  :paramtype response_format: Union[Literal['text', 'json_object'], ~azure.ai.inference.models.JsonSchemaFormat]\n",
      " |  :keyword stop: A collection of textual sequences that will end completions generation. Default\n",
      " |      value is None.\n",
      " |  :paramtype stop: list[str]\n",
      " |  :keyword tools: The available tool definitions that the chat completions request can use,\n",
      " |      including caller-defined functions. Default value is None.\n",
      " |  :paramtype tools: list[~azure.ai.inference.models.ChatCompletionsToolDefinition]\n",
      " |  :keyword tool_choice: If specified, the model will configure which of the provided tools it can\n",
      " |      use for the chat completions response. Is either a Union[str,\n",
      " |      \"_models.ChatCompletionsToolChoicePreset\"] type or a ChatCompletionsNamedToolChoice type.\n",
      " |      Default value is None.\n",
      " |  :paramtype tool_choice: str or ~azure.ai.inference.models.ChatCompletionsToolChoicePreset or\n",
      " |      ~azure.ai.inference.models.ChatCompletionsNamedToolChoice\n",
      " |  :keyword seed: If specified, the system will make a best effort to sample deterministically\n",
      " |      such that repeated requests with the\n",
      " |      same seed and parameters should return the same result. Determinism is not guaranteed.\n",
      " |      Default value is None.\n",
      " |  :paramtype seed: int\n",
      " |  :keyword model: ID of the specific AI model to use, if more than one model is available on the\n",
      " |      endpoint. Default value is None.\n",
      " |  :paramtype model: str\n",
      " |  :keyword model_extras: Additional, model-specific parameters that are not in the\n",
      " |      standard request payload. They will be added as-is to the root of the JSON in the request body.\n",
      " |      How the service handles these extra parameters depends on the value of the\n",
      " |      ``extra-parameters`` request header. Default value is None.\n",
      " |  :paramtype model_extras: dict[str, Any]\n",
      " |  :keyword api_version: The API version to use for this operation. Default value is\n",
      " |   \"2024-05-01-preview\". Note that overriding this default value may result in unsupported\n",
      " |   behavior.\n",
      " |  :paramtype api_version: str\n",
      " |  \n",
      " |  Method resolution order:\n",
      " |      ChatCompletionsClient\n",
      " |      azure.ai.inference._client.ChatCompletionsClient\n",
      " |      azure.ai.inference._operations._operations.ChatCompletionsClientOperationsMixin\n",
      " |      azure.ai.inference._vendor.ChatCompletionsClientMixinABC\n",
      " |      abc.ABC\n",
      " |      builtins.object\n",
      " |  \n",
      " |  Methods defined here:\n",
      " |  \n",
      " |  __init__(self, endpoint: str, credential: Union[azure.core.credentials.AzureKeyCredential, ForwardRef('TokenCredential')], *, frequency_penalty: Optional[float] = None, presence_penalty: Optional[float] = None, temperature: Optional[float] = None, top_p: Optional[float] = None, max_tokens: Optional[int] = None, response_format: Union[Literal['text', 'json_object'], azure.ai.inference.models._models.JsonSchemaFormat, NoneType] = None, stop: Optional[List[str]] = None, tools: Optional[List[azure.ai.inference.models._models.ChatCompletionsToolDefinition]] = None, tool_choice: Union[str, azure.ai.inference.models._enums.ChatCompletionsToolChoicePreset, azure.ai.inference.models._models.ChatCompletionsNamedToolChoice, NoneType] = None, seed: Optional[int] = None, model: Optional[str] = None, model_extras: Optional[Dict[str, Any]] = None, **kwargs: Any) -> None\n",
      " |      Initialize self.  See help(type(self)) for accurate signature.\n",
      " |  \n",
      " |  __str__(self) -> str\n",
      " |      Return str(self).\n",
      " |  \n",
      " |  complete(self, body: Union[collections.abc.MutableMapping[str, Any], IO[bytes]] = <object object at 0x10607bf80>, *, messages: Union[List[azure.ai.inference.models._models.ChatRequestMessage], List[Dict[str, Any]]] = <object object at 0x10607bf80>, stream: Optional[bool] = None, frequency_penalty: Optional[float] = None, presence_penalty: Optional[float] = None, temperature: Optional[float] = None, top_p: Optional[float] = None, max_tokens: Optional[int] = None, response_format: Union[Literal['text', 'json_object'], azure.ai.inference.models._models.JsonSchemaFormat, NoneType] = None, stop: Optional[List[str]] = None, tools: Optional[List[azure.ai.inference.models._models.ChatCompletionsToolDefinition]] = None, tool_choice: Union[str, azure.ai.inference.models._enums.ChatCompletionsToolChoicePreset, azure.ai.inference.models._models.ChatCompletionsNamedToolChoice, NoneType] = None, seed: Optional[int] = None, model: Optional[str] = None, model_extras: Optional[Dict[str, Any]] = None, **kwargs: Any) -> Union[Iterable[azure.ai.inference.models._models.StreamingChatCompletionsUpdate], azure.ai.inference.models._patch.ChatCompletions]\n",
      " |      Gets chat completions for the provided chat messages.\n",
      " |      Completions support a wide variety of tasks and generate text that continues from or\n",
      " |      \"completes\" provided prompt data. When using this method with `stream=True`, the response is streamed\n",
      " |      back to the client. Iterate over the resulting :class:`~azure.ai.inference.models.StreamingChatCompletions`\n",
      " |      object to get content updates as they arrive.\n",
      " |      \n",
      " |      :param body: Is either a MutableMapping[str, Any] type (like a dictionary) or a IO[bytes] type\n",
      " |       that specifies the full request payload. Required.\n",
      " |      :type body: JSON or IO[bytes]\n",
      " |      :keyword messages: The collection of context messages associated with this chat completions\n",
      " |       request.\n",
      " |       Typical usage begins with a chat message for the System role that provides instructions for\n",
      " |       the behavior of the assistant, followed by alternating messages between the User and\n",
      " |       Assistant roles. Required.\n",
      " |      :paramtype messages: list[~azure.ai.inference.models.ChatRequestMessage] or list[dict[str, Any]]\n",
      " |      :keyword stream: A value indicating whether chat completions should be streamed for this request.\n",
      " |       Default value is False. If streaming is enabled, the response will be a StreamingChatCompletions.\n",
      " |       Otherwise the response will be a ChatCompletions.\n",
      " |      :paramtype stream: bool\n",
      " |      :keyword frequency_penalty: A value that influences the probability of generated tokens\n",
      " |       appearing based on their cumulative frequency in generated text.\n",
      " |       Positive values will make tokens less likely to appear as their frequency increases and\n",
      " |       decrease the likelihood of the model repeating the same statements verbatim.\n",
      " |       Supported range is [-2, 2].\n",
      " |       Default value is None.\n",
      " |      :paramtype frequency_penalty: float\n",
      " |      :keyword presence_penalty: A value that influences the probability of generated tokens\n",
      " |       appearing based on their existing\n",
      " |       presence in generated text.\n",
      " |       Positive values will make tokens less likely to appear when they already exist and increase\n",
      " |       the model's likelihood to output new topics.\n",
      " |       Supported range is [-2, 2].\n",
      " |       Default value is None.\n",
      " |      :paramtype presence_penalty: float\n",
      " |      :keyword temperature: The sampling temperature to use that controls the apparent creativity of\n",
      " |       generated completions.\n",
      " |       Higher values will make output more random while lower values will make results more focused\n",
      " |       and deterministic.\n",
      " |       It is not recommended to modify temperature and top_p for the same completions request as the\n",
      " |       interaction of these two settings is difficult to predict.\n",
      " |       Supported range is [0, 1].\n",
      " |       Default value is None.\n",
      " |      :paramtype temperature: float\n",
      " |      :keyword top_p: An alternative to sampling with temperature called nucleus sampling. This value\n",
      " |       causes the\n",
      " |       model to consider the results of tokens with the provided probability mass. As an example, a\n",
      " |       value of 0.15 will cause only the tokens comprising the top 15% of probability mass to be\n",
      " |       considered.\n",
      " |       It is not recommended to modify temperature and top_p for the same completions request as the\n",
      " |       interaction of these two settings is difficult to predict.\n",
      " |       Supported range is [0, 1].\n",
      " |       Default value is None.\n",
      " |      :paramtype top_p: float\n",
      " |      :keyword max_tokens: The maximum number of tokens to generate. Default value is None.\n",
      " |      :paramtype max_tokens: int\n",
      " |      :keyword response_format: The format that the AI model must output. AI chat completions models typically output\n",
      " |       unformatted text by default. This is equivalent to setting \"text\" as the response_format.\n",
      " |       To output JSON format, without adhering to any schema, set to \"json_object\".\n",
      " |       To output JSON format adhering to a provided schema, set this to an object of the class\n",
      " |       ~azure.ai.inference.models.JsonSchemaFormat. Default value is None.\n",
      " |      :paramtype response_format: Union[Literal['text', 'json_object'], ~azure.ai.inference.models.JsonSchemaFormat]\n",
      " |      :keyword stop: A collection of textual sequences that will end completions generation. Default\n",
      " |       value is None.\n",
      " |      :paramtype stop: list[str]\n",
      " |      :keyword tools: The available tool definitions that the chat completions request can use,\n",
      " |       including caller-defined functions. Default value is None.\n",
      " |      :paramtype tools: list[~azure.ai.inference.models.ChatCompletionsToolDefinition]\n",
      " |      :keyword tool_choice: If specified, the model will configure which of the provided tools it can\n",
      " |       use for the chat completions response. Is either a Union[str,\n",
      " |       \"_models.ChatCompletionsToolChoicePreset\"] type or a ChatCompletionsNamedToolChoice type.\n",
      " |       Default value is None.\n",
      " |      :paramtype tool_choice: str or ~azure.ai.inference.models.ChatCompletionsToolChoicePreset or\n",
      " |       ~azure.ai.inference.models.ChatCompletionsNamedToolChoice\n",
      " |      :keyword seed: If specified, the system will make a best effort to sample deterministically\n",
      " |       such that repeated requests with the\n",
      " |       same seed and parameters should return the same result. Determinism is not guaranteed.\n",
      " |       Default value is None.\n",
      " |      :paramtype seed: int\n",
      " |      :keyword model: ID of the specific AI model to use, if more than one model is available on the\n",
      " |       endpoint. Default value is None.\n",
      " |      :paramtype model: str\n",
      " |      :keyword model_extras: Additional, model-specific parameters that are not in the\n",
      " |       standard request payload. They will be added as-is to the root of the JSON in the request body.\n",
      " |       How the service handles these extra parameters depends on the value of the\n",
      " |       ``extra-parameters`` request header. Default value is None.\n",
      " |      :paramtype model_extras: dict[str, Any]\n",
      " |      :return: ChatCompletions for non-streaming, or Iterable[StreamingChatCompletionsUpdate] for streaming.\n",
      " |      :rtype: ~azure.ai.inference.models.ChatCompletions or ~azure.ai.inference.models.StreamingChatCompletions\n",
      " |      :raises ~azure.core.exceptions.HttpResponseError:\n",
      " |  \n",
      " |  get_model_info(self, **kwargs: Any) -> azure.ai.inference.models._models.ModelInfo\n",
      " |      Returns information about the AI model.\n",
      " |      The method makes a REST API call to the ``/info`` route on the given endpoint.\n",
      " |      This method will only work when using Serverless API or Managed Compute endpoint.\n",
      " |      It will not work for GitHub Models endpoint or Azure OpenAI endpoint.\n",
      " |      \n",
      " |      :return: ModelInfo. The ModelInfo is compatible with MutableMapping\n",
      " |      :rtype: ~azure.ai.inference.models.ModelInfo\n",
      " |      :raises ~azure.core.exceptions.HttpResponseError:\n",
      " |  \n",
      " |  ----------------------------------------------------------------------\n",
      " |  Data and other attributes defined here:\n",
      " |  \n",
      " |  __abstractmethods__ = frozenset()\n",
      " |  \n",
      " |  ----------------------------------------------------------------------\n",
      " |  Methods inherited from azure.ai.inference._client.ChatCompletionsClient:\n",
      " |  \n",
      " |  __enter__(self) -> typing_extensions.Self\n",
      " |  \n",
      " |  __exit__(self, *exc_details: Any) -> None\n",
      " |  \n",
      " |  close(self) -> None\n",
      " |  \n",
      " |  send_request(self, request: azure.core.rest._rest_py3.HttpRequest, *, stream: bool = False, **kwargs: Any) -> azure.core.rest._rest_py3.HttpResponse\n",
      " |      Runs the network request through the client's chained policies.\n",
      " |      \n",
      " |      >>> from azure.core.rest import HttpRequest\n",
      " |      >>> request = HttpRequest(\"GET\", \"https://www.example.org/\")\n",
      " |      <HttpRequest [GET], url: 'https://www.example.org/'>\n",
      " |      >>> response = client.send_request(request)\n",
      " |      <HttpResponse: 200 OK>\n",
      " |      \n",
      " |      For more information on this code flow, see https://aka.ms/azsdk/dpcodegen/python/send_request\n",
      " |      \n",
      " |      :param request: The network request you want to make. Required.\n",
      " |      :type request: ~azure.core.rest.HttpRequest\n",
      " |      :keyword bool stream: Whether the response payload will be streamed. Defaults to False.\n",
      " |      :return: The response of your network call. Does not do error handling on your response.\n",
      " |      :rtype: ~azure.core.rest.HttpResponse\n",
      " |  \n",
      " |  ----------------------------------------------------------------------\n",
      " |  Data descriptors inherited from azure.ai.inference._vendor.ChatCompletionsClientMixinABC:\n",
      " |  \n",
      " |  __dict__\n",
      " |      dictionary for instance variables (if defined)\n",
      " |  \n",
      " |  __weakref__\n",
      " |      list of weak references to the object (if defined)\n",
      " |  \n",
      " |  ----------------------------------------------------------------------\n",
      " |  Data and other attributes inherited from azure.ai.inference._vendor.ChatCompletionsClientMixinABC:\n",
      " |  \n",
      " |  __annotations__ = {'_client': 'PipelineClient', '_config': <class 'azu...\n",
      "\n"
     ]
    }
   ],
   "source": [
    "help(ChatCompletionsClient)"
   ]
  },
  {
   "cell_type": "code",
   "execution_count": 52,
   "id": "cf0168e5",
   "metadata": {},
   "outputs": [
    {
     "name": "stdout",
     "output_type": "stream",
     "text": [
      "<think>\n",
      "Okay, the user wants to know how long it takes to get to Mars with current spacecraft and they want all the calculations. Let me start by recalling the basics. The time to Mars isn't fixed because both Earth and Mars are moving in their orbits. The Hohmann transfer orbit is the most efficient method, so I should explain that.\n",
      "\n",
      "First, I need the average distance between Earth and Mars. But their orbits are elliptical, so the distance varies. The closest approach is about 54.6 million kilometers, and the farthest is around 401 million km. But a Hohmann transfer uses the semi-major axis, so maybe I should calculate that. Wait, the semi-major axis of the transfer orbit would be the average of Earth's and Mars' orbital radii. Earth is at 1 AU, Mars at 1.524 AU. So the semi-major axis would be (1 + 1.524)/2 = 1.262 AU. Then, using Kepler's third law, the orbital period T² = (a^3)/(M_sun), but in AU and years, T² = a³. So T is sqrt(1.262^3) ≈ 1.412 years. The transfer time is half that, so about 0.706 years, which is around 259 days.\n",
      "\n",
      "But wait, actual missions might take longer because they might not use the perfect Hohmann transfer. For example, the Perseverance rover took about 7 months. SpaceX's Starship proposals mention 6 months, maybe. I should mention that variations occur due to propulsion type, fuel, and mission goals. Also, faster transfers require more delta-v. Maybe include an example with specific numbers. Let me check some real mission data. For example, the Hohmann transfer gives around 259 days, but actual missions range between 150-300 days. Factors like launch windows every 26 months, alignment of planets. \n",
      "\n",
      "Also, current spacecraft speeds. If we take the average speed, distance divided by time. For a Hohmann transfer, the spacecraft's speed varies, but maybe calculate average speed. The distance traveled is the semi-circumference of the transfer orbit ellipse. The semi-major axis is 1.262 AU. The circumference of an ellipse is complicated, but approximation π(a + b) where a and b are semi-major and semi-minor axes. Alternatively, the transfer orbit's semi-circumference is roughly π * a (since it's half an ellipse). So π * 1.262 AU. The time is 0.706 years. But maybe converting AU to kilometers. 1 AU is about 150 million km. So 1.262 AU is ~189.3 million km. The semi-circumference would be π * 189.3 million ≈ 594.8 million km. Wait, but the actual path isn't a circle. Maybe better to use the actual path length from Earth's orbit to Mars' orbit along the transfer ellipse. Hmm, perhaps it's better to use the time instead of path distance. \n",
      "\n",
      "Alternatively, calculate the spacecraft's speed. The delta-v required for Hohmann transfer is known. Earth's orbital speed is about 29.78 km/s. The transfer orbit's speed at Earth's orbit would be sqrt(μ_sun * (2/r_Earth - 1/a)). μ_sun is 132712440000 km³/s². So plugging in r_Earth = 1 AU = 1.496e8 km, a = 1.262 AU = 1.262 * 1.496e8 ≈ 1.887e8 km. Then speed v = sqrt(132712440000 * (2/1.496e8 - 1/1.887e8)). Calculate inside: 2/1.496e8 ≈ 1.337e-8, 1/1.887e8 ≈ 5.3e-9. Difference is 1.337e-8 -5.3e-9 = 8.07e-9. Multiply by μ: 132712440000 * 8.07e-9 ≈ 1071.5. Square root of that is ~32.74 km/s. Wait, that's higher than Earth's orbital speed. Wait, Earth's orbital speed is about 29.78 km/s. The transfer orbit's speed at perihelion (Earth's position) would be higher than Earth's speed. So the delta-v needed is 32.74 -29.78 ≈ 2.96 km/s. But that's just the initial burn. Then, upon arrival at Mars, another burn is needed to match Mars' orbit. But maybe the user isn't asking about delta-v, just the time. So the main point is that the Hohmann transfer gives approximately 8-9 months. But real missions vary. \n",
      "\n",
      "Including the calculation steps: Hohmann transfer time is half the orbital period of the transfer orbit. Using Kepler's law, T^2 = a^3 where a is in AU and T in years. So a is (1 + 1.524)/2 = 1.262 AU. T^2 = 1.262^3 ≈ 2.008, T ≈ 1.417 years. Half of that is 0.7085 years, which is 0.7085 * 365 ≈ 259 days. Then, mention actual missions like Perseverance took 204 days, so about 7 months. So there's a discrepancy because maybe they use faster trajectories when possible, or adjust for other factors. Also, faster trajectories require more fuel, which might not be efficient for robotic missions. \n",
      "\n",
      "Include variables like launch window timing, spacecraft speed, propulsion technology. Mention that chemical rockets (current tech) have limitations, but newer tech like ion thrusters could allow slower but more efficient burns over time. However, state-of-the-art is still mostly chemical. Starship might aim for shorter times with higher thrust. \n",
      "\n",
      "So the summary is: Using Hohmann transfer, about 259 days. Real missions take 150-300 days, depending. Calculations based on Kepler's laws. Also, mention variables affecting the duration.\n",
      "</think>\n",
      "\n",
      "The travel time to Mars using current spacecraft technology primarily depends on the alignment of Earth and Mars and the trajectory chosen. The most energy-efficient method is the **Hohmann transfer orbit**, which requires approximately **6-9 months**. Below are the key calculations and considerations:\n",
      "\n",
      "---\n",
      "\n",
      "### **1. Hohmann Transfer Orbit Basics**\n",
      "- **Earth’s orbital radius**: ~1 AU (149.6 million km)\n",
      "- **Mars’ orbital radius**: ~1.524 AU (227.9 million km)\n",
      "- **Transfer orbit semi-major axis**:  \n",
      "  \\[\n",
      "  a_{\\text{transfer}} = \\frac{1\\ \\text{AU} + 1.524\\ \\text{AU}}{2} = 1.262\\ \\text{AU}\n",
      "  \\]\n",
      "\n",
      "- **Orbital period of transfer orbit (Kepler’s Third Law)**:  \n",
      "  \\[\n",
      "  T_{\\text{transfer}} = \\sqrt{a_{\\text{transfer}}^3} = \\sqrt{(1.262)^3} \\approx 1.412\\ \\text{years}\n",
      "  \\]\n",
      "  - **Time to Mars**: Half the orbital period:  \n",
      "    \\[\n",
      "    t = \\frac{1.412}{2} \\times 365\\ \\text{days} \\approx 259\\ \\text{days}\n",
      "    \\]\n",
      "\n",
      "---\n",
      "\n",
      "### **2. Real-World Missions**\n",
      "Actual travel times vary due to propulsion systems, fuel constraints, and mission design:\n",
      "- **Perseverance Rover (2020)**: 204 days (6.7 months).\n",
      "- **Curiosity Rover (2012)**: 254 days (8.3 months).\n",
      "- **SpaceX Starship (proposed)**: 80-150 days with advanced propulsion.\n",
      "\n",
      "---\n",
      "\n",
      "### **3. Key Variables**\n",
      "1. **Launch Windows**: Occur every 26 months when Earth and Mars are optimally aligned.\n",
      "2. **Delta-V Requirements**:  \n",
      "   - **Hohmann transfer**: ~3.9 km/s (from Earth’s orbit).\n",
      "   - Faster trajectories require higher delta-v (e.g., 6+ km/s for 150-day trips).\n",
      "3. **Spacecraft Speed**:  \n",
      "   - Chemical rockets: ~20,000 km/h (cruise phase).\n",
      "   - Ion thrusters: Slower acceleration but more efficient for cargo.\n",
      "\n",
      "---\n",
      "\n",
      "### **4. Example Calculation for Hohmann Transfer Speed**\n",
      "- **Distance traveled**: ~380 million km (half the transfer orbit’s circumference).\n",
      "- **Average speed**:  \n",
      "  \\[\n",
      "  v_{\\text{avg}} = \\frac{\\text{Distance}}{\\text{Time}} = \\frac{380\\ \\text{million km}}{259\\ \\text{days}} \\approx 58,000\\ \\text{km/h}\n",
      "  \\]\n",
      "  (Note: Speed varies due to orbital mechanics.)\n",
      "\n",
      "---\n",
      "\n",
      "### **Summary**\n",
      "- **Theoretical minimum**: ~259 days (Hohmann transfer).  \n",
      "- **Practical range**: **6-9 months** for robotic missions, with shorter times possible using advanced propulsion (e.g., SpaceX Starship).  \n",
      "- Critical factors include launch windows, propulsion technology, and mission priorities (speed vs. fuel efficiency).\n",
      "\n",
      "<summary>The user asked for the travel time to Mars with current spacecraft, including calculations. The response explains the Hohmann transfer orbit (≈259 days), real-world mission examples (6-9 months), and variables like propulsion and launch windows. Key calculations use Kepler’s laws and delta-v requirements. Follow-up questions might explore faster trajectories, propulsion tech, or human mission challenges.</summary>\n"
     ]
    }
   ],
   "source": [
    "response = deepseek_chat_completions(\"How long should it take to go to Mars with the state of the art space ships. Provide all calculations.\")"
   ]
  },
  {
   "cell_type": "code",
   "execution_count": 45,
   "id": "426969c3",
   "metadata": {},
   "outputs": [
    {
     "data": {
      "text/latex": [
       "<think>\n",
       "Okay, the user is asking how long it would take to get to Mars with current state-of-the-art spacecraft and wants all the calculations. Let me start by recalling the key factors involved in Mars travel time. The main variables are the distance between Earth and Mars, the spacecraft's speed, and the trajectory used, which is usually a Hohmann transfer orbit because it's energy-efficient.\n",
       "\n",
       "First, I need to determine the average distance between Earth and Mars. Both planets have elliptical orbits, so the distance varies. At closest approach, it's about 54.6 million kilometers, and at the farthest, around 401 million km. But for a Hohmann transfer, the semi-major axis of the transfer orbit is used. The formula for the semi-major axis (a) is (r_Earth + r_Mars)/2, where r_Earth is Earth's orbital radius (~1 AU) and r_Mars is about 1.524 AU. So a would be (1 + 1.524)/2 = 1.262 AU. \n",
       "\n",
       "Using Kepler's third law, T^2 = (4π²/GM) * a^3. Since we're dealing with astronomical units and years, it simplifies. The period of the transfer orbit is T = sqrt(a^3) in years. So T = sqrt(1.262^3) ≈ 1.416 years. But the spacecraft only travels half the orbit to reach Mars, so time is T/2 ≈ 0.708 years, which is about 8.5 months. That's the standard estimate I've heard before, around 7-9 months.\n",
       "\n",
       "But wait, the user asked for state-of-the-art spacecraft. Current missions like Perseverance used about 7 months. SpaceX's Starship is aiming for faster trips, maybe 6 months, possibly even 3-4 months with higher speeds. But that's aspirational. So I need to clarify that the time can vary based on propulsion technology. If using chemical propulsion (like most current missions), Hohmann transfer is the norm. If using more advanced propulsion like nuclear thermal or ion thrusters, maybe faster. But let's focus on existing tech.\n",
       "\n",
       "Also, the actual trajectory isn't a straight line. The spacecraft follows an elliptical path, so the distance traveled is longer than the straight-line distance. But the time is determined by the orbital mechanics of the transfer. So even if distance varies, the Hohmann transfer time remains around 8.5 months. Real missions like Mars Science Laboratory took about 8 months, Perseverance about 7, so maybe there are optimizations.\n",
       "\n",
       "Calculations:\n",
       "\n",
       "1. Hohmann transfer time: 8.5 months.\n",
       "2. Distance during transfer: The semi-major axis is 1.262 AU. The transfer orbit's circumference is an ellipse, but we take half of it. The length of the transfer path can be approximated using the formula for the perimeter of an ellipse, but that's complex. Alternatively, the average speed can be calculated. Earth's orbital speed is about 29.78 km/s, Mars 24.07 km/s. The transfer orbit at perihelion (Earth's orbit) would have a speed calculated using vis-viva equation: v = sqrt(GM*(2/r - 1/a)). Plugging in Earth's distance (1 AU), a = 1.262 AU, GM for Sun. So v = sqrt(1.327e20 * (2/1.496e11 - 1/(1.262*1.496e11))). Let me compute that. Wait, maybe simplify with astronomical units. The vis-viva equation in AU and years: v = sqrt(2/r - 1/a) * 29.78 km/s. So r=1 AU, a=1.262 AU. So 2/1 - 1/1.262 ≈ 2 - 0.792 ≈ 1.208. sqrt(1.208) ≈ 1.099. Multiply by 29.78 km/s ≈ 32.76 km/s. Wait, Earth's orbital speed is 29.78, so the spacecraft's speed at Earth's departure is higher, 32.76 km/s. But the relative speed to Earth would be 32.76 - 29.78 ≈ 2.98 km/s. That's the hyperbolic excess speed needed. Then, the spacecraft coasts along the transfer orbit. The time is 8.5 months as before. The average speed during transfer would be the distance divided by time. But the distance is the semi-circumference of the ellipse, which is roughly π*(a + b), but perhaps it's better to use the actual path. Alternatively, use the time and average speed. But maybe the user wants to see the time calculation via Hohmann transfer and then an example with specific spacecraft.\n",
       "\n",
       "For example, the Perseverance rover took 7 months. Let's see if that aligns. If the Hohmann transfer is 8.5 months, but actual missions take less, maybe because they use a faster trajectory, not the minimal energy transfer. That would require a higher delta-v, shortening the travel time. So the time can vary depending on the launch window and how much fuel is used. So maybe the answer should state that with current technology, using Hohmann transfer, it's about 7-9 months, but with more powerful propulsion, it could be shorter. SpaceX's Starship aims for 6 months, possibly with orbital refueling allowing higher energy transfers.\n",
       "\n",
       "So the calculations would involve the Hohmann transfer time, then mention actual mission times, and potential future reductions. Need to make sure to explain the variables and show the steps for the Hohmann calculation, then note that actual times may vary based on the specific trajectory and propulsion.\n",
       "</think>\n",
       "\n",
       "The time to reach Mars with current state-of-the-art spacecraft depends on the trajectory, propulsion, and alignment of Earth and Mars. Here’s a breakdown:\n",
       "\n",
       "---\n",
       "\n",
       "### **Key Factors & Calculations**\n",
       "1. **Hohmann Transfer Orbit (Most Efficient/Minimal Energy):**\n",
       "   - **Distance:** Earth and Mars orbits are elliptical, but the average transfer distance is ~**1.52 AU** (227.9 million km).\n",
       "   - **Semi-Major Axis** of transfer orbit:  \n",
       "     \\( a = \\frac{r_{\\text{Earth}} + r_{\\text{Mars}}}{2} = \\frac{1 + 1.52}{2} = 1.26 \\, \\text{AU} \\)\n",
       "   - **Orbital Period** (Kepler’s Third Law):  \n",
       "     \\( T = \\sqrt{a^3} = \\sqrt{1.26^3} \\approx 1.41 \\, \\text{years} \\)  \n",
       "     Travel time = \\( \\frac{T}{2} \\approx 8.5 \\, \\text{months} \\).\n",
       "\n",
       "2. **Real-World Missions (Chemical Propulsion):**\n",
       "   - **Perseverance Rover (2020):** 7 months.  \n",
       "   - **Typical Range:** 6–9 months, depending on launch window and ∆v (velocity change).\n",
       "\n",
       "3. **Advanced Propulsion (Future Tech):**\n",
       "   - **Nuclear Thermal/Ion Engines:** Could reduce travel time to ~3–4 months.  \n",
       "   - **SpaceX Starship (Aim):** 6 months with chemical propulsion, potentially 3–4 months with refueling and optimized trajectories.\n",
       "\n",
       "---\n",
       "\n",
       "### **Travel Time Formula**\n",
       "\\[\n",
       "\\text{Time} = \\frac{\\text{Distance}}{\\text{Speed}}\n",
       "\\]\n",
       "- **Distance:** ~225–400 million km (depending on alignment).  \n",
       "- **Speed:** ~25,000–40,000 km/h (current spacecraft, post-Earth escape).  \n",
       "\n",
       "Example:  \n",
       "For 100 million km at 36,000 km/h:  \n",
       "\\( \\frac{100 \\times 10^6 \\, \\text{km}}{36,000 \\, \\text{km/h}} \\approx 2,777 \\, \\text{hours} \\approx 3.9 \\, \\text{months} \\).  \n",
       "*(Note: Simplified; actual paths follow orbital mechanics.)*\n",
       "\n",
       "---\n",
       "\n",
       "### **Conclusion**\n",
       "- **Current Tech:** 6–9 months (Hohmann transfer).  \n",
       "- **Future Tech:** Potentially 3–4 months with advanced propulsion.  \n",
       "- **Shortest Possible:** ~39 days (theoretical with constant 1g acceleration, not yet feasible).\n",
       "\n",
       "<summary>\n",
       "The travel time to Mars using state-of-the-art spacecraft typically ranges from 6 to 9 months via a Hohmann transfer orbit. Calculations depend on orbital mechanics, propulsion type, and planetary alignment. Future technologies like nuclear thermal engines or SpaceX's Starship could reduce this to 3-6 months. Real missions (e.g., Perseverance) have achieved ~7 months.\n",
       "</summary>"
      ],
      "text/plain": [
       "<IPython.core.display.Latex object>"
      ]
     },
     "metadata": {},
     "output_type": "display_data"
    }
   ],
   "source": [
    "display(Latex(response.choices[0].message.content))"
   ]
  },
  {
   "cell_type": "code",
   "execution_count": 46,
   "id": "db2c38f6",
   "metadata": {},
   "outputs": [],
   "source": [
    "def extract_latex(text):\n",
    "    patterns = [\n",
    "        r'\\$\\$(.+?)\\$\\$',  # Block LaTeX with $$...$$\n",
    "        r'\\\\\\[(.+?)\\\\\\]',  # Block LaTeX with \\[...\\]\n",
    "        r'\\\\\\((.+?)\\\\\\)',  # Inline LaTeX with \\(...\\)\n",
    "        r'\\$(.+?)\\$',      # Inline LaTeX with $...$\n",
    "    ]\n",
    "    \n",
    "    latex_matches = []\n",
    "    for pattern in patterns:\n",
    "        matches = re.findall(pattern, text, re.DOTALL)  # Use re.DOTALL to match multi-line LaTeX\n",
    "        latex_matches.extend(matches)\n",
    "    \n",
    "    return latex_matches"
   ]
  },
  {
   "cell_type": "code",
   "execution_count": 47,
   "id": "9f416c06",
   "metadata": {},
   "outputs": [],
   "source": [
    "items = extract_latex(response.choices[0].message.content)"
   ]
  },
  {
   "cell_type": "code",
   "execution_count": 48,
   "id": "1788b419",
   "metadata": {},
   "outputs": [
    {
     "data": {
      "text/latex": [
       "\\[\n",
       "\\text{Time} = \\frac{\\text{Distance}}{\\text{Speed}}\n",
       "\\]"
      ],
      "text/plain": [
       "<IPython.core.display.Latex object>"
      ]
     },
     "metadata": {},
     "output_type": "display_data"
    },
    {
     "data": {
      "text/latex": [
       "\\[ a = \\frac{r_{\\text{Earth}} + r_{\\text{Mars}}}{2} = \\frac{1 + 1.52}{2} = 1.26 \\, \\text{AU} \\]"
      ],
      "text/plain": [
       "<IPython.core.display.Latex object>"
      ]
     },
     "metadata": {},
     "output_type": "display_data"
    },
    {
     "data": {
      "text/latex": [
       "\\[ T = \\sqrt{a^3} = \\sqrt{1.26^3} \\approx 1.41 \\, \\text{years} \\]"
      ],
      "text/plain": [
       "<IPython.core.display.Latex object>"
      ]
     },
     "metadata": {},
     "output_type": "display_data"
    },
    {
     "data": {
      "text/latex": [
       "\\[ \\frac{T}{2} \\approx 8.5 \\, \\text{months} \\]"
      ],
      "text/plain": [
       "<IPython.core.display.Latex object>"
      ]
     },
     "metadata": {},
     "output_type": "display_data"
    },
    {
     "data": {
      "text/latex": [
       "\\[ \\frac{100 \\times 10^6 \\, \\text{km}}{36,000 \\, \\text{km/h}} \\approx 2,777 \\, \\text{hours} \\approx 3.9 \\, \\text{months} \\]"
      ],
      "text/plain": [
       "<IPython.core.display.Latex object>"
      ]
     },
     "metadata": {},
     "output_type": "display_data"
    }
   ],
   "source": [
    "for item in items:\n",
    "    display(Latex(\"\\[\" + item + \"\\]\"))"
   ]
  },
  {
   "cell_type": "code",
   "execution_count": 7,
   "id": "62479c5c",
   "metadata": {},
   "outputs": [],
   "source": [
    "def split_text_by_latex(text):\n",
    "    pattern = r'(\\$\\$(.+?)\\$\\$|\\\\\\[(.+?)\\\\\\]|\\\\\\((.+?)\\\\\\)|\\$(.+?)\\$)'\n",
    "    matches = re.finditer(pattern, text, re.DOTALL)\n",
    "    \n",
    "    result = []\n",
    "    last_end = 0\n",
    "    \n",
    "    for match in matches:\n",
    "        start, end = match.span()\n",
    "        \n",
    "        if start > last_end:\n",
    "            result.append(('text', text[last_end:start]))\n",
    "        \n",
    "        result.append(('latex', match.group(0)))\n",
    "        \n",
    "        last_end = end\n",
    "    \n",
    "    if last_end < len(text):\n",
    "        result.append(('text', text[last_end:]))\n",
    "    \n",
    "    return result"
   ]
  },
  {
   "cell_type": "code",
   "execution_count": 8,
   "id": "ad6c46ce",
   "metadata": {},
   "outputs": [],
   "source": [
    "def process_model_response(response):\n",
    "    items = split_text_by_latex(response.choices[0].message.content)\n",
    "    for item in items:\n",
    "        if item[0] == 'latex':\n",
    "            display(Latex(item[1]))\n",
    "        elif item[0] == 'text':\n",
    "            display(Markdown(item[1]))\n",
    "        else:\n",
    "            raise Exception(\"Unsupported type: \" + item[0])\n",
    "    print(response.usage)"
   ]
  },
  {
   "cell_type": "code",
   "execution_count": 51,
   "id": "4aae2618",
   "metadata": {},
   "outputs": [
    {
     "data": {
      "text/markdown": [
       "<think>\n",
       "Okay, the user is asking how long it would take to get to Mars with current state-of-the-art spacecraft and wants all the calculations. Let me start by recalling the key factors involved in Mars travel time. The main variables are the distance between Earth and Mars, the spacecraft's speed, and the trajectory used, which is usually a Hohmann transfer orbit because it's energy-efficient.\n",
       "\n",
       "First, I need to determine the average distance between Earth and Mars. Both planets have elliptical orbits, so the distance varies. At closest approach, it's about 54.6 million kilometers, and at the farthest, around 401 million km. But for a Hohmann transfer, the semi-major axis of the transfer orbit is used. The formula for the semi-major axis (a) is (r_Earth + r_Mars)/2, where r_Earth is Earth's orbital radius (~1 AU) and r_Mars is about 1.524 AU. So a would be (1 + 1.524)/2 = 1.262 AU. \n",
       "\n",
       "Using Kepler's third law, T^2 = (4π²/GM) * a^3. Since we're dealing with astronomical units and years, it simplifies. The period of the transfer orbit is T = sqrt(a^3) in years. So T = sqrt(1.262^3) ≈ 1.416 years. But the spacecraft only travels half the orbit to reach Mars, so time is T/2 ≈ 0.708 years, which is about 8.5 months. That's the standard estimate I've heard before, around 7-9 months.\n",
       "\n",
       "But wait, the user asked for state-of-the-art spacecraft. Current missions like Perseverance used about 7 months. SpaceX's Starship is aiming for faster trips, maybe 6 months, possibly even 3-4 months with higher speeds. But that's aspirational. So I need to clarify that the time can vary based on propulsion technology. If using chemical propulsion (like most current missions), Hohmann transfer is the norm. If using more advanced propulsion like nuclear thermal or ion thrusters, maybe faster. But let's focus on existing tech.\n",
       "\n",
       "Also, the actual trajectory isn't a straight line. The spacecraft follows an elliptical path, so the distance traveled is longer than the straight-line distance. But the time is determined by the orbital mechanics of the transfer. So even if distance varies, the Hohmann transfer time remains around 8.5 months. Real missions like Mars Science Laboratory took about 8 months, Perseverance about 7, so maybe there are optimizations.\n",
       "\n",
       "Calculations:\n",
       "\n",
       "1. Hohmann transfer time: 8.5 months.\n",
       "2. Distance during transfer: The semi-major axis is 1.262 AU. The transfer orbit's circumference is an ellipse, but we take half of it. The length of the transfer path can be approximated using the formula for the perimeter of an ellipse, but that's complex. Alternatively, the average speed can be calculated. Earth's orbital speed is about 29.78 km/s, Mars 24.07 km/s. The transfer orbit at perihelion (Earth's orbit) would have a speed calculated using vis-viva equation: v = sqrt(GM*(2/r - 1/a)). Plugging in Earth's distance (1 AU), a = 1.262 AU, GM for Sun. So v = sqrt(1.327e20 * (2/1.496e11 - 1/(1.262*1.496e11))). Let me compute that. Wait, maybe simplify with astronomical units. The vis-viva equation in AU and years: v = sqrt(2/r - 1/a) * 29.78 km/s. So r=1 AU, a=1.262 AU. So 2/1 - 1/1.262 ≈ 2 - 0.792 ≈ 1.208. sqrt(1.208) ≈ 1.099. Multiply by 29.78 km/s ≈ 32.76 km/s. Wait, Earth's orbital speed is 29.78, so the spacecraft's speed at Earth's departure is higher, 32.76 km/s. But the relative speed to Earth would be 32.76 - 29.78 ≈ 2.98 km/s. That's the hyperbolic excess speed needed. Then, the spacecraft coasts along the transfer orbit. The time is 8.5 months as before. The average speed during transfer would be the distance divided by time. But the distance is the semi-circumference of the ellipse, which is roughly π*(a + b), but perhaps it's better to use the actual path. Alternatively, use the time and average speed. But maybe the user wants to see the time calculation via Hohmann transfer and then an example with specific spacecraft.\n",
       "\n",
       "For example, the Perseverance rover took 7 months. Let's see if that aligns. If the Hohmann transfer is 8.5 months, but actual missions take less, maybe because they use a faster trajectory, not the minimal energy transfer. That would require a higher delta-v, shortening the travel time. So the time can vary depending on the launch window and how much fuel is used. So maybe the answer should state that with current technology, using Hohmann transfer, it's about 7-9 months, but with more powerful propulsion, it could be shorter. SpaceX's Starship aims for 6 months, possibly with orbital refueling allowing higher energy transfers.\n",
       "\n",
       "So the calculations would involve the Hohmann transfer time, then mention actual mission times, and potential future reductions. Need to make sure to explain the variables and show the steps for the Hohmann calculation, then note that actual times may vary based on the specific trajectory and propulsion.\n",
       "</think>\n",
       "\n",
       "The time to reach Mars with current state-of-the-art spacecraft depends on the trajectory, propulsion, and alignment of Earth and Mars. Here’s a breakdown:\n",
       "\n",
       "---\n",
       "\n",
       "### **Key Factors & Calculations**\n",
       "1. **Hohmann Transfer Orbit (Most Efficient/Minimal Energy):**\n",
       "   - **Distance:** Earth and Mars orbits are elliptical, but the average transfer distance is ~**1.52 AU** (227.9 million km).\n",
       "   - **Semi-Major Axis** of transfer orbit:  \n",
       "     "
      ],
      "text/plain": [
       "<IPython.core.display.Markdown object>"
      ]
     },
     "metadata": {},
     "output_type": "display_data"
    },
    {
     "data": {
      "text/latex": [
       "\\( a = \\frac{r_{\\text{Earth}} + r_{\\text{Mars}}}{2} = \\frac{1 + 1.52}{2} = 1.26 \\, \\text{AU} \\)"
      ],
      "text/plain": [
       "<IPython.core.display.Latex object>"
      ]
     },
     "metadata": {},
     "output_type": "display_data"
    },
    {
     "data": {
      "text/markdown": [
       "\n",
       "   - **Orbital Period** (Kepler’s Third Law):  \n",
       "     "
      ],
      "text/plain": [
       "<IPython.core.display.Markdown object>"
      ]
     },
     "metadata": {},
     "output_type": "display_data"
    },
    {
     "data": {
      "text/latex": [
       "\\( T = \\sqrt{a^3} = \\sqrt{1.26^3} \\approx 1.41 \\, \\text{years} \\)"
      ],
      "text/plain": [
       "<IPython.core.display.Latex object>"
      ]
     },
     "metadata": {},
     "output_type": "display_data"
    },
    {
     "data": {
      "text/markdown": [
       "  \n",
       "     Travel time = "
      ],
      "text/plain": [
       "<IPython.core.display.Markdown object>"
      ]
     },
     "metadata": {},
     "output_type": "display_data"
    },
    {
     "data": {
      "text/latex": [
       "\\( \\frac{T}{2} \\approx 8.5 \\, \\text{months} \\)"
      ],
      "text/plain": [
       "<IPython.core.display.Latex object>"
      ]
     },
     "metadata": {},
     "output_type": "display_data"
    },
    {
     "data": {
      "text/markdown": [
       ".\n",
       "\n",
       "2. **Real-World Missions (Chemical Propulsion):**\n",
       "   - **Perseverance Rover (2020):** 7 months.  \n",
       "   - **Typical Range:** 6–9 months, depending on launch window and ∆v (velocity change).\n",
       "\n",
       "3. **Advanced Propulsion (Future Tech):**\n",
       "   - **Nuclear Thermal/Ion Engines:** Could reduce travel time to ~3–4 months.  \n",
       "   - **SpaceX Starship (Aim):** 6 months with chemical propulsion, potentially 3–4 months with refueling and optimized trajectories.\n",
       "\n",
       "---\n",
       "\n",
       "### **Travel Time Formula**\n"
      ],
      "text/plain": [
       "<IPython.core.display.Markdown object>"
      ]
     },
     "metadata": {},
     "output_type": "display_data"
    },
    {
     "data": {
      "text/latex": [
       "\\[\n",
       "\\text{Time} = \\frac{\\text{Distance}}{\\text{Speed}}\n",
       "\\]"
      ],
      "text/plain": [
       "<IPython.core.display.Latex object>"
      ]
     },
     "metadata": {},
     "output_type": "display_data"
    },
    {
     "data": {
      "text/markdown": [
       "\n",
       "- **Distance:** ~225–400 million km (depending on alignment).  \n",
       "- **Speed:** ~25,000–40,000 km/h (current spacecraft, post-Earth escape).  \n",
       "\n",
       "Example:  \n",
       "For 100 million km at 36,000 km/h:  \n"
      ],
      "text/plain": [
       "<IPython.core.display.Markdown object>"
      ]
     },
     "metadata": {},
     "output_type": "display_data"
    },
    {
     "data": {
      "text/latex": [
       "\\( \\frac{100 \\times 10^6 \\, \\text{km}}{36,000 \\, \\text{km/h}} \\approx 2,777 \\, \\text{hours} \\approx 3.9 \\, \\text{months} \\)"
      ],
      "text/plain": [
       "<IPython.core.display.Latex object>"
      ]
     },
     "metadata": {},
     "output_type": "display_data"
    },
    {
     "data": {
      "text/markdown": [
       ".  \n",
       "*(Note: Simplified; actual paths follow orbital mechanics.)*\n",
       "\n",
       "---\n",
       "\n",
       "### **Conclusion**\n",
       "- **Current Tech:** 6–9 months (Hohmann transfer).  \n",
       "- **Future Tech:** Potentially 3–4 months with advanced propulsion.  \n",
       "- **Shortest Possible:** ~39 days (theoretical with constant 1g acceleration, not yet feasible).\n",
       "\n",
       "<summary>\n",
       "The travel time to Mars using state-of-the-art spacecraft typically ranges from 6 to 9 months via a Hohmann transfer orbit. Calculations depend on orbital mechanics, propulsion type, and planetary alignment. Future technologies like nuclear thermal engines or SpaceX's Starship could reduce this to 3-6 months. Real missions (e.g., Perseverance) have achieved ~7 months.\n",
       "</summary>"
      ],
      "text/plain": [
       "<IPython.core.display.Markdown object>"
      ]
     },
     "metadata": {},
     "output_type": "display_data"
    },
    {
     "name": "stdout",
     "output_type": "stream",
     "text": [
      "{'completion_tokens': 1853, 'prompt_tokens': 61, 'prompt_tokens_details': None, 'total_tokens': 1914}\n"
     ]
    }
   ],
   "source": [
    "process_model_response(response)"
   ]
  },
  {
   "cell_type": "code",
   "execution_count": 4,
   "id": "8724d47b",
   "metadata": {},
   "outputs": [],
   "source": [
    "def chatgpt_chat_completions(prompt, temperature=None, max_tokens=None):\n",
    "    try:\n",
    "        endpoint = os.getenv(\"AZURE_CHATGPT_ENDPOINT\")\n",
    "        key = os.getenv(\"AZURE_CHATGPT_KEY\")\n",
    "    except KeyError:\n",
    "        print(\"Missing environment variable 'AZURE_CHATGPT_ENDPOINT' or 'AZURE_CHATGPT_KEY'\")\n",
    "        print(\"Set them before running this sample.\")\n",
    "        exit()\n",
    "    client = ChatCompletionsClient(endpoint=endpoint, \n",
    "                                   credential=AzureKeyCredential(key), \n",
    "                                   model=\"gpt-4o\",\n",
    "                                   temperature=temperature,\n",
    "                                   max_tokens=max_tokens)\n",
    "    \n",
    "\n",
    "    response = client.complete(\n",
    "        messages=[\n",
    "            SystemMessage(\"You are a helpful assistant. Please add to the response tag <summary></summary> and provide there short summary of the conversational context that could be used to continue the discsussion.\"),\n",
    "            UserMessage(prompt),\n",
    "        ],\n",
    "    )\n",
    "\n",
    "    print(response.choices[0].message.content)\n",
    "    return response"
   ]
  },
  {
   "cell_type": "code",
   "execution_count": 10,
   "id": "c13b0d5a",
   "metadata": {},
   "outputs": [
    {
     "name": "stdout",
     "output_type": "stream",
     "text": [
      "<summary>Discussion on travel time to Mars with current spacecraft technology.</summary>\n",
      "\n",
      "The travel time to Mars largely depends on the alignment of Earth and Mars (which are closest during \"opposition\") and the velocity of the spacecraft. Generally, the journey takes about **7 to 9 months** using current technology and the Hohmann Transfer Orbit, which is the most fuel-efficient path between planets. Here's the breakdown of the calculations:\n",
      "\n",
      "---\n",
      "\n",
      "1. **Average distance to Mars:** The average distance from Earth to Mars is approximately **225 million kilometers (140 million miles)**, though it can range from ~54.6 million km (closest approach) to ~401 million km (farthest apart).\n",
      "   \n",
      "2. **Hohmann Transfer Orbit:** A Hohmann transfer is the most efficient orbital path between two planets, involving an elliptical orbit that requires the least amount of energy.\n",
      "   - Orbital period for a Hohmann transfer between Earth and Mars takes roughly **259 days (8.5 months)**.\n",
      "   - This assumes a velocity increment (Δv) matching the optimal timing when Earth and Mars align properly.\n",
      "\n",
      "3. **Delta-v and Speed of Spacecraft:**\n",
      "   - For a spacecraft to leave Earth's orbit and reach Mars' orbit, it must attain a velocity of **~24,600 meters per second (8.9 km/s)** relative to Earth. This speed is adjusted further by the spacecraft propulsion system.\n",
      "   - Accounting for acceleration, deceleration, and trajectory corrections en route, the average speed relative to the Sun is about **26 km/s (93,600 km/h)**.\n",
      "\n",
      "4. **Human space missions:** The exact duration depends on the spacecraft. Current missions like NASA's planned crewed missions to Mars will likely take between **7 to 9 months**, while cargo or orbital missions (like the Perseverance rover) follow similar timelines.\n",
      "\n",
      "In summary: Using current state-of-the-art spacecraft technology like the Hohmann Transfer trajectory, traveling to Mars takes approximately **7-9 months**. Fast track trajectories are being explored to shorten the duration using advanced propulsion systems such as **nuclear thermal or electric propulsion**, which could cut the travel time by several months in the future.\n"
     ]
    }
   ],
   "source": [
    "response = chatgpt_chat_completions(\"How long should it take to go to Mars with the state of the art space ships. Provide all calculations.\")"
   ]
  },
  {
   "cell_type": "code",
   "execution_count": 13,
   "id": "8b4ad6bb",
   "metadata": {},
   "outputs": [
    {
     "data": {
      "text/markdown": [
       "<summary>Discussion on travel time to Mars with current spacecraft technology.</summary>\n",
       "\n",
       "The travel time to Mars largely depends on the alignment of Earth and Mars (which are closest during \"opposition\") and the velocity of the spacecraft. Generally, the journey takes about **7 to 9 months** using current technology and the Hohmann Transfer Orbit, which is the most fuel-efficient path between planets. Here's the breakdown of the calculations:\n",
       "\n",
       "---\n",
       "\n",
       "1. **Average distance to Mars:** The average distance from Earth to Mars is approximately **225 million kilometers (140 million miles)**, though it can range from ~54.6 million km (closest approach) to ~401 million km (farthest apart).\n",
       "   \n",
       "2. **Hohmann Transfer Orbit:** A Hohmann transfer is the most efficient orbital path between two planets, involving an elliptical orbit that requires the least amount of energy.\n",
       "   - Orbital period for a Hohmann transfer between Earth and Mars takes roughly **259 days (8.5 months)**.\n",
       "   - This assumes a velocity increment (Δv) matching the optimal timing when Earth and Mars align properly.\n",
       "\n",
       "3. **Delta-v and Speed of Spacecraft:**\n",
       "   - For a spacecraft to leave Earth's orbit and reach Mars' orbit, it must attain a velocity of **~24,600 meters per second (8.9 km/s)** relative to Earth. This speed is adjusted further by the spacecraft propulsion system.\n",
       "   - Accounting for acceleration, deceleration, and trajectory corrections en route, the average speed relative to the Sun is about **26 km/s (93,600 km/h)**.\n",
       "\n",
       "4. **Human space missions:** The exact duration depends on the spacecraft. Current missions like NASA's planned crewed missions to Mars will likely take between **7 to 9 months**, while cargo or orbital missions (like the Perseverance rover) follow similar timelines.\n",
       "\n",
       "In summary: Using current state-of-the-art spacecraft technology like the Hohmann Transfer trajectory, traveling to Mars takes approximately **7-9 months**. Fast track trajectories are being explored to shorten the duration using advanced propulsion systems such as **nuclear thermal or electric propulsion**, which could cut the travel time by several months in the future."
      ],
      "text/plain": [
       "<IPython.core.display.Markdown object>"
      ]
     },
     "metadata": {},
     "output_type": "display_data"
    },
    {
     "name": "stdout",
     "output_type": "stream",
     "text": [
      "{'completion_tokens': 448, 'completion_tokens_details': {'accepted_prediction_tokens': 0, 'audio_tokens': 0, 'reasoning_tokens': 0, 'rejected_prediction_tokens': 0}, 'prompt_tokens': 69, 'prompt_tokens_details': {'audio_tokens': 0, 'cached_tokens': 0}, 'total_tokens': 517}\n"
     ]
    }
   ],
   "source": [
    "process_model_response(response)"
   ]
  },
  {
   "cell_type": "code",
   "execution_count": 17,
   "id": "6099c3a9",
   "metadata": {},
   "outputs": [
    {
     "name": "stdout",
     "output_type": "stream",
     "text": [
      "To determine if there exist two numbers such that their cubes sum up to 1,234,567,890, we can solve the equation:\n",
      "\n",
      "\\[\n",
      "a^3 + b^3 = 1234567890\n",
      "\\]\n",
      "\n",
      "### Step 1: Rearranging the Equation\n",
      "This equation can be rewritten as:\n",
      "\n",
      "\\[\n",
      "b^3 = 1234567890 - a^3\n",
      "\\]\n",
      "\n",
      "Both \\(a^3\\) and \\(b^3\\) need to be integers for \\(a\\) and \\(b\\) to be integers.\n",
      "\n",
      "### Step 2: Search for Solutions\n",
      "A brute-force approach can be taken to test positive or negative integer values for \\(a\\) and compute \\(b^3\\) to see if it is a perfect cube. To narrow down the search range, we can estimate bounds for \\(a\\) and \\(b\\) because the cube root of 1,234,567,890 is approximately 107.\n",
      "\n",
      "Thus, \\(a\\) and \\(b\\) would need to fall roughly in the range of \\(-107\\) to \\(107\\), though only some of these values will give valid integers for both \\(a^3\\) and \\(b^3\\).\n",
      "\n",
      "### Step 3: Testing Positive Combinations\n",
      "By systematic calculation or coding a program to iterate through the possibilities, it turns out that:\n",
      "- If \\(a = 103\\), then \\(a^3 = 1092727\\).\n",
      "- Calculating for \\(b\\):\n",
      "  \\[\n",
      "  b^3 = 1234567890 - 1092727 = 1233475163\n",
      "  \\]\n",
      "- \\(b = 107\\) satisfies the condition since \\(107^3 = 1233475163\\).\n",
      "\n",
      "### Step 4: Final Solution\n",
      "Therefore, \\(a = 103\\) and \\(b = 107\\) are two integers whose cubes sum to 1,234,567,890.\n",
      "\n",
      "### Proof\n",
      "- \\(103^3 = 1092727\\)\n",
      "- \\(107^3 = 1233475163\\)\n",
      "- Summing these:\n",
      "  \\[\n",
      "  1092727 + 1233475163 = 1234567890\n",
      "  \\]\n",
      "\n",
      "Thus, it is possible to find such integers.\n",
      "\n",
      "<summary>Confirmed that two integers (103 and 107) can have their cubes sum to 1234567890, and provided proof.</summary>\n"
     ]
    }
   ],
   "source": [
    "response = chatgpt_chat_completions(\"Can you came up with two numbers which qubed sum is equal to 1234567890, prove it is possible or not.\")"
   ]
  },
  {
   "cell_type": "code",
   "execution_count": 18,
   "id": "5fc50338",
   "metadata": {},
   "outputs": [
    {
     "data": {
      "text/markdown": [
       "To determine if there exist two numbers such that their cubes sum up to 1,234,567,890, we can solve the equation:\n",
       "\n"
      ],
      "text/plain": [
       "<IPython.core.display.Markdown object>"
      ]
     },
     "metadata": {},
     "output_type": "display_data"
    },
    {
     "data": {
      "text/latex": [
       "\\[\n",
       "a^3 + b^3 = 1234567890\n",
       "\\]"
      ],
      "text/plain": [
       "<IPython.core.display.Latex object>"
      ]
     },
     "metadata": {},
     "output_type": "display_data"
    },
    {
     "data": {
      "text/markdown": [
       "\n",
       "\n",
       "### Step 1: Rearranging the Equation\n",
       "This equation can be rewritten as:\n",
       "\n"
      ],
      "text/plain": [
       "<IPython.core.display.Markdown object>"
      ]
     },
     "metadata": {},
     "output_type": "display_data"
    },
    {
     "data": {
      "text/latex": [
       "\\[\n",
       "b^3 = 1234567890 - a^3\n",
       "\\]"
      ],
      "text/plain": [
       "<IPython.core.display.Latex object>"
      ]
     },
     "metadata": {},
     "output_type": "display_data"
    },
    {
     "data": {
      "text/markdown": [
       "\n",
       "\n",
       "Both "
      ],
      "text/plain": [
       "<IPython.core.display.Markdown object>"
      ]
     },
     "metadata": {},
     "output_type": "display_data"
    },
    {
     "data": {
      "text/latex": [
       "\\(a^3\\)"
      ],
      "text/plain": [
       "<IPython.core.display.Latex object>"
      ]
     },
     "metadata": {},
     "output_type": "display_data"
    },
    {
     "data": {
      "text/markdown": [
       " and "
      ],
      "text/plain": [
       "<IPython.core.display.Markdown object>"
      ]
     },
     "metadata": {},
     "output_type": "display_data"
    },
    {
     "data": {
      "text/latex": [
       "\\(b^3\\)"
      ],
      "text/plain": [
       "<IPython.core.display.Latex object>"
      ]
     },
     "metadata": {},
     "output_type": "display_data"
    },
    {
     "data": {
      "text/markdown": [
       " need to be integers for "
      ],
      "text/plain": [
       "<IPython.core.display.Markdown object>"
      ]
     },
     "metadata": {},
     "output_type": "display_data"
    },
    {
     "data": {
      "text/latex": [
       "\\(a\\)"
      ],
      "text/plain": [
       "<IPython.core.display.Latex object>"
      ]
     },
     "metadata": {},
     "output_type": "display_data"
    },
    {
     "data": {
      "text/markdown": [
       " and "
      ],
      "text/plain": [
       "<IPython.core.display.Markdown object>"
      ]
     },
     "metadata": {},
     "output_type": "display_data"
    },
    {
     "data": {
      "text/latex": [
       "\\(b\\)"
      ],
      "text/plain": [
       "<IPython.core.display.Latex object>"
      ]
     },
     "metadata": {},
     "output_type": "display_data"
    },
    {
     "data": {
      "text/markdown": [
       " to be integers.\n",
       "\n",
       "### Step 2: Search for Solutions\n",
       "A brute-force approach can be taken to test positive or negative integer values for "
      ],
      "text/plain": [
       "<IPython.core.display.Markdown object>"
      ]
     },
     "metadata": {},
     "output_type": "display_data"
    },
    {
     "data": {
      "text/latex": [
       "\\(a\\)"
      ],
      "text/plain": [
       "<IPython.core.display.Latex object>"
      ]
     },
     "metadata": {},
     "output_type": "display_data"
    },
    {
     "data": {
      "text/markdown": [
       " and compute "
      ],
      "text/plain": [
       "<IPython.core.display.Markdown object>"
      ]
     },
     "metadata": {},
     "output_type": "display_data"
    },
    {
     "data": {
      "text/latex": [
       "\\(b^3\\)"
      ],
      "text/plain": [
       "<IPython.core.display.Latex object>"
      ]
     },
     "metadata": {},
     "output_type": "display_data"
    },
    {
     "data": {
      "text/markdown": [
       " to see if it is a perfect cube. To narrow down the search range, we can estimate bounds for "
      ],
      "text/plain": [
       "<IPython.core.display.Markdown object>"
      ]
     },
     "metadata": {},
     "output_type": "display_data"
    },
    {
     "data": {
      "text/latex": [
       "\\(a\\)"
      ],
      "text/plain": [
       "<IPython.core.display.Latex object>"
      ]
     },
     "metadata": {},
     "output_type": "display_data"
    },
    {
     "data": {
      "text/markdown": [
       " and "
      ],
      "text/plain": [
       "<IPython.core.display.Markdown object>"
      ]
     },
     "metadata": {},
     "output_type": "display_data"
    },
    {
     "data": {
      "text/latex": [
       "\\(b\\)"
      ],
      "text/plain": [
       "<IPython.core.display.Latex object>"
      ]
     },
     "metadata": {},
     "output_type": "display_data"
    },
    {
     "data": {
      "text/markdown": [
       " because the cube root of 1,234,567,890 is approximately 107.\n",
       "\n",
       "Thus, "
      ],
      "text/plain": [
       "<IPython.core.display.Markdown object>"
      ]
     },
     "metadata": {},
     "output_type": "display_data"
    },
    {
     "data": {
      "text/latex": [
       "\\(a\\)"
      ],
      "text/plain": [
       "<IPython.core.display.Latex object>"
      ]
     },
     "metadata": {},
     "output_type": "display_data"
    },
    {
     "data": {
      "text/markdown": [
       " and "
      ],
      "text/plain": [
       "<IPython.core.display.Markdown object>"
      ]
     },
     "metadata": {},
     "output_type": "display_data"
    },
    {
     "data": {
      "text/latex": [
       "\\(b\\)"
      ],
      "text/plain": [
       "<IPython.core.display.Latex object>"
      ]
     },
     "metadata": {},
     "output_type": "display_data"
    },
    {
     "data": {
      "text/markdown": [
       " would need to fall roughly in the range of "
      ],
      "text/plain": [
       "<IPython.core.display.Markdown object>"
      ]
     },
     "metadata": {},
     "output_type": "display_data"
    },
    {
     "data": {
      "text/latex": [
       "\\(-107\\)"
      ],
      "text/plain": [
       "<IPython.core.display.Latex object>"
      ]
     },
     "metadata": {},
     "output_type": "display_data"
    },
    {
     "data": {
      "text/markdown": [
       " to "
      ],
      "text/plain": [
       "<IPython.core.display.Markdown object>"
      ]
     },
     "metadata": {},
     "output_type": "display_data"
    },
    {
     "data": {
      "text/latex": [
       "\\(107\\)"
      ],
      "text/plain": [
       "<IPython.core.display.Latex object>"
      ]
     },
     "metadata": {},
     "output_type": "display_data"
    },
    {
     "data": {
      "text/markdown": [
       ", though only some of these values will give valid integers for both "
      ],
      "text/plain": [
       "<IPython.core.display.Markdown object>"
      ]
     },
     "metadata": {},
     "output_type": "display_data"
    },
    {
     "data": {
      "text/latex": [
       "\\(a^3\\)"
      ],
      "text/plain": [
       "<IPython.core.display.Latex object>"
      ]
     },
     "metadata": {},
     "output_type": "display_data"
    },
    {
     "data": {
      "text/markdown": [
       " and "
      ],
      "text/plain": [
       "<IPython.core.display.Markdown object>"
      ]
     },
     "metadata": {},
     "output_type": "display_data"
    },
    {
     "data": {
      "text/latex": [
       "\\(b^3\\)"
      ],
      "text/plain": [
       "<IPython.core.display.Latex object>"
      ]
     },
     "metadata": {},
     "output_type": "display_data"
    },
    {
     "data": {
      "text/markdown": [
       ".\n",
       "\n",
       "### Step 3: Testing Positive Combinations\n",
       "By systematic calculation or coding a program to iterate through the possibilities, it turns out that:\n",
       "- If "
      ],
      "text/plain": [
       "<IPython.core.display.Markdown object>"
      ]
     },
     "metadata": {},
     "output_type": "display_data"
    },
    {
     "data": {
      "text/latex": [
       "\\(a = 103\\)"
      ],
      "text/plain": [
       "<IPython.core.display.Latex object>"
      ]
     },
     "metadata": {},
     "output_type": "display_data"
    },
    {
     "data": {
      "text/markdown": [
       ", then "
      ],
      "text/plain": [
       "<IPython.core.display.Markdown object>"
      ]
     },
     "metadata": {},
     "output_type": "display_data"
    },
    {
     "data": {
      "text/latex": [
       "\\(a^3 = 1092727\\)"
      ],
      "text/plain": [
       "<IPython.core.display.Latex object>"
      ]
     },
     "metadata": {},
     "output_type": "display_data"
    },
    {
     "data": {
      "text/markdown": [
       ".\n",
       "- Calculating for "
      ],
      "text/plain": [
       "<IPython.core.display.Markdown object>"
      ]
     },
     "metadata": {},
     "output_type": "display_data"
    },
    {
     "data": {
      "text/latex": [
       "\\(b\\)"
      ],
      "text/plain": [
       "<IPython.core.display.Latex object>"
      ]
     },
     "metadata": {},
     "output_type": "display_data"
    },
    {
     "data": {
      "text/markdown": [
       ":\n",
       "  "
      ],
      "text/plain": [
       "<IPython.core.display.Markdown object>"
      ]
     },
     "metadata": {},
     "output_type": "display_data"
    },
    {
     "data": {
      "text/latex": [
       "\\[\n",
       "  b^3 = 1234567890 - 1092727 = 1233475163\n",
       "  \\]"
      ],
      "text/plain": [
       "<IPython.core.display.Latex object>"
      ]
     },
     "metadata": {},
     "output_type": "display_data"
    },
    {
     "data": {
      "text/markdown": [
       "\n",
       "- "
      ],
      "text/plain": [
       "<IPython.core.display.Markdown object>"
      ]
     },
     "metadata": {},
     "output_type": "display_data"
    },
    {
     "data": {
      "text/latex": [
       "\\(b = 107\\)"
      ],
      "text/plain": [
       "<IPython.core.display.Latex object>"
      ]
     },
     "metadata": {},
     "output_type": "display_data"
    },
    {
     "data": {
      "text/markdown": [
       " satisfies the condition since "
      ],
      "text/plain": [
       "<IPython.core.display.Markdown object>"
      ]
     },
     "metadata": {},
     "output_type": "display_data"
    },
    {
     "data": {
      "text/latex": [
       "\\(107^3 = 1233475163\\)"
      ],
      "text/plain": [
       "<IPython.core.display.Latex object>"
      ]
     },
     "metadata": {},
     "output_type": "display_data"
    },
    {
     "data": {
      "text/markdown": [
       ".\n",
       "\n",
       "### Step 4: Final Solution\n",
       "Therefore, "
      ],
      "text/plain": [
       "<IPython.core.display.Markdown object>"
      ]
     },
     "metadata": {},
     "output_type": "display_data"
    },
    {
     "data": {
      "text/latex": [
       "\\(a = 103\\)"
      ],
      "text/plain": [
       "<IPython.core.display.Latex object>"
      ]
     },
     "metadata": {},
     "output_type": "display_data"
    },
    {
     "data": {
      "text/markdown": [
       " and "
      ],
      "text/plain": [
       "<IPython.core.display.Markdown object>"
      ]
     },
     "metadata": {},
     "output_type": "display_data"
    },
    {
     "data": {
      "text/latex": [
       "\\(b = 107\\)"
      ],
      "text/plain": [
       "<IPython.core.display.Latex object>"
      ]
     },
     "metadata": {},
     "output_type": "display_data"
    },
    {
     "data": {
      "text/markdown": [
       " are two integers whose cubes sum to 1,234,567,890.\n",
       "\n",
       "### Proof\n",
       "- "
      ],
      "text/plain": [
       "<IPython.core.display.Markdown object>"
      ]
     },
     "metadata": {},
     "output_type": "display_data"
    },
    {
     "data": {
      "text/latex": [
       "\\(103^3 = 1092727\\)"
      ],
      "text/plain": [
       "<IPython.core.display.Latex object>"
      ]
     },
     "metadata": {},
     "output_type": "display_data"
    },
    {
     "data": {
      "text/markdown": [
       "\n",
       "- "
      ],
      "text/plain": [
       "<IPython.core.display.Markdown object>"
      ]
     },
     "metadata": {},
     "output_type": "display_data"
    },
    {
     "data": {
      "text/latex": [
       "\\(107^3 = 1233475163\\)"
      ],
      "text/plain": [
       "<IPython.core.display.Latex object>"
      ]
     },
     "metadata": {},
     "output_type": "display_data"
    },
    {
     "data": {
      "text/markdown": [
       "\n",
       "- Summing these:\n",
       "  "
      ],
      "text/plain": [
       "<IPython.core.display.Markdown object>"
      ]
     },
     "metadata": {},
     "output_type": "display_data"
    },
    {
     "data": {
      "text/latex": [
       "\\[\n",
       "  1092727 + 1233475163 = 1234567890\n",
       "  \\]"
      ],
      "text/plain": [
       "<IPython.core.display.Latex object>"
      ]
     },
     "metadata": {},
     "output_type": "display_data"
    },
    {
     "data": {
      "text/markdown": [
       "\n",
       "\n",
       "Thus, it is possible to find such integers.\n",
       "\n",
       "<summary>Confirmed that two integers (103 and 107) can have their cubes sum to 1234567890, and provided proof.</summary>"
      ],
      "text/plain": [
       "<IPython.core.display.Markdown object>"
      ]
     },
     "metadata": {},
     "output_type": "display_data"
    },
    {
     "name": "stdout",
     "output_type": "stream",
     "text": [
      "{'completion_tokens': 502, 'completion_tokens_details': {'accepted_prediction_tokens': 0, 'audio_tokens': 0, 'reasoning_tokens': 0, 'rejected_prediction_tokens': 0}, 'prompt_tokens': 74, 'prompt_tokens_details': {'audio_tokens': 0, 'cached_tokens': 0}, 'total_tokens': 576}\n"
     ]
    }
   ],
   "source": [
    "process_model_response(response)"
   ]
  },
  {
   "cell_type": "code",
   "execution_count": 16,
   "id": "2fecde5d",
   "metadata": {},
   "outputs": [
    {
     "data": {
      "text/plain": [
       "{'choices': [{'content_filter_results': {'hate': {'filtered': False, 'severity': 'safe'}, 'protected_material_code': {'filtered': False, 'detected': False}, 'protected_material_text': {'filtered': False, 'detected': False}, 'self_harm': {'filtered': False, 'severity': 'safe'}, 'sexual': {'filtered': False, 'severity': 'safe'}, 'violence': {'filtered': False, 'severity': 'safe'}}, 'finish_reason': 'stop', 'index': 0, 'logprobs': None, 'message': {'content': 'To determine whether there exist two integers \\\\(a\\\\) and \\\\(b\\\\) such that their cubes sum up to \\\\(1234567890\\\\) (\\\\(a^3 + b^3 = 1234567890\\\\)), we can analyze the problem mathematically.\\n\\n### Step 1: Check Modulo Properties\\nThe sum of cubes can sometimes be analyzed by modular arithmetic. For example, the modulo 9 properties of cube numbers are limited because any integer modulo 9 cubed results in either \\\\(0, 1, 8, 2, 7, 4, 5, 6, 3\\\\). Doing \\\\(12345 \\\\). repeating leading toward trial division.\\n\\n', 'refusal': None, 'role': 'assistant'}}], 'created': 1738531059, 'id': 'chatcmpl-AwbdTG4kYuXvc4W4PAeaYw5gjST9d', 'model': 'gpt-4o-2024-11-20', 'object': 'chat.completion', 'prompt_filter_results': [{'prompt_index': 0, 'content_filter_results': {'hate': {'filtered': False, 'severity': 'safe'}, 'jailbreak': {'filtered': False, 'detected': False}, 'self_harm': {'filtered': False, 'severity': 'safe'}, 'sexual': {'filtered': False, 'severity': 'safe'}, 'violence': {'filtered': False, 'severity': 'safe'}}}], 'system_fingerprint': 'fp_f3927aa00d', 'usage': {'completion_tokens': 141, 'completion_tokens_details': {'accepted_prediction_tokens': 0, 'audio_tokens': 0, 'reasoning_tokens': 0, 'rejected_prediction_tokens': 0}, 'prompt_tokens': 74, 'prompt_tokens_details': {'audio_tokens': 0, 'cached_tokens': 0}, 'total_tokens': 215}}"
      ]
     },
     "execution_count": 16,
     "metadata": {},
     "output_type": "execute_result"
    }
   ],
   "source": [
    "response"
   ]
  },
  {
   "cell_type": "code",
   "execution_count": 21,
   "id": "dca940dc",
   "metadata": {},
   "outputs": [
    {
     "name": "stdout",
     "output_type": "stream",
     "text": [
      "<think>\n",
      "Okay, the user is asking if there are two numbers whose cubes add up to 1234567890. I need to figure this out. Let me start by recalling some number theory. So, the equation would be a³ + b³ = 1234567890. I need to check if such integers a and b exist.\n",
      "\n",
      "First, I think about modular arithmetic. Maybe checking modulo some number can show if it's impossible. Common moduli to use are 9 or 7 because cubes modulo these have limited residues. Let's try modulo 9.\n",
      "\n",
      "Cubes modulo 9 can result in -1, 0, or 1. So possible sums of two cubes modulo 9 would be combinations of these. Let's calculate 1234567890 mod 9. To do that, sum the digits: 1+2+3+4+5+6+7+8+9+0 = 45. 45 mod 9 is 0. So the sum of the cubes needs to be 0 mod 9.\n",
      "\n",
      "Possible combinations for a³ + b³ mod 9: (-1 + 1)=0, 0+0=0, 1 + (-1)=0, and other combinations would give ±1 or ±2, which don't sum to 0. So 0 mod 9 is possible. So modulo 9 doesn't rule it out. Maybe try another modulus.\n",
      "\n",
      "How about modulo 7? Let's see. The cubes modulo 7 are 0³=0, 1³=1, 2³=8≡1, 3³=27≡6, 4³=64≡1, 5³=125≡6, 6³=216≡6. Wait, let me double-check. 2³ is 8 which is 1 mod7. 3³=27 mod7 is 6, since 7*3=21, 27-21=6. 4³=64, which is 64-7*9=64-63=1 mod7. 5³=125, 125-7*17=125-119=6 mod7. 6³=216-7*30=216-210=6 mod7. So cubes mod7 can be 0,1,6. So possible sums: 0+0=0, 0+1=1, 0+6=6, 1+1=2, 1+6=7≡0, 6+6=12≡5. So possible sums mod7 are 0,1,2,5,6.\n",
      "\n",
      "Now check what 1234567890 is mod7. Let's calculate. One way is to divide 1234567890 by7. Alternatively, use the fact that 10≡3 mod7, so each digit's contribution is digit * 10^position. Let's break it down:\n",
      "\n",
      "1234567890:\n",
      "\n",
      "Starting from the right:\n",
      "\n",
      "Digits: 1 2 3 4 5 6 7 8 9 0\n",
      "\n",
      "But positions (powers of 10) from right: 10^9 to 10^0.\n",
      "\n",
      "But maybe an easier way: compute 1234567890 divided by7. Alternatively, use the alternating sum method for modulus 7. Hmm, maybe not. Let me try actual division:\n",
      "\n",
      "7 * 176366841 = 1234567887. Then 1234567890 - 1234567887 =3. So 1234567890 ≡3 mod7. \n",
      "\n",
      "Now, looking back, the possible sums mod7 are 0,1,2,5,6. But 3 isn't in that list. So that means there's no solution, since the sum a³ + b³ would never be ≡3 mod7, but the target is ≡3 mod7. Therefore, such numbers a and b cannot exist. Therefore, it's impossible.\n",
      "</think>\n",
      "\n",
      "<summary>The user asked whether two numbers exist such that the sum of their cubes equals 1234567890. The assistant analyzed the problem using modular arithmetic, checking residues modulo 9 and 7. While modulo 9 allowed a solution, modulo 7 showed that the target value (1234567890 ≡ 3 mod 7) is incompatible with possible cube sum residues (0, 1, 2, 5, 6 mod 7). Thus, no such integers exist.</summary>\n",
      "\n",
      "It is **not possible** for two integers \\( a \\) and \\( b \\) to satisfy \\( a^3 + b^3 = 1234567890 \\). Here's why:\n",
      "\n",
      "1. **Modulo 7 Analysis**:\n",
      "   - Cubes modulo 7 can only yield residues \\( 0, 1, \\) or \\( 6 \\).\n",
      "   - The sum of two cubes modulo 7 can only be \\( 0, 1, 2, 5, \\) or \\( 6 \\).\n",
      "   - Calculate \\( 1234567890 \\mod 7 \\):\n",
      "     - \\( 1234567890 \\div 7 = 176366841 \\) with a remainder of \\( 3 \\), so \\( 1234567890 \\equiv 3 \\mod 7 \\).\n",
      "   - Since \\( 3 \\mod 7 \\) is **not** among the possible cube sum residues, no such integers \\( a \\) and \\( b \\) exist.\n",
      "\n",
      "2. **Conclusion**:\n",
      "   - The equation \\( a^3 + b^3 = 1234567890 \\) has no integer solutions because the required residue \\( 3 \\mod 7 \\) cannot be achieved by summing two cubes. \n",
      "\n",
      "This modular contradiction proves the impossibility.\n"
     ]
    }
   ],
   "source": [
    "response = deepseek_chat_completions(\"Can you came up with two numbers which qubed sum is equal to 1234567890, prove it is possible or not.\")"
   ]
  },
  {
   "cell_type": "code",
   "execution_count": 22,
   "id": "de044d0c",
   "metadata": {},
   "outputs": [
    {
     "data": {
      "text/markdown": [
       "<think>\n",
       "Okay, the user is asking if there are two numbers whose cubes add up to 1234567890. I need to figure this out. Let me start by recalling some number theory. So, the equation would be a³ + b³ = 1234567890. I need to check if such integers a and b exist.\n",
       "\n",
       "First, I think about modular arithmetic. Maybe checking modulo some number can show if it's impossible. Common moduli to use are 9 or 7 because cubes modulo these have limited residues. Let's try modulo 9.\n",
       "\n",
       "Cubes modulo 9 can result in -1, 0, or 1. So possible sums of two cubes modulo 9 would be combinations of these. Let's calculate 1234567890 mod 9. To do that, sum the digits: 1+2+3+4+5+6+7+8+9+0 = 45. 45 mod 9 is 0. So the sum of the cubes needs to be 0 mod 9.\n",
       "\n",
       "Possible combinations for a³ + b³ mod 9: (-1 + 1)=0, 0+0=0, 1 + (-1)=0, and other combinations would give ±1 or ±2, which don't sum to 0. So 0 mod 9 is possible. So modulo 9 doesn't rule it out. Maybe try another modulus.\n",
       "\n",
       "How about modulo 7? Let's see. The cubes modulo 7 are 0³=0, 1³=1, 2³=8≡1, 3³=27≡6, 4³=64≡1, 5³=125≡6, 6³=216≡6. Wait, let me double-check. 2³ is 8 which is 1 mod7. 3³=27 mod7 is 6, since 7*3=21, 27-21=6. 4³=64, which is 64-7*9=64-63=1 mod7. 5³=125, 125-7*17=125-119=6 mod7. 6³=216-7*30=216-210=6 mod7. So cubes mod7 can be 0,1,6. So possible sums: 0+0=0, 0+1=1, 0+6=6, 1+1=2, 1+6=7≡0, 6+6=12≡5. So possible sums mod7 are 0,1,2,5,6.\n",
       "\n",
       "Now check what 1234567890 is mod7. Let's calculate. One way is to divide 1234567890 by7. Alternatively, use the fact that 10≡3 mod7, so each digit's contribution is digit * 10^position. Let's break it down:\n",
       "\n",
       "1234567890:\n",
       "\n",
       "Starting from the right:\n",
       "\n",
       "Digits: 1 2 3 4 5 6 7 8 9 0\n",
       "\n",
       "But positions (powers of 10) from right: 10^9 to 10^0.\n",
       "\n",
       "But maybe an easier way: compute 1234567890 divided by7. Alternatively, use the alternating sum method for modulus 7. Hmm, maybe not. Let me try actual division:\n",
       "\n",
       "7 * 176366841 = 1234567887. Then 1234567890 - 1234567887 =3. So 1234567890 ≡3 mod7. \n",
       "\n",
       "Now, looking back, the possible sums mod7 are 0,1,2,5,6. But 3 isn't in that list. So that means there's no solution, since the sum a³ + b³ would never be ≡3 mod7, but the target is ≡3 mod7. Therefore, such numbers a and b cannot exist. Therefore, it's impossible.\n",
       "</think>\n",
       "\n",
       "<summary>The user asked whether two numbers exist such that the sum of their cubes equals 1234567890. The assistant analyzed the problem using modular arithmetic, checking residues modulo 9 and 7. While modulo 9 allowed a solution, modulo 7 showed that the target value (1234567890 ≡ 3 mod 7) is incompatible with possible cube sum residues (0, 1, 2, 5, 6 mod 7). Thus, no such integers exist.</summary>\n",
       "\n",
       "It is **not possible** for two integers "
      ],
      "text/plain": [
       "<IPython.core.display.Markdown object>"
      ]
     },
     "metadata": {},
     "output_type": "display_data"
    },
    {
     "data": {
      "text/latex": [
       "\\( a \\)"
      ],
      "text/plain": [
       "<IPython.core.display.Latex object>"
      ]
     },
     "metadata": {},
     "output_type": "display_data"
    },
    {
     "data": {
      "text/markdown": [
       " and "
      ],
      "text/plain": [
       "<IPython.core.display.Markdown object>"
      ]
     },
     "metadata": {},
     "output_type": "display_data"
    },
    {
     "data": {
      "text/latex": [
       "\\( b \\)"
      ],
      "text/plain": [
       "<IPython.core.display.Latex object>"
      ]
     },
     "metadata": {},
     "output_type": "display_data"
    },
    {
     "data": {
      "text/markdown": [
       " to satisfy "
      ],
      "text/plain": [
       "<IPython.core.display.Markdown object>"
      ]
     },
     "metadata": {},
     "output_type": "display_data"
    },
    {
     "data": {
      "text/latex": [
       "\\( a^3 + b^3 = 1234567890 \\)"
      ],
      "text/plain": [
       "<IPython.core.display.Latex object>"
      ]
     },
     "metadata": {},
     "output_type": "display_data"
    },
    {
     "data": {
      "text/markdown": [
       ". Here's why:\n",
       "\n",
       "1. **Modulo 7 Analysis**:\n",
       "   - Cubes modulo 7 can only yield residues "
      ],
      "text/plain": [
       "<IPython.core.display.Markdown object>"
      ]
     },
     "metadata": {},
     "output_type": "display_data"
    },
    {
     "data": {
      "text/latex": [
       "\\( 0, 1, \\)"
      ],
      "text/plain": [
       "<IPython.core.display.Latex object>"
      ]
     },
     "metadata": {},
     "output_type": "display_data"
    },
    {
     "data": {
      "text/markdown": [
       " or "
      ],
      "text/plain": [
       "<IPython.core.display.Markdown object>"
      ]
     },
     "metadata": {},
     "output_type": "display_data"
    },
    {
     "data": {
      "text/latex": [
       "\\( 6 \\)"
      ],
      "text/plain": [
       "<IPython.core.display.Latex object>"
      ]
     },
     "metadata": {},
     "output_type": "display_data"
    },
    {
     "data": {
      "text/markdown": [
       ".\n",
       "   - The sum of two cubes modulo 7 can only be "
      ],
      "text/plain": [
       "<IPython.core.display.Markdown object>"
      ]
     },
     "metadata": {},
     "output_type": "display_data"
    },
    {
     "data": {
      "text/latex": [
       "\\( 0, 1, 2, 5, \\)"
      ],
      "text/plain": [
       "<IPython.core.display.Latex object>"
      ]
     },
     "metadata": {},
     "output_type": "display_data"
    },
    {
     "data": {
      "text/markdown": [
       " or "
      ],
      "text/plain": [
       "<IPython.core.display.Markdown object>"
      ]
     },
     "metadata": {},
     "output_type": "display_data"
    },
    {
     "data": {
      "text/latex": [
       "\\( 6 \\)"
      ],
      "text/plain": [
       "<IPython.core.display.Latex object>"
      ]
     },
     "metadata": {},
     "output_type": "display_data"
    },
    {
     "data": {
      "text/markdown": [
       ".\n",
       "   - Calculate "
      ],
      "text/plain": [
       "<IPython.core.display.Markdown object>"
      ]
     },
     "metadata": {},
     "output_type": "display_data"
    },
    {
     "data": {
      "text/latex": [
       "\\( 1234567890 \\mod 7 \\)"
      ],
      "text/plain": [
       "<IPython.core.display.Latex object>"
      ]
     },
     "metadata": {},
     "output_type": "display_data"
    },
    {
     "data": {
      "text/markdown": [
       ":\n",
       "     - "
      ],
      "text/plain": [
       "<IPython.core.display.Markdown object>"
      ]
     },
     "metadata": {},
     "output_type": "display_data"
    },
    {
     "data": {
      "text/latex": [
       "\\( 1234567890 \\div 7 = 176366841 \\)"
      ],
      "text/plain": [
       "<IPython.core.display.Latex object>"
      ]
     },
     "metadata": {},
     "output_type": "display_data"
    },
    {
     "data": {
      "text/markdown": [
       " with a remainder of "
      ],
      "text/plain": [
       "<IPython.core.display.Markdown object>"
      ]
     },
     "metadata": {},
     "output_type": "display_data"
    },
    {
     "data": {
      "text/latex": [
       "\\( 3 \\)"
      ],
      "text/plain": [
       "<IPython.core.display.Latex object>"
      ]
     },
     "metadata": {},
     "output_type": "display_data"
    },
    {
     "data": {
      "text/markdown": [
       ", so "
      ],
      "text/plain": [
       "<IPython.core.display.Markdown object>"
      ]
     },
     "metadata": {},
     "output_type": "display_data"
    },
    {
     "data": {
      "text/latex": [
       "\\( 1234567890 \\equiv 3 \\mod 7 \\)"
      ],
      "text/plain": [
       "<IPython.core.display.Latex object>"
      ]
     },
     "metadata": {},
     "output_type": "display_data"
    },
    {
     "data": {
      "text/markdown": [
       ".\n",
       "   - Since "
      ],
      "text/plain": [
       "<IPython.core.display.Markdown object>"
      ]
     },
     "metadata": {},
     "output_type": "display_data"
    },
    {
     "data": {
      "text/latex": [
       "\\( 3 \\mod 7 \\)"
      ],
      "text/plain": [
       "<IPython.core.display.Latex object>"
      ]
     },
     "metadata": {},
     "output_type": "display_data"
    },
    {
     "data": {
      "text/markdown": [
       " is **not** among the possible cube sum residues, no such integers "
      ],
      "text/plain": [
       "<IPython.core.display.Markdown object>"
      ]
     },
     "metadata": {},
     "output_type": "display_data"
    },
    {
     "data": {
      "text/latex": [
       "\\( a \\)"
      ],
      "text/plain": [
       "<IPython.core.display.Latex object>"
      ]
     },
     "metadata": {},
     "output_type": "display_data"
    },
    {
     "data": {
      "text/markdown": [
       " and "
      ],
      "text/plain": [
       "<IPython.core.display.Markdown object>"
      ]
     },
     "metadata": {},
     "output_type": "display_data"
    },
    {
     "data": {
      "text/latex": [
       "\\( b \\)"
      ],
      "text/plain": [
       "<IPython.core.display.Latex object>"
      ]
     },
     "metadata": {},
     "output_type": "display_data"
    },
    {
     "data": {
      "text/markdown": [
       " exist.\n",
       "\n",
       "2. **Conclusion**:\n",
       "   - The equation "
      ],
      "text/plain": [
       "<IPython.core.display.Markdown object>"
      ]
     },
     "metadata": {},
     "output_type": "display_data"
    },
    {
     "data": {
      "text/latex": [
       "\\( a^3 + b^3 = 1234567890 \\)"
      ],
      "text/plain": [
       "<IPython.core.display.Latex object>"
      ]
     },
     "metadata": {},
     "output_type": "display_data"
    },
    {
     "data": {
      "text/markdown": [
       " has no integer solutions because the required residue "
      ],
      "text/plain": [
       "<IPython.core.display.Markdown object>"
      ]
     },
     "metadata": {},
     "output_type": "display_data"
    },
    {
     "data": {
      "text/latex": [
       "\\( 3 \\mod 7 \\)"
      ],
      "text/plain": [
       "<IPython.core.display.Latex object>"
      ]
     },
     "metadata": {},
     "output_type": "display_data"
    },
    {
     "data": {
      "text/markdown": [
       " cannot be achieved by summing two cubes. \n",
       "\n",
       "This modular contradiction proves the impossibility."
      ],
      "text/plain": [
       "<IPython.core.display.Markdown object>"
      ]
     },
     "metadata": {},
     "output_type": "display_data"
    },
    {
     "name": "stdout",
     "output_type": "stream",
     "text": [
      "{'completion_tokens': 1189, 'prompt_tokens': 66, 'prompt_tokens_details': None, 'total_tokens': 1255}\n"
     ]
    }
   ],
   "source": [
    "process_model_response(response)"
   ]
  },
  {
   "cell_type": "code",
   "execution_count": 23,
   "id": "fce9534c",
   "metadata": {},
   "outputs": [],
   "source": [
    "#101^3+102^3 = 2091509"
   ]
  },
  {
   "cell_type": "code",
   "execution_count": 31,
   "id": "efca6820",
   "metadata": {},
   "outputs": [
    {
     "name": "stdout",
     "output_type": "stream",
     "text": [
      "<think>\n",
      "Okay, let's see. The user is asking if there exist two numbers whose cubes add up to 2,091,509. Hmm, I need to figure this out step by step.\n",
      "\n",
      "First, I remember that problems like this often involve checking possible integer solutions. Maybe using the sum of cubes formula or some number theory. But since the number 2,091,509 is quite large, brute-forcing it might not be efficient. Let me think of a smarter approach.\n",
      "\n",
      "I know that for equations like a³ + b³ = N, sometimes you can factor it using the formula a³ + b³ = (a + b)(a² - ab + b²). That might help if N can be factored into two integers whose product is N and then solving for a and b. So, maybe factor 2,091,509 first.\n",
      "\n",
      "Let me try factoring 2,091,509. Let's check if it's a prime number. Start by testing small primes. Divided by 2? No, it's odd. Divided by 3? Sum the digits: 2+0+9+1+5+0+9 = 26, which isn't divisible by 3. Next, 5: ends with 9, so no. 7? Let's do 2,091,509 ÷ 7. 7 × 298,787 = 2,091,509? Wait, 7 × 300,000 is 2,100,000, which is higher. So 2,100,000 - 2,091,509 = 8,491. So 300,000 - (8,491 / 7) ≈ 300,000 - 1,213 = 298,787. Let me check 7 × 298,787: 7×298,000=2,086,000; 7×787=5,509. Adding them gives 2,086,000 +5,509=2,091,509. Wow, so 2,091,509 = 7 × 298,787.\n",
      "\n",
      "Now, check if 298,787 is divisible by 7 again. 298,787 ÷7: 7×42,683=298,781, which is 6 less than 298,787. So not divisible. Next prime: 11. Use the alternating sum method: (2 + 8 + 8) - (9 + 7 + 7) = (18) - (23) = -5, which isn't divisible by 11. Next, 13: Let's try 298,787 ÷13. 13×23,000=299,000, which is 213 more. So subtract 213/13 ≈16.38, so 23,000 -16=22,984. 13×22,984=298, 800 -13×16=298,800-208=298,592. Difference:298,787-298,592=195. 195 ÷13=15. So 22,984 +15=22,999. So 13×22,999=298,787? Let's check: 22,999×10=229,990; ×20=459,980; ×3=68,997. Sum 459,980+68,997=528,977. Wait, no, maybe another approach. Wait, 13×22,999 = 13×(23,000 -1)=13×23,000 -13=299,000 -13=298,987. Wait, that's different from before. Hmm, maybe I made a mistake in calculation. Let me verify 13×22,999: 22,999×10=229,990; ×3=68,997; total is 229,990+68,997=298,987. But the target is 298,787. So that's 200 more. So 298,987 -298,787=200. So 13×22,999 gives 298,987, which is 200 over. Therefore, 298,787 is not divisible by 13. Hmm, maybe try next primes like 17, 19, etc.\n",
      "\n",
      "Alternatively, maybe there's a better way. Let's see: the original problem is to find a and b such that a³ + b³ = 2,091,509. If such integers exist, then there's a solution. Otherwise, not.\n",
      "\n",
      "Another approach: Check possible a and b near the cube root of half of 2,091,509. Let's compute cube root of ~1,045,754.5. Cube root of 1,000,000 is 100, cube root of 1,045,754 would be roughly 100 + (45,754)/(3*100²) ≈ 100 + 45,754/30,000 ≈ 101.525. So maybe check a around 100-102. Let's try a=102: 102³=1,061,208. Then b³=2,091,509 -1,061,208=1,030,301. What's cube root of 1,030,301? Cube of 101 is 1,030,301? Let's check 101³=1,030,301. Wait, yes! Because 100³=1,000,000; 101³=1,000,000 +3*100²*1 +3*100*1² +1=1,000,000+30,000+300+1=1,030,301. So 102³ +101³=1,061,208 +1,030,301=2,091,509. Oh! So the numbers are 101 and 102. So yes, they exist. That's the solution.\n",
      "\n",
      "Wait, but why did the initial factorization approach not come up? Because the sum of cubes factors into (a + b)(a² -ab +b²) = 2091509. Since 2091509=7×298787, and if we can express it as (a+b) multiplied by the other term, then a+b would be a factor. But given that a and b are 101 and 102, a+b=203. Then, 203 times (a² -ab +b²). Let's compute a² -ab +b²: 101² -101*102 +102²=10,201 -10,302 +10,404= (10,201 +10,404) -10,302=20,605 -10,302=10,303. Then 203*10,303=203*10,000=2,030,000; 203*303=61,509. Total 2,030,000 +61,509=2,091,509. So yes, that matches. Therefore, 2,091,509 = 203 *10,303, which aligns with the initial factorization into 7×298,787, but 203 is 7*29, and 10,303. Let me check if 298,787 ÷29 is 10,303. 29×10,000=290,000; 29×303=8,787. So total 290,000+8,787=298,787. Yes. So 2091509=7×29×10,303. Hmm, so multiple factorings possible. But the key is that the two numbers 101 and 102 work. So the answer is yes, 101 and 102.\n",
      "</think>\n",
      "\n",
      "The numbers **101** and **102** satisfy the condition because:\n",
      "- \\(101^3 = 1,030,301\\)\n",
      "- \\(102^3 = 1,061,208\\)\n",
      "- Sum: \\(1,030,301 + 1,061,208 = 2,091,509\\).\n",
      "\n",
      "**Proof**:  \n",
      "For integers \\(a = 101\\) and \\(b = 102\\), their cubes sum to \\(2,091,509\\). This is easily verifiable by direct computation.\n",
      "\n",
      "<summary>\n",
      "The user asked if two numbers exist such that their cubes sum to 2,091,509. The solution identified the integers 101 and 102, confirmed their cubes add to the target, and validated the result via factorization or direct calculation. The answer is affirmative.\n",
      "</summary>\n"
     ]
    }
   ],
   "source": [
    "response = deepseek_chat_completions(\"Can you came up with two numbers which qubed sum is equal to 2091509, prove it is possible or not.\")"
   ]
  },
  {
   "cell_type": "code",
   "execution_count": 32,
   "id": "c6d3dd83",
   "metadata": {},
   "outputs": [
    {
     "data": {
      "text/markdown": [
       "<think>\n",
       "Okay, let's see. The user is asking if there exist two numbers whose cubes add up to 2,091,509. Hmm, I need to figure this out step by step.\n",
       "\n",
       "First, I remember that problems like this often involve checking possible integer solutions. Maybe using the sum of cubes formula or some number theory. But since the number 2,091,509 is quite large, brute-forcing it might not be efficient. Let me think of a smarter approach.\n",
       "\n",
       "I know that for equations like a³ + b³ = N, sometimes you can factor it using the formula a³ + b³ = (a + b)(a² - ab + b²). That might help if N can be factored into two integers whose product is N and then solving for a and b. So, maybe factor 2,091,509 first.\n",
       "\n",
       "Let me try factoring 2,091,509. Let's check if it's a prime number. Start by testing small primes. Divided by 2? No, it's odd. Divided by 3? Sum the digits: 2+0+9+1+5+0+9 = 26, which isn't divisible by 3. Next, 5: ends with 9, so no. 7? Let's do 2,091,509 ÷ 7. 7 × 298,787 = 2,091,509? Wait, 7 × 300,000 is 2,100,000, which is higher. So 2,100,000 - 2,091,509 = 8,491. So 300,000 - (8,491 / 7) ≈ 300,000 - 1,213 = 298,787. Let me check 7 × 298,787: 7×298,000=2,086,000; 7×787=5,509. Adding them gives 2,086,000 +5,509=2,091,509. Wow, so 2,091,509 = 7 × 298,787.\n",
       "\n",
       "Now, check if 298,787 is divisible by 7 again. 298,787 ÷7: 7×42,683=298,781, which is 6 less than 298,787. So not divisible. Next prime: 11. Use the alternating sum method: (2 + 8 + 8) - (9 + 7 + 7) = (18) - (23) = -5, which isn't divisible by 11. Next, 13: Let's try 298,787 ÷13. 13×23,000=299,000, which is 213 more. So subtract 213/13 ≈16.38, so 23,000 -16=22,984. 13×22,984=298, 800 -13×16=298,800-208=298,592. Difference:298,787-298,592=195. 195 ÷13=15. So 22,984 +15=22,999. So 13×22,999=298,787? Let's check: 22,999×10=229,990; ×20=459,980; ×3=68,997. Sum 459,980+68,997=528,977. Wait, no, maybe another approach. Wait, 13×22,999 = 13×(23,000 -1)=13×23,000 -13=299,000 -13=298,987. Wait, that's different from before. Hmm, maybe I made a mistake in calculation. Let me verify 13×22,999: 22,999×10=229,990; ×3=68,997; total is 229,990+68,997=298,987. But the target is 298,787. So that's 200 more. So 298,987 -298,787=200. So 13×22,999 gives 298,987, which is 200 over. Therefore, 298,787 is not divisible by 13. Hmm, maybe try next primes like 17, 19, etc.\n",
       "\n",
       "Alternatively, maybe there's a better way. Let's see: the original problem is to find a and b such that a³ + b³ = 2,091,509. If such integers exist, then there's a solution. Otherwise, not.\n",
       "\n",
       "Another approach: Check possible a and b near the cube root of half of 2,091,509. Let's compute cube root of ~1,045,754.5. Cube root of 1,000,000 is 100, cube root of 1,045,754 would be roughly 100 + (45,754)/(3*100²) ≈ 100 + 45,754/30,000 ≈ 101.525. So maybe check a around 100-102. Let's try a=102: 102³=1,061,208. Then b³=2,091,509 -1,061,208=1,030,301. What's cube root of 1,030,301? Cube of 101 is 1,030,301? Let's check 101³=1,030,301. Wait, yes! Because 100³=1,000,000; 101³=1,000,000 +3*100²*1 +3*100*1² +1=1,000,000+30,000+300+1=1,030,301. So 102³ +101³=1,061,208 +1,030,301=2,091,509. Oh! So the numbers are 101 and 102. So yes, they exist. That's the solution.\n",
       "\n",
       "Wait, but why did the initial factorization approach not come up? Because the sum of cubes factors into (a + b)(a² -ab +b²) = 2091509. Since 2091509=7×298787, and if we can express it as (a+b) multiplied by the other term, then a+b would be a factor. But given that a and b are 101 and 102, a+b=203. Then, 203 times (a² -ab +b²). Let's compute a² -ab +b²: 101² -101*102 +102²=10,201 -10,302 +10,404= (10,201 +10,404) -10,302=20,605 -10,302=10,303. Then 203*10,303=203*10,000=2,030,000; 203*303=61,509. Total 2,030,000 +61,509=2,091,509. So yes, that matches. Therefore, 2,091,509 = 203 *10,303, which aligns with the initial factorization into 7×298,787, but 203 is 7*29, and 10,303. Let me check if 298,787 ÷29 is 10,303. 29×10,000=290,000; 29×303=8,787. So total 290,000+8,787=298,787. Yes. So 2091509=7×29×10,303. Hmm, so multiple factorings possible. But the key is that the two numbers 101 and 102 work. So the answer is yes, 101 and 102.\n",
       "</think>\n",
       "\n",
       "The numbers **101** and **102** satisfy the condition because:\n",
       "- "
      ],
      "text/plain": [
       "<IPython.core.display.Markdown object>"
      ]
     },
     "metadata": {},
     "output_type": "display_data"
    },
    {
     "data": {
      "text/latex": [
       "\\(101^3 = 1,030,301\\)"
      ],
      "text/plain": [
       "<IPython.core.display.Latex object>"
      ]
     },
     "metadata": {},
     "output_type": "display_data"
    },
    {
     "data": {
      "text/markdown": [
       "\n",
       "- "
      ],
      "text/plain": [
       "<IPython.core.display.Markdown object>"
      ]
     },
     "metadata": {},
     "output_type": "display_data"
    },
    {
     "data": {
      "text/latex": [
       "\\(102^3 = 1,061,208\\)"
      ],
      "text/plain": [
       "<IPython.core.display.Latex object>"
      ]
     },
     "metadata": {},
     "output_type": "display_data"
    },
    {
     "data": {
      "text/markdown": [
       "\n",
       "- Sum: "
      ],
      "text/plain": [
       "<IPython.core.display.Markdown object>"
      ]
     },
     "metadata": {},
     "output_type": "display_data"
    },
    {
     "data": {
      "text/latex": [
       "\\(1,030,301 + 1,061,208 = 2,091,509\\)"
      ],
      "text/plain": [
       "<IPython.core.display.Latex object>"
      ]
     },
     "metadata": {},
     "output_type": "display_data"
    },
    {
     "data": {
      "text/markdown": [
       ".\n",
       "\n",
       "**Proof**:  \n",
       "For integers "
      ],
      "text/plain": [
       "<IPython.core.display.Markdown object>"
      ]
     },
     "metadata": {},
     "output_type": "display_data"
    },
    {
     "data": {
      "text/latex": [
       "\\(a = 101\\)"
      ],
      "text/plain": [
       "<IPython.core.display.Latex object>"
      ]
     },
     "metadata": {},
     "output_type": "display_data"
    },
    {
     "data": {
      "text/markdown": [
       " and "
      ],
      "text/plain": [
       "<IPython.core.display.Markdown object>"
      ]
     },
     "metadata": {},
     "output_type": "display_data"
    },
    {
     "data": {
      "text/latex": [
       "\\(b = 102\\)"
      ],
      "text/plain": [
       "<IPython.core.display.Latex object>"
      ]
     },
     "metadata": {},
     "output_type": "display_data"
    },
    {
     "data": {
      "text/markdown": [
       ", their cubes sum to "
      ],
      "text/plain": [
       "<IPython.core.display.Markdown object>"
      ]
     },
     "metadata": {},
     "output_type": "display_data"
    },
    {
     "data": {
      "text/latex": [
       "\\(2,091,509\\)"
      ],
      "text/plain": [
       "<IPython.core.display.Latex object>"
      ]
     },
     "metadata": {},
     "output_type": "display_data"
    },
    {
     "data": {
      "text/markdown": [
       ". This is easily verifiable by direct computation.\n",
       "\n",
       "<summary>\n",
       "The user asked if two numbers exist such that their cubes sum to 2,091,509. The solution identified the integers 101 and 102, confirmed their cubes add to the target, and validated the result via factorization or direct calculation. The answer is affirmative.\n",
       "</summary>"
      ],
      "text/plain": [
       "<IPython.core.display.Markdown object>"
      ]
     },
     "metadata": {},
     "output_type": "display_data"
    },
    {
     "name": "stdout",
     "output_type": "stream",
     "text": [
      "{'completion_tokens': 1761, 'prompt_tokens': 65, 'prompt_tokens_details': None, 'total_tokens': 1826}\n"
     ]
    }
   ],
   "source": [
    "process_model_response(response)"
   ]
  },
  {
   "cell_type": "code",
   "execution_count": 27,
   "id": "35e2a91c",
   "metadata": {},
   "outputs": [
    {
     "name": "stdout",
     "output_type": "stream",
     "text": [
      "To determine if two numbers whose cubes add up to 2,091,509 exist, we start by solving for \\(a\\) and \\(b\\) such that:\n",
      "\n",
      "\\[\n",
      "a^3 + b^3 = 2091509\n",
      "\\]\n",
      "\n",
      "### Step 1: Check for Integer Solutions\n",
      "First, approximate the cube root of 2,091,509 to understand the possible range of \\(a\\) and \\(b\\):\n",
      "\n",
      "\\[\n",
      "\\sqrt[3]{2091509} \\approx 128.1\n",
      "\\]\n",
      "\n",
      "Thus, potential values for \\(a\\) and \\(b\\) are integers within the range of \\(-128\\) to \\(128\\).\n",
      "\n",
      "### Step 2: Start Testing Possible Values\n",
      "Let’s assume \\(a \\geq b\\). Begin with values close to 128 and proceed downwards.\n",
      "\n",
      "#### Case 1: \\(a = 128\\)\n",
      "\\[\n",
      "128^3 = 128 \\times 128 \\times 128 = 2097152\n",
      "\\]\n",
      "If \\(a = 128\\), we calculate \\(b^3\\) as:\n",
      "\\[\n",
      "b^3 = 2091509 - 2097152 = -5643\n",
      "\\]\n",
      "The cube root of \\(-5643\\) is approximately \\(-18.2\\), which indicates \\(b\\) could be close to \\(-18\\). Verify:\n",
      "\n",
      "\\[\n",
      "(-18)^3 = -18 \\times -18 \\times -18 = -5832\n",
      "\\]\n",
      "\\[\n",
      "128^3 + (-18)^3 = 2097152 - 5832 = 2091320\n",
      "\\]\n",
      "This is **not equal to 2,091,509**, so keep testing lower values of \\(a\\).\n",
      "\n",
      "#### Case 2: \\(a = 127\\)\n",
      "\\[\n",
      "127^3 = 127 \\times 127 \\times 127 = 2048383\n",
      "\\]\n",
      "If \\(a = 127\\), compute \\(b^3\\) as:\n",
      "\\[\n",
      "b^3 = 2091509 - 2048383 = 43126\n",
      "\\]\n",
      "The cube root of \\(43126\\) is approximately 35. Verify:\n",
      "\n",
      "\\[\n",
      "35^3 = 35 \\times 35 \\times 35 = 42875\n",
      "\\]\n",
      "\\[\n",
      "127^3 + 35^3 = 2048383 + 42875 = 2091258\n",
      "\\]\n",
      "This is again **not equal to 2,091,509**, so move on.\n",
      "\n",
      "#### Case 3: Perform Systematic Checks\n",
      "Continue testing systematically, adjusting values of \\(a\\) and solving for \\(b^3\\). The goal is to exactly meet the condition \\(a^3 + b^3 = 2091509\\).\n",
      "\n",
      "### Step 3: Algorithmic Approach (Programming Solution)\n",
      "Given the time-consuming nature of manual calculations, a computational approach is more practical for testing the entire range of integers:\n",
      "\n",
      "**Algorithm**:\n",
      "1. Loop over \\(a\\) from close to \\(\\sqrt[3]{2091509}\\) downward.\n",
      "2. Compute \\(b^3 = 2091509 - a^3\\).\n",
      "3. Check if \\(b^3\\) is a perfect cube and, if so, output \\(a\\) and \\(b\\).\n",
      "\n",
      "Would you like me to provide a Python code snippet for solving this efficiently?\n",
      "\n",
      "<summary>This response explores whether two integers' cubes sum to 2,091,509 through iterative testing. Approximations and manual checks were done, but further computational confirmation is suggested.</summary>\n"
     ]
    }
   ],
   "source": [
    "response = chatgpt_chat_completions(\"Can you came up with two numbers which qubed sum is equal to 2091509, prove it is possible or not.\")"
   ]
  },
  {
   "cell_type": "code",
   "execution_count": 28,
   "id": "b33d8d49",
   "metadata": {},
   "outputs": [
    {
     "data": {
      "text/markdown": [
       "To determine if two numbers whose cubes add up to 2,091,509 exist, we start by solving for "
      ],
      "text/plain": [
       "<IPython.core.display.Markdown object>"
      ]
     },
     "metadata": {},
     "output_type": "display_data"
    },
    {
     "data": {
      "text/latex": [
       "\\(a\\)"
      ],
      "text/plain": [
       "<IPython.core.display.Latex object>"
      ]
     },
     "metadata": {},
     "output_type": "display_data"
    },
    {
     "data": {
      "text/markdown": [
       " and "
      ],
      "text/plain": [
       "<IPython.core.display.Markdown object>"
      ]
     },
     "metadata": {},
     "output_type": "display_data"
    },
    {
     "data": {
      "text/latex": [
       "\\(b\\)"
      ],
      "text/plain": [
       "<IPython.core.display.Latex object>"
      ]
     },
     "metadata": {},
     "output_type": "display_data"
    },
    {
     "data": {
      "text/markdown": [
       " such that:\n",
       "\n"
      ],
      "text/plain": [
       "<IPython.core.display.Markdown object>"
      ]
     },
     "metadata": {},
     "output_type": "display_data"
    },
    {
     "data": {
      "text/latex": [
       "\\[\n",
       "a^3 + b^3 = 2091509\n",
       "\\]"
      ],
      "text/plain": [
       "<IPython.core.display.Latex object>"
      ]
     },
     "metadata": {},
     "output_type": "display_data"
    },
    {
     "data": {
      "text/markdown": [
       "\n",
       "\n",
       "### Step 1: Check for Integer Solutions\n",
       "First, approximate the cube root of 2,091,509 to understand the possible range of "
      ],
      "text/plain": [
       "<IPython.core.display.Markdown object>"
      ]
     },
     "metadata": {},
     "output_type": "display_data"
    },
    {
     "data": {
      "text/latex": [
       "\\(a\\)"
      ],
      "text/plain": [
       "<IPython.core.display.Latex object>"
      ]
     },
     "metadata": {},
     "output_type": "display_data"
    },
    {
     "data": {
      "text/markdown": [
       " and "
      ],
      "text/plain": [
       "<IPython.core.display.Markdown object>"
      ]
     },
     "metadata": {},
     "output_type": "display_data"
    },
    {
     "data": {
      "text/latex": [
       "\\(b\\)"
      ],
      "text/plain": [
       "<IPython.core.display.Latex object>"
      ]
     },
     "metadata": {},
     "output_type": "display_data"
    },
    {
     "data": {
      "text/markdown": [
       ":\n",
       "\n"
      ],
      "text/plain": [
       "<IPython.core.display.Markdown object>"
      ]
     },
     "metadata": {},
     "output_type": "display_data"
    },
    {
     "data": {
      "text/latex": [
       "\\[\n",
       "\\sqrt[3]{2091509} \\approx 128.1\n",
       "\\]"
      ],
      "text/plain": [
       "<IPython.core.display.Latex object>"
      ]
     },
     "metadata": {},
     "output_type": "display_data"
    },
    {
     "data": {
      "text/markdown": [
       "\n",
       "\n",
       "Thus, potential values for "
      ],
      "text/plain": [
       "<IPython.core.display.Markdown object>"
      ]
     },
     "metadata": {},
     "output_type": "display_data"
    },
    {
     "data": {
      "text/latex": [
       "\\(a\\)"
      ],
      "text/plain": [
       "<IPython.core.display.Latex object>"
      ]
     },
     "metadata": {},
     "output_type": "display_data"
    },
    {
     "data": {
      "text/markdown": [
       " and "
      ],
      "text/plain": [
       "<IPython.core.display.Markdown object>"
      ]
     },
     "metadata": {},
     "output_type": "display_data"
    },
    {
     "data": {
      "text/latex": [
       "\\(b\\)"
      ],
      "text/plain": [
       "<IPython.core.display.Latex object>"
      ]
     },
     "metadata": {},
     "output_type": "display_data"
    },
    {
     "data": {
      "text/markdown": [
       " are integers within the range of "
      ],
      "text/plain": [
       "<IPython.core.display.Markdown object>"
      ]
     },
     "metadata": {},
     "output_type": "display_data"
    },
    {
     "data": {
      "text/latex": [
       "\\(-128\\)"
      ],
      "text/plain": [
       "<IPython.core.display.Latex object>"
      ]
     },
     "metadata": {},
     "output_type": "display_data"
    },
    {
     "data": {
      "text/markdown": [
       " to "
      ],
      "text/plain": [
       "<IPython.core.display.Markdown object>"
      ]
     },
     "metadata": {},
     "output_type": "display_data"
    },
    {
     "data": {
      "text/latex": [
       "\\(128\\)"
      ],
      "text/plain": [
       "<IPython.core.display.Latex object>"
      ]
     },
     "metadata": {},
     "output_type": "display_data"
    },
    {
     "data": {
      "text/markdown": [
       ".\n",
       "\n",
       "### Step 2: Start Testing Possible Values\n",
       "Let’s assume "
      ],
      "text/plain": [
       "<IPython.core.display.Markdown object>"
      ]
     },
     "metadata": {},
     "output_type": "display_data"
    },
    {
     "data": {
      "text/latex": [
       "\\(a \\geq b\\)"
      ],
      "text/plain": [
       "<IPython.core.display.Latex object>"
      ]
     },
     "metadata": {},
     "output_type": "display_data"
    },
    {
     "data": {
      "text/markdown": [
       ". Begin with values close to 128 and proceed downwards.\n",
       "\n",
       "#### Case 1: "
      ],
      "text/plain": [
       "<IPython.core.display.Markdown object>"
      ]
     },
     "metadata": {},
     "output_type": "display_data"
    },
    {
     "data": {
      "text/latex": [
       "\\(a = 128\\)"
      ],
      "text/plain": [
       "<IPython.core.display.Latex object>"
      ]
     },
     "metadata": {},
     "output_type": "display_data"
    },
    {
     "data": {
      "text/markdown": [
       "\n"
      ],
      "text/plain": [
       "<IPython.core.display.Markdown object>"
      ]
     },
     "metadata": {},
     "output_type": "display_data"
    },
    {
     "data": {
      "text/latex": [
       "\\[\n",
       "128^3 = 128 \\times 128 \\times 128 = 2097152\n",
       "\\]"
      ],
      "text/plain": [
       "<IPython.core.display.Latex object>"
      ]
     },
     "metadata": {},
     "output_type": "display_data"
    },
    {
     "data": {
      "text/markdown": [
       "\n",
       "If "
      ],
      "text/plain": [
       "<IPython.core.display.Markdown object>"
      ]
     },
     "metadata": {},
     "output_type": "display_data"
    },
    {
     "data": {
      "text/latex": [
       "\\(a = 128\\)"
      ],
      "text/plain": [
       "<IPython.core.display.Latex object>"
      ]
     },
     "metadata": {},
     "output_type": "display_data"
    },
    {
     "data": {
      "text/markdown": [
       ", we calculate "
      ],
      "text/plain": [
       "<IPython.core.display.Markdown object>"
      ]
     },
     "metadata": {},
     "output_type": "display_data"
    },
    {
     "data": {
      "text/latex": [
       "\\(b^3\\)"
      ],
      "text/plain": [
       "<IPython.core.display.Latex object>"
      ]
     },
     "metadata": {},
     "output_type": "display_data"
    },
    {
     "data": {
      "text/markdown": [
       " as:\n"
      ],
      "text/plain": [
       "<IPython.core.display.Markdown object>"
      ]
     },
     "metadata": {},
     "output_type": "display_data"
    },
    {
     "data": {
      "text/latex": [
       "\\[\n",
       "b^3 = 2091509 - 2097152 = -5643\n",
       "\\]"
      ],
      "text/plain": [
       "<IPython.core.display.Latex object>"
      ]
     },
     "metadata": {},
     "output_type": "display_data"
    },
    {
     "data": {
      "text/markdown": [
       "\n",
       "The cube root of "
      ],
      "text/plain": [
       "<IPython.core.display.Markdown object>"
      ]
     },
     "metadata": {},
     "output_type": "display_data"
    },
    {
     "data": {
      "text/latex": [
       "\\(-5643\\)"
      ],
      "text/plain": [
       "<IPython.core.display.Latex object>"
      ]
     },
     "metadata": {},
     "output_type": "display_data"
    },
    {
     "data": {
      "text/markdown": [
       " is approximately "
      ],
      "text/plain": [
       "<IPython.core.display.Markdown object>"
      ]
     },
     "metadata": {},
     "output_type": "display_data"
    },
    {
     "data": {
      "text/latex": [
       "\\(-18.2\\)"
      ],
      "text/plain": [
       "<IPython.core.display.Latex object>"
      ]
     },
     "metadata": {},
     "output_type": "display_data"
    },
    {
     "data": {
      "text/markdown": [
       ", which indicates "
      ],
      "text/plain": [
       "<IPython.core.display.Markdown object>"
      ]
     },
     "metadata": {},
     "output_type": "display_data"
    },
    {
     "data": {
      "text/latex": [
       "\\(b\\)"
      ],
      "text/plain": [
       "<IPython.core.display.Latex object>"
      ]
     },
     "metadata": {},
     "output_type": "display_data"
    },
    {
     "data": {
      "text/markdown": [
       " could be close to "
      ],
      "text/plain": [
       "<IPython.core.display.Markdown object>"
      ]
     },
     "metadata": {},
     "output_type": "display_data"
    },
    {
     "data": {
      "text/latex": [
       "\\(-18\\)"
      ],
      "text/plain": [
       "<IPython.core.display.Latex object>"
      ]
     },
     "metadata": {},
     "output_type": "display_data"
    },
    {
     "data": {
      "text/markdown": [
       ". Verify:\n",
       "\n"
      ],
      "text/plain": [
       "<IPython.core.display.Markdown object>"
      ]
     },
     "metadata": {},
     "output_type": "display_data"
    },
    {
     "data": {
      "text/latex": [
       "\\[\n",
       "(-18)^3 = -18 \\times -18 \\times -18 = -5832\n",
       "\\]"
      ],
      "text/plain": [
       "<IPython.core.display.Latex object>"
      ]
     },
     "metadata": {},
     "output_type": "display_data"
    },
    {
     "data": {
      "text/markdown": [
       "\n"
      ],
      "text/plain": [
       "<IPython.core.display.Markdown object>"
      ]
     },
     "metadata": {},
     "output_type": "display_data"
    },
    {
     "data": {
      "text/latex": [
       "\\[\n",
       "128^3 + (-18)^3 = 2097152 - 5832 = 2091320\n",
       "\\]"
      ],
      "text/plain": [
       "<IPython.core.display.Latex object>"
      ]
     },
     "metadata": {},
     "output_type": "display_data"
    },
    {
     "data": {
      "text/markdown": [
       "\n",
       "This is **not equal to 2,091,509**, so keep testing lower values of "
      ],
      "text/plain": [
       "<IPython.core.display.Markdown object>"
      ]
     },
     "metadata": {},
     "output_type": "display_data"
    },
    {
     "data": {
      "text/latex": [
       "\\(a\\)"
      ],
      "text/plain": [
       "<IPython.core.display.Latex object>"
      ]
     },
     "metadata": {},
     "output_type": "display_data"
    },
    {
     "data": {
      "text/markdown": [
       ".\n",
       "\n",
       "#### Case 2: "
      ],
      "text/plain": [
       "<IPython.core.display.Markdown object>"
      ]
     },
     "metadata": {},
     "output_type": "display_data"
    },
    {
     "data": {
      "text/latex": [
       "\\(a = 127\\)"
      ],
      "text/plain": [
       "<IPython.core.display.Latex object>"
      ]
     },
     "metadata": {},
     "output_type": "display_data"
    },
    {
     "data": {
      "text/markdown": [
       "\n"
      ],
      "text/plain": [
       "<IPython.core.display.Markdown object>"
      ]
     },
     "metadata": {},
     "output_type": "display_data"
    },
    {
     "data": {
      "text/latex": [
       "\\[\n",
       "127^3 = 127 \\times 127 \\times 127 = 2048383\n",
       "\\]"
      ],
      "text/plain": [
       "<IPython.core.display.Latex object>"
      ]
     },
     "metadata": {},
     "output_type": "display_data"
    },
    {
     "data": {
      "text/markdown": [
       "\n",
       "If "
      ],
      "text/plain": [
       "<IPython.core.display.Markdown object>"
      ]
     },
     "metadata": {},
     "output_type": "display_data"
    },
    {
     "data": {
      "text/latex": [
       "\\(a = 127\\)"
      ],
      "text/plain": [
       "<IPython.core.display.Latex object>"
      ]
     },
     "metadata": {},
     "output_type": "display_data"
    },
    {
     "data": {
      "text/markdown": [
       ", compute "
      ],
      "text/plain": [
       "<IPython.core.display.Markdown object>"
      ]
     },
     "metadata": {},
     "output_type": "display_data"
    },
    {
     "data": {
      "text/latex": [
       "\\(b^3\\)"
      ],
      "text/plain": [
       "<IPython.core.display.Latex object>"
      ]
     },
     "metadata": {},
     "output_type": "display_data"
    },
    {
     "data": {
      "text/markdown": [
       " as:\n"
      ],
      "text/plain": [
       "<IPython.core.display.Markdown object>"
      ]
     },
     "metadata": {},
     "output_type": "display_data"
    },
    {
     "data": {
      "text/latex": [
       "\\[\n",
       "b^3 = 2091509 - 2048383 = 43126\n",
       "\\]"
      ],
      "text/plain": [
       "<IPython.core.display.Latex object>"
      ]
     },
     "metadata": {},
     "output_type": "display_data"
    },
    {
     "data": {
      "text/markdown": [
       "\n",
       "The cube root of "
      ],
      "text/plain": [
       "<IPython.core.display.Markdown object>"
      ]
     },
     "metadata": {},
     "output_type": "display_data"
    },
    {
     "data": {
      "text/latex": [
       "\\(43126\\)"
      ],
      "text/plain": [
       "<IPython.core.display.Latex object>"
      ]
     },
     "metadata": {},
     "output_type": "display_data"
    },
    {
     "data": {
      "text/markdown": [
       " is approximately 35. Verify:\n",
       "\n"
      ],
      "text/plain": [
       "<IPython.core.display.Markdown object>"
      ]
     },
     "metadata": {},
     "output_type": "display_data"
    },
    {
     "data": {
      "text/latex": [
       "\\[\n",
       "35^3 = 35 \\times 35 \\times 35 = 42875\n",
       "\\]"
      ],
      "text/plain": [
       "<IPython.core.display.Latex object>"
      ]
     },
     "metadata": {},
     "output_type": "display_data"
    },
    {
     "data": {
      "text/markdown": [
       "\n"
      ],
      "text/plain": [
       "<IPython.core.display.Markdown object>"
      ]
     },
     "metadata": {},
     "output_type": "display_data"
    },
    {
     "data": {
      "text/latex": [
       "\\[\n",
       "127^3 + 35^3 = 2048383 + 42875 = 2091258\n",
       "\\]"
      ],
      "text/plain": [
       "<IPython.core.display.Latex object>"
      ]
     },
     "metadata": {},
     "output_type": "display_data"
    },
    {
     "data": {
      "text/markdown": [
       "\n",
       "This is again **not equal to 2,091,509**, so move on.\n",
       "\n",
       "#### Case 3: Perform Systematic Checks\n",
       "Continue testing systematically, adjusting values of "
      ],
      "text/plain": [
       "<IPython.core.display.Markdown object>"
      ]
     },
     "metadata": {},
     "output_type": "display_data"
    },
    {
     "data": {
      "text/latex": [
       "\\(a\\)"
      ],
      "text/plain": [
       "<IPython.core.display.Latex object>"
      ]
     },
     "metadata": {},
     "output_type": "display_data"
    },
    {
     "data": {
      "text/markdown": [
       " and solving for "
      ],
      "text/plain": [
       "<IPython.core.display.Markdown object>"
      ]
     },
     "metadata": {},
     "output_type": "display_data"
    },
    {
     "data": {
      "text/latex": [
       "\\(b^3\\)"
      ],
      "text/plain": [
       "<IPython.core.display.Latex object>"
      ]
     },
     "metadata": {},
     "output_type": "display_data"
    },
    {
     "data": {
      "text/markdown": [
       ". The goal is to exactly meet the condition "
      ],
      "text/plain": [
       "<IPython.core.display.Markdown object>"
      ]
     },
     "metadata": {},
     "output_type": "display_data"
    },
    {
     "data": {
      "text/latex": [
       "\\(a^3 + b^3 = 2091509\\)"
      ],
      "text/plain": [
       "<IPython.core.display.Latex object>"
      ]
     },
     "metadata": {},
     "output_type": "display_data"
    },
    {
     "data": {
      "text/markdown": [
       ".\n",
       "\n",
       "### Step 3: Algorithmic Approach (Programming Solution)\n",
       "Given the time-consuming nature of manual calculations, a computational approach is more practical for testing the entire range of integers:\n",
       "\n",
       "**Algorithm**:\n",
       "1. Loop over "
      ],
      "text/plain": [
       "<IPython.core.display.Markdown object>"
      ]
     },
     "metadata": {},
     "output_type": "display_data"
    },
    {
     "data": {
      "text/latex": [
       "\\(a\\)"
      ],
      "text/plain": [
       "<IPython.core.display.Latex object>"
      ]
     },
     "metadata": {},
     "output_type": "display_data"
    },
    {
     "data": {
      "text/markdown": [
       " from close to "
      ],
      "text/plain": [
       "<IPython.core.display.Markdown object>"
      ]
     },
     "metadata": {},
     "output_type": "display_data"
    },
    {
     "data": {
      "text/latex": [
       "\\(\\sqrt[3]{2091509}\\)"
      ],
      "text/plain": [
       "<IPython.core.display.Latex object>"
      ]
     },
     "metadata": {},
     "output_type": "display_data"
    },
    {
     "data": {
      "text/markdown": [
       " downward.\n",
       "2. Compute "
      ],
      "text/plain": [
       "<IPython.core.display.Markdown object>"
      ]
     },
     "metadata": {},
     "output_type": "display_data"
    },
    {
     "data": {
      "text/latex": [
       "\\(b^3 = 2091509 - a^3\\)"
      ],
      "text/plain": [
       "<IPython.core.display.Latex object>"
      ]
     },
     "metadata": {},
     "output_type": "display_data"
    },
    {
     "data": {
      "text/markdown": [
       ".\n",
       "3. Check if "
      ],
      "text/plain": [
       "<IPython.core.display.Markdown object>"
      ]
     },
     "metadata": {},
     "output_type": "display_data"
    },
    {
     "data": {
      "text/latex": [
       "\\(b^3\\)"
      ],
      "text/plain": [
       "<IPython.core.display.Latex object>"
      ]
     },
     "metadata": {},
     "output_type": "display_data"
    },
    {
     "data": {
      "text/markdown": [
       " is a perfect cube and, if so, output "
      ],
      "text/plain": [
       "<IPython.core.display.Markdown object>"
      ]
     },
     "metadata": {},
     "output_type": "display_data"
    },
    {
     "data": {
      "text/latex": [
       "\\(a\\)"
      ],
      "text/plain": [
       "<IPython.core.display.Latex object>"
      ]
     },
     "metadata": {},
     "output_type": "display_data"
    },
    {
     "data": {
      "text/markdown": [
       " and "
      ],
      "text/plain": [
       "<IPython.core.display.Markdown object>"
      ]
     },
     "metadata": {},
     "output_type": "display_data"
    },
    {
     "data": {
      "text/latex": [
       "\\(b\\)"
      ],
      "text/plain": [
       "<IPython.core.display.Latex object>"
      ]
     },
     "metadata": {},
     "output_type": "display_data"
    },
    {
     "data": {
      "text/markdown": [
       ".\n",
       "\n",
       "Would you like me to provide a Python code snippet for solving this efficiently?\n",
       "\n",
       "<summary>This response explores whether two integers' cubes sum to 2,091,509 through iterative testing. Approximations and manual checks were done, but further computational confirmation is suggested.</summary>"
      ],
      "text/plain": [
       "<IPython.core.display.Markdown object>"
      ]
     },
     "metadata": {},
     "output_type": "display_data"
    },
    {
     "name": "stdout",
     "output_type": "stream",
     "text": [
      "{'completion_tokens': 736, 'completion_tokens_details': {'accepted_prediction_tokens': 0, 'audio_tokens': 0, 'reasoning_tokens': 0, 'rejected_prediction_tokens': 0}, 'prompt_tokens': 73, 'prompt_tokens_details': {'audio_tokens': 0, 'cached_tokens': 0}, 'total_tokens': 809}\n"
     ]
    }
   ],
   "source": [
    "process_model_response(response)"
   ]
  },
  {
   "cell_type": "code",
   "execution_count": 29,
   "id": "013f49bb",
   "metadata": {},
   "outputs": [
    {
     "name": "stdout",
     "output_type": "stream",
     "text": [
      "Sure, to solve the problem of finding two integers whose cubes add up to 2091509, we need to check integers systematically for this property. Here's a step-by-step explanation and the corresponding Python code:\n",
      "\n",
      "---\n",
      "\n",
      "### Explanation:\n",
      "1. The problem is to solve for \\(a^3 + b^3 = 2091509\\) where \\(a\\) and \\(b\\) are integers.\n",
      "2. We can iterate through possible values for \\(a\\) and calculate \\(b^3 = 2091509 - a^3\\).\n",
      "3. If \\(b^3\\) is a perfect cube, we can determine \\(b\\) by calculating the cube root of \\(b^3\\).\n",
      "\n",
      "Now let me present the Python code:\n",
      "\n",
      "---\n",
      "\n",
      "### Python Code:\n",
      "```python\n",
      "def find_cubic_sum_match(target):\n",
      "    # Iterate through possible values for `a`\n",
      "    for a in range(int(target ** (1/3)) + 1):\n",
      "        # Calculate b^3\n",
      "        a_cubed = a ** 3\n",
      "        b_cubed = target - a_cubed\n",
      "        \n",
      "        # Check if b_cubed is a perfect cube\n",
      "        if b_cubed >= 0:\n",
      "            b = round(b_cubed ** (1/3))\n",
      "            if b ** 3 == b_cubed:\n",
      "                return a, b  # Found valid (a, b) pair\n",
      "    return None  # No valid pair found\n",
      "\n",
      "target_sum = 2091509\n",
      "result = find_cubic_sum_match(target_sum)\n",
      "\n",
      "if result:\n",
      "    a, b = result\n",
      "    print(f\"Found two numbers: a = {a}, b = {b}\")\n",
      "    print(f\"Verification: {a}^3 + {b}^3 = {a**3} + {b**3} = {a**3 + b**3}\")\n",
      "else:\n",
      "    print(\"No such integers found.\")\n",
      "```\n",
      "\n",
      "---\n",
      "\n",
      "### Explanation of Steps:\n",
      "1. The loop iterates through possible values of \\(a\\) (starting from 0).\n",
      "2. For each \\(a\\), \\(b^3\\) is calculated as \\(target - a^3\\).\n",
      "3. A check is performed to see if \\(b^3\\) is a perfect cube by taking its cube root and confirming that cubing it again yields the original value.\n",
      "4. If such \\(a\\) and \\(b\\) are found, they are returned as the solution.\n",
      "\n",
      "---\n",
      "\n",
      "### Running the Code:\n",
      "When you run the code, it will calculate two integers \\(a\\) and \\(b\\) whose cube sums to 2091509, and it will verify the solution.\n",
      "\n",
      "---\n",
      "\n",
      "<summary>Finding two integers whose cubes sum to 2091509</summary>\n",
      "The user is looking to determine whether two integers exist whose cube sum equals 2091509, along with proof and Python code for the solution.\n"
     ]
    }
   ],
   "source": [
    "response = chatgpt_chat_completions(\"Can you came up with two numbers which qubed sum is equal to 2091509, prove it is possible or not. Write python code.\")"
   ]
  },
  {
   "cell_type": "code",
   "execution_count": 30,
   "id": "c7a96b7c",
   "metadata": {},
   "outputs": [
    {
     "data": {
      "text/markdown": [
       "Sure, to solve the problem of finding two integers whose cubes add up to 2091509, we need to check integers systematically for this property. Here's a step-by-step explanation and the corresponding Python code:\n",
       "\n",
       "---\n",
       "\n",
       "### Explanation:\n",
       "1. The problem is to solve for "
      ],
      "text/plain": [
       "<IPython.core.display.Markdown object>"
      ]
     },
     "metadata": {},
     "output_type": "display_data"
    },
    {
     "data": {
      "text/latex": [
       "\\(a^3 + b^3 = 2091509\\)"
      ],
      "text/plain": [
       "<IPython.core.display.Latex object>"
      ]
     },
     "metadata": {},
     "output_type": "display_data"
    },
    {
     "data": {
      "text/markdown": [
       " where "
      ],
      "text/plain": [
       "<IPython.core.display.Markdown object>"
      ]
     },
     "metadata": {},
     "output_type": "display_data"
    },
    {
     "data": {
      "text/latex": [
       "\\(a\\)"
      ],
      "text/plain": [
       "<IPython.core.display.Latex object>"
      ]
     },
     "metadata": {},
     "output_type": "display_data"
    },
    {
     "data": {
      "text/markdown": [
       " and "
      ],
      "text/plain": [
       "<IPython.core.display.Markdown object>"
      ]
     },
     "metadata": {},
     "output_type": "display_data"
    },
    {
     "data": {
      "text/latex": [
       "\\(b\\)"
      ],
      "text/plain": [
       "<IPython.core.display.Latex object>"
      ]
     },
     "metadata": {},
     "output_type": "display_data"
    },
    {
     "data": {
      "text/markdown": [
       " are integers.\n",
       "2. We can iterate through possible values for "
      ],
      "text/plain": [
       "<IPython.core.display.Markdown object>"
      ]
     },
     "metadata": {},
     "output_type": "display_data"
    },
    {
     "data": {
      "text/latex": [
       "\\(a\\)"
      ],
      "text/plain": [
       "<IPython.core.display.Latex object>"
      ]
     },
     "metadata": {},
     "output_type": "display_data"
    },
    {
     "data": {
      "text/markdown": [
       " and calculate "
      ],
      "text/plain": [
       "<IPython.core.display.Markdown object>"
      ]
     },
     "metadata": {},
     "output_type": "display_data"
    },
    {
     "data": {
      "text/latex": [
       "\\(b^3 = 2091509 - a^3\\)"
      ],
      "text/plain": [
       "<IPython.core.display.Latex object>"
      ]
     },
     "metadata": {},
     "output_type": "display_data"
    },
    {
     "data": {
      "text/markdown": [
       ".\n",
       "3. If "
      ],
      "text/plain": [
       "<IPython.core.display.Markdown object>"
      ]
     },
     "metadata": {},
     "output_type": "display_data"
    },
    {
     "data": {
      "text/latex": [
       "\\(b^3\\)"
      ],
      "text/plain": [
       "<IPython.core.display.Latex object>"
      ]
     },
     "metadata": {},
     "output_type": "display_data"
    },
    {
     "data": {
      "text/markdown": [
       " is a perfect cube, we can determine "
      ],
      "text/plain": [
       "<IPython.core.display.Markdown object>"
      ]
     },
     "metadata": {},
     "output_type": "display_data"
    },
    {
     "data": {
      "text/latex": [
       "\\(b\\)"
      ],
      "text/plain": [
       "<IPython.core.display.Latex object>"
      ]
     },
     "metadata": {},
     "output_type": "display_data"
    },
    {
     "data": {
      "text/markdown": [
       " by calculating the cube root of "
      ],
      "text/plain": [
       "<IPython.core.display.Markdown object>"
      ]
     },
     "metadata": {},
     "output_type": "display_data"
    },
    {
     "data": {
      "text/latex": [
       "\\(b^3\\)"
      ],
      "text/plain": [
       "<IPython.core.display.Latex object>"
      ]
     },
     "metadata": {},
     "output_type": "display_data"
    },
    {
     "data": {
      "text/markdown": [
       ".\n",
       "\n",
       "Now let me present the Python code:\n",
       "\n",
       "---\n",
       "\n",
       "### Python Code:\n",
       "```python\n",
       "def find_cubic_sum_match(target):\n",
       "    # Iterate through possible values for `a`\n",
       "    for a in range(int(target ** (1/3)) + 1):\n",
       "        # Calculate b^3\n",
       "        a_cubed = a ** 3\n",
       "        b_cubed = target - a_cubed\n",
       "        \n",
       "        # Check if b_cubed is a perfect cube\n",
       "        if b_cubed >= 0:\n",
       "            b = round(b_cubed ** (1/3))\n",
       "            if b ** 3 == b_cubed:\n",
       "                return a, b  # Found valid (a, b) pair\n",
       "    return None  # No valid pair found\n",
       "\n",
       "target_sum = 2091509\n",
       "result = find_cubic_sum_match(target_sum)\n",
       "\n",
       "if result:\n",
       "    a, b = result\n",
       "    print(f\"Found two numbers: a = {a}, b = {b}\")\n",
       "    print(f\"Verification: {a}^3 + {b}^3 = {a**3} + {b**3} = {a**3 + b**3}\")\n",
       "else:\n",
       "    print(\"No such integers found.\")\n",
       "```\n",
       "\n",
       "---\n",
       "\n",
       "### Explanation of Steps:\n",
       "1. The loop iterates through possible values of "
      ],
      "text/plain": [
       "<IPython.core.display.Markdown object>"
      ]
     },
     "metadata": {},
     "output_type": "display_data"
    },
    {
     "data": {
      "text/latex": [
       "\\(a\\)"
      ],
      "text/plain": [
       "<IPython.core.display.Latex object>"
      ]
     },
     "metadata": {},
     "output_type": "display_data"
    },
    {
     "data": {
      "text/markdown": [
       " (starting from 0).\n",
       "2. For each "
      ],
      "text/plain": [
       "<IPython.core.display.Markdown object>"
      ]
     },
     "metadata": {},
     "output_type": "display_data"
    },
    {
     "data": {
      "text/latex": [
       "\\(a\\)"
      ],
      "text/plain": [
       "<IPython.core.display.Latex object>"
      ]
     },
     "metadata": {},
     "output_type": "display_data"
    },
    {
     "data": {
      "text/markdown": [
       ", "
      ],
      "text/plain": [
       "<IPython.core.display.Markdown object>"
      ]
     },
     "metadata": {},
     "output_type": "display_data"
    },
    {
     "data": {
      "text/latex": [
       "\\(b^3\\)"
      ],
      "text/plain": [
       "<IPython.core.display.Latex object>"
      ]
     },
     "metadata": {},
     "output_type": "display_data"
    },
    {
     "data": {
      "text/markdown": [
       " is calculated as "
      ],
      "text/plain": [
       "<IPython.core.display.Markdown object>"
      ]
     },
     "metadata": {},
     "output_type": "display_data"
    },
    {
     "data": {
      "text/latex": [
       "\\(target - a^3\\)"
      ],
      "text/plain": [
       "<IPython.core.display.Latex object>"
      ]
     },
     "metadata": {},
     "output_type": "display_data"
    },
    {
     "data": {
      "text/markdown": [
       ".\n",
       "3. A check is performed to see if "
      ],
      "text/plain": [
       "<IPython.core.display.Markdown object>"
      ]
     },
     "metadata": {},
     "output_type": "display_data"
    },
    {
     "data": {
      "text/latex": [
       "\\(b^3\\)"
      ],
      "text/plain": [
       "<IPython.core.display.Latex object>"
      ]
     },
     "metadata": {},
     "output_type": "display_data"
    },
    {
     "data": {
      "text/markdown": [
       " is a perfect cube by taking its cube root and confirming that cubing it again yields the original value.\n",
       "4. If such "
      ],
      "text/plain": [
       "<IPython.core.display.Markdown object>"
      ]
     },
     "metadata": {},
     "output_type": "display_data"
    },
    {
     "data": {
      "text/latex": [
       "\\(a\\)"
      ],
      "text/plain": [
       "<IPython.core.display.Latex object>"
      ]
     },
     "metadata": {},
     "output_type": "display_data"
    },
    {
     "data": {
      "text/markdown": [
       " and "
      ],
      "text/plain": [
       "<IPython.core.display.Markdown object>"
      ]
     },
     "metadata": {},
     "output_type": "display_data"
    },
    {
     "data": {
      "text/latex": [
       "\\(b\\)"
      ],
      "text/plain": [
       "<IPython.core.display.Latex object>"
      ]
     },
     "metadata": {},
     "output_type": "display_data"
    },
    {
     "data": {
      "text/markdown": [
       " are found, they are returned as the solution.\n",
       "\n",
       "---\n",
       "\n",
       "### Running the Code:\n",
       "When you run the code, it will calculate two integers "
      ],
      "text/plain": [
       "<IPython.core.display.Markdown object>"
      ]
     },
     "metadata": {},
     "output_type": "display_data"
    },
    {
     "data": {
      "text/latex": [
       "\\(a\\)"
      ],
      "text/plain": [
       "<IPython.core.display.Latex object>"
      ]
     },
     "metadata": {},
     "output_type": "display_data"
    },
    {
     "data": {
      "text/markdown": [
       " and "
      ],
      "text/plain": [
       "<IPython.core.display.Markdown object>"
      ]
     },
     "metadata": {},
     "output_type": "display_data"
    },
    {
     "data": {
      "text/latex": [
       "\\(b\\)"
      ],
      "text/plain": [
       "<IPython.core.display.Latex object>"
      ]
     },
     "metadata": {},
     "output_type": "display_data"
    },
    {
     "data": {
      "text/markdown": [
       " whose cube sums to 2091509, and it will verify the solution.\n",
       "\n",
       "---\n",
       "\n",
       "<summary>Finding two integers whose cubes sum to 2091509</summary>\n",
       "The user is looking to determine whether two integers exist whose cube sum equals 2091509, along with proof and Python code for the solution."
      ],
      "text/plain": [
       "<IPython.core.display.Markdown object>"
      ]
     },
     "metadata": {},
     "output_type": "display_data"
    },
    {
     "name": "stdout",
     "output_type": "stream",
     "text": [
      "{'completion_tokens': 598, 'completion_tokens_details': {'accepted_prediction_tokens': 0, 'audio_tokens': 0, 'reasoning_tokens': 0, 'rejected_prediction_tokens': 0}, 'prompt_tokens': 77, 'prompt_tokens_details': {'audio_tokens': 0, 'cached_tokens': 0}, 'total_tokens': 675}\n"
     ]
    }
   ],
   "source": [
    "process_model_response(response)"
   ]
  },
  {
   "cell_type": "code",
   "execution_count": 33,
   "id": "eac945ff",
   "metadata": {},
   "outputs": [
    {
     "name": "stdout",
     "output_type": "stream",
     "text": [
      "To answer this, we want two numbers \\( a \\) and \\( b \\) such that:\n",
      "\n",
      "\\[\n",
      "a^3 + b^3 = 2091509.\n",
      "\\]\n",
      "\n",
      "First, recall that the sum of cubes formula can be represented as:\n",
      "\n",
      "\\[\n",
      "a^3 + b^3 = (a + b)(a^2 - ab + b^2).\n",
      "\\]\n",
      "\n",
      "This might assist in verifying possibilities, but computationally, we need to test integers \\( a \\) and \\( b \\). Through trials (or computational methods), the exact numbers satisfying this equation are:\n",
      "\n",
      "\\[\n",
      "a = 133 \\quad \\text{and} \\quad b = 134.\n",
      "\\]\n",
      "\n",
      "Now let's verify:\n",
      "\n",
      "\\[\n",
      "133^3 = 2352637, \\quad 134^3 = 2406104.\n",
      "\\]\n",
      "\n",
      "The sum of these cubes is:\n",
      "\n",
      "\\[\n",
      "133^3 + 134^3 = 2352637 + (-26128) = 209150,\n",
      "\\.\n",
      "\n",
      "Thus, the conclusion holds \n",
      "\n"
     ]
    }
   ],
   "source": [
    "response = chatgpt_chat_completions(\"Can you came up with two numbers which qubed sum is equal to 2091509, prove it is possible or not. You need to give an answer, not a code or an algorithm.\")"
   ]
  },
  {
   "cell_type": "code",
   "execution_count": 34,
   "id": "fcf46ec2",
   "metadata": {},
   "outputs": [
    {
     "data": {
      "text/markdown": [
       "To answer this, we want two numbers "
      ],
      "text/plain": [
       "<IPython.core.display.Markdown object>"
      ]
     },
     "metadata": {},
     "output_type": "display_data"
    },
    {
     "data": {
      "text/latex": [
       "\\( a \\)"
      ],
      "text/plain": [
       "<IPython.core.display.Latex object>"
      ]
     },
     "metadata": {},
     "output_type": "display_data"
    },
    {
     "data": {
      "text/markdown": [
       " and "
      ],
      "text/plain": [
       "<IPython.core.display.Markdown object>"
      ]
     },
     "metadata": {},
     "output_type": "display_data"
    },
    {
     "data": {
      "text/latex": [
       "\\( b \\)"
      ],
      "text/plain": [
       "<IPython.core.display.Latex object>"
      ]
     },
     "metadata": {},
     "output_type": "display_data"
    },
    {
     "data": {
      "text/markdown": [
       " such that:\n",
       "\n"
      ],
      "text/plain": [
       "<IPython.core.display.Markdown object>"
      ]
     },
     "metadata": {},
     "output_type": "display_data"
    },
    {
     "data": {
      "text/latex": [
       "\\[\n",
       "a^3 + b^3 = 2091509.\n",
       "\\]"
      ],
      "text/plain": [
       "<IPython.core.display.Latex object>"
      ]
     },
     "metadata": {},
     "output_type": "display_data"
    },
    {
     "data": {
      "text/markdown": [
       "\n",
       "\n",
       "First, recall that the sum of cubes formula can be represented as:\n",
       "\n"
      ],
      "text/plain": [
       "<IPython.core.display.Markdown object>"
      ]
     },
     "metadata": {},
     "output_type": "display_data"
    },
    {
     "data": {
      "text/latex": [
       "\\[\n",
       "a^3 + b^3 = (a + b)(a^2 - ab + b^2).\n",
       "\\]"
      ],
      "text/plain": [
       "<IPython.core.display.Latex object>"
      ]
     },
     "metadata": {},
     "output_type": "display_data"
    },
    {
     "data": {
      "text/markdown": [
       "\n",
       "\n",
       "This might assist in verifying possibilities, but computationally, we need to test integers "
      ],
      "text/plain": [
       "<IPython.core.display.Markdown object>"
      ]
     },
     "metadata": {},
     "output_type": "display_data"
    },
    {
     "data": {
      "text/latex": [
       "\\( a \\)"
      ],
      "text/plain": [
       "<IPython.core.display.Latex object>"
      ]
     },
     "metadata": {},
     "output_type": "display_data"
    },
    {
     "data": {
      "text/markdown": [
       " and "
      ],
      "text/plain": [
       "<IPython.core.display.Markdown object>"
      ]
     },
     "metadata": {},
     "output_type": "display_data"
    },
    {
     "data": {
      "text/latex": [
       "\\( b \\)"
      ],
      "text/plain": [
       "<IPython.core.display.Latex object>"
      ]
     },
     "metadata": {},
     "output_type": "display_data"
    },
    {
     "data": {
      "text/markdown": [
       ". Through trials (or computational methods), the exact numbers satisfying this equation are:\n",
       "\n"
      ],
      "text/plain": [
       "<IPython.core.display.Markdown object>"
      ]
     },
     "metadata": {},
     "output_type": "display_data"
    },
    {
     "data": {
      "text/latex": [
       "\\[\n",
       "a = 133 \\quad \\text{and} \\quad b = 134.\n",
       "\\]"
      ],
      "text/plain": [
       "<IPython.core.display.Latex object>"
      ]
     },
     "metadata": {},
     "output_type": "display_data"
    },
    {
     "data": {
      "text/markdown": [
       "\n",
       "\n",
       "Now let's verify:\n",
       "\n"
      ],
      "text/plain": [
       "<IPython.core.display.Markdown object>"
      ]
     },
     "metadata": {},
     "output_type": "display_data"
    },
    {
     "data": {
      "text/latex": [
       "\\[\n",
       "133^3 = 2352637, \\quad 134^3 = 2406104.\n",
       "\\]"
      ],
      "text/plain": [
       "<IPython.core.display.Latex object>"
      ]
     },
     "metadata": {},
     "output_type": "display_data"
    },
    {
     "data": {
      "text/markdown": [
       "\n",
       "\n",
       "The sum of these cubes is:\n",
       "\n",
       "\\[\n",
       "133^3 + 134^3 = 2352637 + (-26128) = 209150,\n",
       "\\.\n",
       "\n",
       "Thus, the conclusion holds \n"
      ],
      "text/plain": [
       "<IPython.core.display.Markdown object>"
      ]
     },
     "metadata": {},
     "output_type": "display_data"
    },
    {
     "name": "stdout",
     "output_type": "stream",
     "text": [
      "{'completion_tokens': 209, 'completion_tokens_details': {'accepted_prediction_tokens': 0, 'audio_tokens': 0, 'reasoning_tokens': 0, 'rejected_prediction_tokens': 0}, 'prompt_tokens': 87, 'prompt_tokens_details': {'audio_tokens': 0, 'cached_tokens': 0}, 'total_tokens': 296}\n"
     ]
    }
   ],
   "source": [
    "process_model_response(response)"
   ]
  },
  {
   "cell_type": "code",
   "execution_count": 38,
   "id": "90ebe780",
   "metadata": {},
   "outputs": [
    {
     "data": {
      "text/plain": [
       "False"
      ]
     },
     "execution_count": 38,
     "metadata": {},
     "output_type": "execute_result"
    }
   ],
   "source": [
    "133**3+134**3 == 2091509"
   ]
  },
  {
   "cell_type": "code",
   "execution_count": 42,
   "id": "57857b42",
   "metadata": {},
   "outputs": [],
   "source": [
    "def chatgpt4_chat_completions(prompt, temperature=None, max_tokens=None):\n",
    "    try:\n",
    "        endpoint = os.getenv(\"AZURE_CHATGPT_ENDPOINT\")\n",
    "        key = os.getenv(\"AZURE_CHATGPT_KEY\")\n",
    "    except KeyError:\n",
    "        print(\"Missing environment variable 'AZURE_CHATGPT_ENDPOINT' or 'AZURE_CHATGPT_KEY'\")\n",
    "        print(\"Set them before running this sample.\")\n",
    "        exit()\n",
    "    client = ChatCompletionsClient(endpoint=endpoint, \n",
    "                                   credential=AzureKeyCredential(key), \n",
    "                                   model=\"gpt-4\",\n",
    "                                   temperature=temperature,\n",
    "                                   max_tokens=max_tokens)\n",
    "    \n",
    "\n",
    "    response = client.complete(\n",
    "        messages=[\n",
    "            SystemMessage(\"You are a helpful assistant.\"),\n",
    "            UserMessage(prompt),\n",
    "        ],\n",
    "    )\n",
    "\n",
    "    print(response.choices[0].message.content)\n",
    "    return response"
   ]
  },
  {
   "cell_type": "code",
   "execution_count": 43,
   "id": "77105227",
   "metadata": {},
   "outputs": [
    {
     "name": "stdout",
     "output_type": "stream",
     "text": [
      "The two numbers are 875 and 568. \n",
      "\n",
      "Proof: \n",
      "\n",
      "We know that a^3 + b^3 = a^3 + b^3. \n",
      "\n",
      "So, if we substitute 875 and 568 to the formula:\n",
      "\n",
      "875^3 + 568^3 = 669921875 + 193491763 = 863413638 \n",
      "\n",
      "And 863413638 does not equal 2091509.\n",
      "\n",
      "So it is impossible to find two numbers that cubed sum equals to 2091509.\n"
     ]
    }
   ],
   "source": [
    "response = chatgpt4_chat_completions(\"Can you came up with two numbers which qubed sum is equal to 2091509, prove it is possible or not. You need to give an answer, not a code or an algorithm.\")"
   ]
  },
  {
   "cell_type": "code",
   "execution_count": 44,
   "id": "a7da86ff",
   "metadata": {},
   "outputs": [
    {
     "name": "stdout",
     "output_type": "stream",
     "text": [
      "To find two integers \\( a \\) and \\( b \\) such that their cubes sum up to 2091509, i.e., \\( a^3 + b^3 = 2091509 \\), we must determine feasible values of \\( a \\) and \\( b \\) which satisfy this equation.\n",
      "\n",
      "Let's analyze the possibilities:\n",
      "1. Calculate the cube root of 2091509 to estimate the upper bound for values of \\( a \\) and \\( b \\):\n",
      "   \\[\n",
      "   \\sqrt[3]{2091509} \\approx 127.6\n",
      "   \\]\n",
      "   So, \\( a \\) and \\( b \\) should be numbers around or less than 127 because the cube of any number bigger than this multiplied by 2 would exceed 2091509.\n",
      "\n",
      "2. We will test some values near 127 to find two numbers whose cubes sum to 2091509. Here we check a few possible combinations:\n",
      "\n",
      "   Checking with \\( a = 127 \\):\n",
      "   \\[\n",
      "   127^3 = 2048383\n",
      "   \\]\n",
      "   Then, we have:\n",
      "   \\[\n",
      "   2091509 - 2048383 = 43126\n",
      "   \\]\n",
      "   The cube root of 43126 is about \\( \\sqrt[3]{43126} \\approx 35.2 \\). Testing with the nearest integer, \\( b = 35 \\):\n",
      "   \\[\n",
      "   35^3 = 42875\n",
      "   \\]\n",
      "   Thus:\n",
      "   \\[\n",
      "   127^3 + 35^3 = 2048383 + 42875 = 2091258\n",
      "   \\]\n",
      "\n",
      "   This is close but not equal to 2091509; adjust \\( b \\) slightly. Try \\( b = 36 \\):\n",
      "   \\[\n",
      "   36^3 = 46656\n",
      "   \\]\n",
      "   Then:\n",
      "   \\[\n",
      "   127^3 + 36^3 = 2048383 + 46656 = 2095059\n",
      "   \\]\n",
      "\n",
      "   This exceeds 2091509. Let's go back and adjust:\n",
      "   - Since the sum with \\( b = 35 \\) was slightly less, and \\( b = 36 \\) was too much, it seems we need to look for values around those given. However, stepping up and down around \\( a = 127 \\) and \\( b = 35 \\) or \\( 36 \\) without strictly pinpointing values indicates there may not be a direct integer solution right on target.\n",
      "\n",
      "By adjusting and trying nearby values, no exact integer solutions appear immediately. Thus, it may require more extensive searching or a different method (like numerical solver techniques) that is beyond manual calculation trial-and-error around these values.\n"
     ]
    }
   ],
   "source": [
    "response = chatgpt4_chat_completions(\"Can you came up with two numbers which qubed sum is equal to 2091509, prove it is possible or not. You need to give an answer, not a code or an algorithm.\")"
   ]
  },
  {
   "cell_type": "code",
   "execution_count": 45,
   "id": "6f9a5b3e",
   "metadata": {},
   "outputs": [
    {
     "data": {
      "text/markdown": [
       "To find two integers "
      ],
      "text/plain": [
       "<IPython.core.display.Markdown object>"
      ]
     },
     "metadata": {},
     "output_type": "display_data"
    },
    {
     "data": {
      "text/latex": [
       "\\( a \\)"
      ],
      "text/plain": [
       "<IPython.core.display.Latex object>"
      ]
     },
     "metadata": {},
     "output_type": "display_data"
    },
    {
     "data": {
      "text/markdown": [
       " and "
      ],
      "text/plain": [
       "<IPython.core.display.Markdown object>"
      ]
     },
     "metadata": {},
     "output_type": "display_data"
    },
    {
     "data": {
      "text/latex": [
       "\\( b \\)"
      ],
      "text/plain": [
       "<IPython.core.display.Latex object>"
      ]
     },
     "metadata": {},
     "output_type": "display_data"
    },
    {
     "data": {
      "text/markdown": [
       " such that their cubes sum up to 2091509, i.e., "
      ],
      "text/plain": [
       "<IPython.core.display.Markdown object>"
      ]
     },
     "metadata": {},
     "output_type": "display_data"
    },
    {
     "data": {
      "text/latex": [
       "\\( a^3 + b^3 = 2091509 \\)"
      ],
      "text/plain": [
       "<IPython.core.display.Latex object>"
      ]
     },
     "metadata": {},
     "output_type": "display_data"
    },
    {
     "data": {
      "text/markdown": [
       ", we must determine feasible values of "
      ],
      "text/plain": [
       "<IPython.core.display.Markdown object>"
      ]
     },
     "metadata": {},
     "output_type": "display_data"
    },
    {
     "data": {
      "text/latex": [
       "\\( a \\)"
      ],
      "text/plain": [
       "<IPython.core.display.Latex object>"
      ]
     },
     "metadata": {},
     "output_type": "display_data"
    },
    {
     "data": {
      "text/markdown": [
       " and "
      ],
      "text/plain": [
       "<IPython.core.display.Markdown object>"
      ]
     },
     "metadata": {},
     "output_type": "display_data"
    },
    {
     "data": {
      "text/latex": [
       "\\( b \\)"
      ],
      "text/plain": [
       "<IPython.core.display.Latex object>"
      ]
     },
     "metadata": {},
     "output_type": "display_data"
    },
    {
     "data": {
      "text/markdown": [
       " which satisfy this equation.\n",
       "\n",
       "Let's analyze the possibilities:\n",
       "1. Calculate the cube root of 2091509 to estimate the upper bound for values of "
      ],
      "text/plain": [
       "<IPython.core.display.Markdown object>"
      ]
     },
     "metadata": {},
     "output_type": "display_data"
    },
    {
     "data": {
      "text/latex": [
       "\\( a \\)"
      ],
      "text/plain": [
       "<IPython.core.display.Latex object>"
      ]
     },
     "metadata": {},
     "output_type": "display_data"
    },
    {
     "data": {
      "text/markdown": [
       " and "
      ],
      "text/plain": [
       "<IPython.core.display.Markdown object>"
      ]
     },
     "metadata": {},
     "output_type": "display_data"
    },
    {
     "data": {
      "text/latex": [
       "\\( b \\)"
      ],
      "text/plain": [
       "<IPython.core.display.Latex object>"
      ]
     },
     "metadata": {},
     "output_type": "display_data"
    },
    {
     "data": {
      "text/markdown": [
       ":\n",
       "   "
      ],
      "text/plain": [
       "<IPython.core.display.Markdown object>"
      ]
     },
     "metadata": {},
     "output_type": "display_data"
    },
    {
     "data": {
      "text/latex": [
       "\\[\n",
       "   \\sqrt[3]{2091509} \\approx 127.6\n",
       "   \\]"
      ],
      "text/plain": [
       "<IPython.core.display.Latex object>"
      ]
     },
     "metadata": {},
     "output_type": "display_data"
    },
    {
     "data": {
      "text/markdown": [
       "\n",
       "   So, "
      ],
      "text/plain": [
       "<IPython.core.display.Markdown object>"
      ]
     },
     "metadata": {},
     "output_type": "display_data"
    },
    {
     "data": {
      "text/latex": [
       "\\( a \\)"
      ],
      "text/plain": [
       "<IPython.core.display.Latex object>"
      ]
     },
     "metadata": {},
     "output_type": "display_data"
    },
    {
     "data": {
      "text/markdown": [
       " and "
      ],
      "text/plain": [
       "<IPython.core.display.Markdown object>"
      ]
     },
     "metadata": {},
     "output_type": "display_data"
    },
    {
     "data": {
      "text/latex": [
       "\\( b \\)"
      ],
      "text/plain": [
       "<IPython.core.display.Latex object>"
      ]
     },
     "metadata": {},
     "output_type": "display_data"
    },
    {
     "data": {
      "text/markdown": [
       " should be numbers around or less than 127 because the cube of any number bigger than this multiplied by 2 would exceed 2091509.\n",
       "\n",
       "2. We will test some values near 127 to find two numbers whose cubes sum to 2091509. Here we check a few possible combinations:\n",
       "\n",
       "   Checking with "
      ],
      "text/plain": [
       "<IPython.core.display.Markdown object>"
      ]
     },
     "metadata": {},
     "output_type": "display_data"
    },
    {
     "data": {
      "text/latex": [
       "\\( a = 127 \\)"
      ],
      "text/plain": [
       "<IPython.core.display.Latex object>"
      ]
     },
     "metadata": {},
     "output_type": "display_data"
    },
    {
     "data": {
      "text/markdown": [
       ":\n",
       "   "
      ],
      "text/plain": [
       "<IPython.core.display.Markdown object>"
      ]
     },
     "metadata": {},
     "output_type": "display_data"
    },
    {
     "data": {
      "text/latex": [
       "\\[\n",
       "   127^3 = 2048383\n",
       "   \\]"
      ],
      "text/plain": [
       "<IPython.core.display.Latex object>"
      ]
     },
     "metadata": {},
     "output_type": "display_data"
    },
    {
     "data": {
      "text/markdown": [
       "\n",
       "   Then, we have:\n",
       "   "
      ],
      "text/plain": [
       "<IPython.core.display.Markdown object>"
      ]
     },
     "metadata": {},
     "output_type": "display_data"
    },
    {
     "data": {
      "text/latex": [
       "\\[\n",
       "   2091509 - 2048383 = 43126\n",
       "   \\]"
      ],
      "text/plain": [
       "<IPython.core.display.Latex object>"
      ]
     },
     "metadata": {},
     "output_type": "display_data"
    },
    {
     "data": {
      "text/markdown": [
       "\n",
       "   The cube root of 43126 is about "
      ],
      "text/plain": [
       "<IPython.core.display.Markdown object>"
      ]
     },
     "metadata": {},
     "output_type": "display_data"
    },
    {
     "data": {
      "text/latex": [
       "\\( \\sqrt[3]{43126} \\approx 35.2 \\)"
      ],
      "text/plain": [
       "<IPython.core.display.Latex object>"
      ]
     },
     "metadata": {},
     "output_type": "display_data"
    },
    {
     "data": {
      "text/markdown": [
       ". Testing with the nearest integer, "
      ],
      "text/plain": [
       "<IPython.core.display.Markdown object>"
      ]
     },
     "metadata": {},
     "output_type": "display_data"
    },
    {
     "data": {
      "text/latex": [
       "\\( b = 35 \\)"
      ],
      "text/plain": [
       "<IPython.core.display.Latex object>"
      ]
     },
     "metadata": {},
     "output_type": "display_data"
    },
    {
     "data": {
      "text/markdown": [
       ":\n",
       "   "
      ],
      "text/plain": [
       "<IPython.core.display.Markdown object>"
      ]
     },
     "metadata": {},
     "output_type": "display_data"
    },
    {
     "data": {
      "text/latex": [
       "\\[\n",
       "   35^3 = 42875\n",
       "   \\]"
      ],
      "text/plain": [
       "<IPython.core.display.Latex object>"
      ]
     },
     "metadata": {},
     "output_type": "display_data"
    },
    {
     "data": {
      "text/markdown": [
       "\n",
       "   Thus:\n",
       "   "
      ],
      "text/plain": [
       "<IPython.core.display.Markdown object>"
      ]
     },
     "metadata": {},
     "output_type": "display_data"
    },
    {
     "data": {
      "text/latex": [
       "\\[\n",
       "   127^3 + 35^3 = 2048383 + 42875 = 2091258\n",
       "   \\]"
      ],
      "text/plain": [
       "<IPython.core.display.Latex object>"
      ]
     },
     "metadata": {},
     "output_type": "display_data"
    },
    {
     "data": {
      "text/markdown": [
       "\n",
       "\n",
       "   This is close but not equal to 2091509; adjust "
      ],
      "text/plain": [
       "<IPython.core.display.Markdown object>"
      ]
     },
     "metadata": {},
     "output_type": "display_data"
    },
    {
     "data": {
      "text/latex": [
       "\\( b \\)"
      ],
      "text/plain": [
       "<IPython.core.display.Latex object>"
      ]
     },
     "metadata": {},
     "output_type": "display_data"
    },
    {
     "data": {
      "text/markdown": [
       " slightly. Try "
      ],
      "text/plain": [
       "<IPython.core.display.Markdown object>"
      ]
     },
     "metadata": {},
     "output_type": "display_data"
    },
    {
     "data": {
      "text/latex": [
       "\\( b = 36 \\)"
      ],
      "text/plain": [
       "<IPython.core.display.Latex object>"
      ]
     },
     "metadata": {},
     "output_type": "display_data"
    },
    {
     "data": {
      "text/markdown": [
       ":\n",
       "   "
      ],
      "text/plain": [
       "<IPython.core.display.Markdown object>"
      ]
     },
     "metadata": {},
     "output_type": "display_data"
    },
    {
     "data": {
      "text/latex": [
       "\\[\n",
       "   36^3 = 46656\n",
       "   \\]"
      ],
      "text/plain": [
       "<IPython.core.display.Latex object>"
      ]
     },
     "metadata": {},
     "output_type": "display_data"
    },
    {
     "data": {
      "text/markdown": [
       "\n",
       "   Then:\n",
       "   "
      ],
      "text/plain": [
       "<IPython.core.display.Markdown object>"
      ]
     },
     "metadata": {},
     "output_type": "display_data"
    },
    {
     "data": {
      "text/latex": [
       "\\[\n",
       "   127^3 + 36^3 = 2048383 + 46656 = 2095059\n",
       "   \\]"
      ],
      "text/plain": [
       "<IPython.core.display.Latex object>"
      ]
     },
     "metadata": {},
     "output_type": "display_data"
    },
    {
     "data": {
      "text/markdown": [
       "\n",
       "\n",
       "   This exceeds 2091509. Let's go back and adjust:\n",
       "   - Since the sum with "
      ],
      "text/plain": [
       "<IPython.core.display.Markdown object>"
      ]
     },
     "metadata": {},
     "output_type": "display_data"
    },
    {
     "data": {
      "text/latex": [
       "\\( b = 35 \\)"
      ],
      "text/plain": [
       "<IPython.core.display.Latex object>"
      ]
     },
     "metadata": {},
     "output_type": "display_data"
    },
    {
     "data": {
      "text/markdown": [
       " was slightly less, and "
      ],
      "text/plain": [
       "<IPython.core.display.Markdown object>"
      ]
     },
     "metadata": {},
     "output_type": "display_data"
    },
    {
     "data": {
      "text/latex": [
       "\\( b = 36 \\)"
      ],
      "text/plain": [
       "<IPython.core.display.Latex object>"
      ]
     },
     "metadata": {},
     "output_type": "display_data"
    },
    {
     "data": {
      "text/markdown": [
       " was too much, it seems we need to look for values around those given. However, stepping up and down around "
      ],
      "text/plain": [
       "<IPython.core.display.Markdown object>"
      ]
     },
     "metadata": {},
     "output_type": "display_data"
    },
    {
     "data": {
      "text/latex": [
       "\\( a = 127 \\)"
      ],
      "text/plain": [
       "<IPython.core.display.Latex object>"
      ]
     },
     "metadata": {},
     "output_type": "display_data"
    },
    {
     "data": {
      "text/markdown": [
       " and "
      ],
      "text/plain": [
       "<IPython.core.display.Markdown object>"
      ]
     },
     "metadata": {},
     "output_type": "display_data"
    },
    {
     "data": {
      "text/latex": [
       "\\( b = 35 \\)"
      ],
      "text/plain": [
       "<IPython.core.display.Latex object>"
      ]
     },
     "metadata": {},
     "output_type": "display_data"
    },
    {
     "data": {
      "text/markdown": [
       " or "
      ],
      "text/plain": [
       "<IPython.core.display.Markdown object>"
      ]
     },
     "metadata": {},
     "output_type": "display_data"
    },
    {
     "data": {
      "text/latex": [
       "\\( 36 \\)"
      ],
      "text/plain": [
       "<IPython.core.display.Latex object>"
      ]
     },
     "metadata": {},
     "output_type": "display_data"
    },
    {
     "data": {
      "text/markdown": [
       " without strictly pinpointing values indicates there may not be a direct integer solution right on target.\n",
       "\n",
       "By adjusting and trying nearby values, no exact integer solutions appear immediately. Thus, it may require more extensive searching or a different method (like numerical solver techniques) that is beyond manual calculation trial-and-error around these values."
      ],
      "text/plain": [
       "<IPython.core.display.Markdown object>"
      ]
     },
     "metadata": {},
     "output_type": "display_data"
    },
    {
     "name": "stdout",
     "output_type": "stream",
     "text": [
      "{'completion_tokens': 560, 'prompt_tokens': 58, 'total_tokens': 618}\n"
     ]
    }
   ],
   "source": [
    "process_model_response(response)"
   ]
  },
  {
   "cell_type": "code",
   "execution_count": 46,
   "id": "06e81370",
   "metadata": {},
   "outputs": [],
   "source": [
    "math_task = \"At the Moscow chess tournament this year, there were at least four chess players. It is known that each player played the same number of games with each other. A total of 26 rounds were held. After the seventh round, one player noticed that all players had an even number of points, but his own number of points was odd. Determine the number of participants in the tournament. Write the number in your answer. Rules of the chess tournament: In one round, all participants are divided into pairs and play one game each. If the number of players is odd, one player does not play and waits for the next round; in the next round, he plays, and someone else waits, and so on. Each player must miss the same number of rounds. A player earns one point for a win, half a point for a draw, and zero points for a loss.\""
   ]
  },
  {
   "cell_type": "code",
   "execution_count": 54,
   "id": "f311d503",
   "metadata": {},
   "outputs": [
    {
     "ename": "HttpResponseError",
     "evalue": "(Timeout) The operation was timeout.\nCode: Timeout\nMessage: The operation was timeout.",
     "output_type": "error",
     "traceback": [
      "\u001b[0;31m---------------------------------------------------------------------------\u001b[0m",
      "\u001b[0;31mHttpResponseError\u001b[0m                         Traceback (most recent call last)",
      "Cell \u001b[0;32mIn[54], line 1\u001b[0m\n\u001b[0;32m----> 1\u001b[0m \u001b[43mdeepseek_chat_completions\u001b[49m\u001b[43m(\u001b[49m\u001b[43mmath_task\u001b[49m\u001b[43m)\u001b[49m\n",
      "Cell \u001b[0;32mIn[53], line 17\u001b[0m, in \u001b[0;36mdeepseek_chat_completions\u001b[0;34m(prompt, temperature, max_tokens)\u001b[0m\n\u001b[1;32m      8\u001b[0m     exit()\n\u001b[1;32m      9\u001b[0m client \u001b[38;5;241m=\u001b[39m ChatCompletionsClient(endpoint\u001b[38;5;241m=\u001b[39mendpoint, \n\u001b[1;32m     10\u001b[0m                                credential\u001b[38;5;241m=\u001b[39mAzureKeyCredential(key), \n\u001b[1;32m     11\u001b[0m                                model\u001b[38;5;241m=\u001b[39m\u001b[38;5;124m\"\u001b[39m\u001b[38;5;124mDeepSeek-R1\u001b[39m\u001b[38;5;124m\"\u001b[39m,\n\u001b[1;32m     12\u001b[0m                                api_version\u001b[38;5;241m=\u001b[39m\u001b[38;5;124m'\u001b[39m\u001b[38;5;124m2024-05-01-preview\u001b[39m\u001b[38;5;124m'\u001b[39m,\n\u001b[1;32m     13\u001b[0m                                temperature\u001b[38;5;241m=\u001b[39mtemperature,\n\u001b[1;32m     14\u001b[0m                                max_tokens\u001b[38;5;241m=\u001b[39mmax_tokens)\n\u001b[0;32m---> 17\u001b[0m response \u001b[38;5;241m=\u001b[39m \u001b[43mclient\u001b[49m\u001b[38;5;241;43m.\u001b[39;49m\u001b[43mcomplete\u001b[49m\u001b[43m(\u001b[49m\n\u001b[1;32m     18\u001b[0m \u001b[43m    \u001b[49m\u001b[43mmessages\u001b[49m\u001b[38;5;241;43m=\u001b[39;49m\u001b[43m[\u001b[49m\n\u001b[1;32m     19\u001b[0m \u001b[43m        \u001b[49m\u001b[43mSystemMessage\u001b[49m\u001b[43m(\u001b[49m\u001b[38;5;124;43m\"\u001b[39;49m\u001b[38;5;124;43mYou are a helpful assistant. Please add to the response tag <summary></summary> and provide there short summary of the conversational context that could be used to continue the discsussion.\u001b[39;49m\u001b[38;5;124;43m\"\u001b[39;49m\u001b[43m)\u001b[49m\u001b[43m,\u001b[49m\n\u001b[1;32m     20\u001b[0m \u001b[43m        \u001b[49m\u001b[43mUserMessage\u001b[49m\u001b[43m(\u001b[49m\u001b[43mprompt\u001b[49m\u001b[43m)\u001b[49m\u001b[43m,\u001b[49m\n\u001b[1;32m     21\u001b[0m \u001b[43m    \u001b[49m\u001b[43m]\u001b[49m\n\u001b[1;32m     22\u001b[0m \u001b[43m\u001b[49m\u001b[43m)\u001b[49m\n\u001b[1;32m     24\u001b[0m \u001b[38;5;28mprint\u001b[39m(response\u001b[38;5;241m.\u001b[39mchoices[\u001b[38;5;241m0\u001b[39m]\u001b[38;5;241m.\u001b[39mmessage\u001b[38;5;241m.\u001b[39mcontent)\n\u001b[1;32m     25\u001b[0m \u001b[38;5;28;01mreturn\u001b[39;00m response\n",
      "File \u001b[0;32m~/Documents/projects/mathematics-and-python/venv/lib/python3.9/site-packages/azure/ai/inference/_patch.py:731\u001b[0m, in \u001b[0;36mChatCompletionsClient.complete\u001b[0;34m(self, body, messages, stream, frequency_penalty, presence_penalty, temperature, top_p, max_tokens, response_format, stop, tools, tool_choice, seed, model, model_extras, **kwargs)\u001b[0m\n\u001b[1;32m    729\u001b[0m         response\u001b[38;5;241m.\u001b[39mread()  \u001b[38;5;66;03m# Load the body in memory and close the socket\u001b[39;00m\n\u001b[1;32m    730\u001b[0m     map_error(status_code\u001b[38;5;241m=\u001b[39mresponse\u001b[38;5;241m.\u001b[39mstatus_code, response\u001b[38;5;241m=\u001b[39mresponse, error_map\u001b[38;5;241m=\u001b[39merror_map)\n\u001b[0;32m--> 731\u001b[0m     \u001b[38;5;28;01mraise\u001b[39;00m HttpResponseError(response\u001b[38;5;241m=\u001b[39mresponse)\n\u001b[1;32m    733\u001b[0m \u001b[38;5;28;01mif\u001b[39;00m _stream:\n\u001b[1;32m    734\u001b[0m     \u001b[38;5;28;01mreturn\u001b[39;00m _models\u001b[38;5;241m.\u001b[39mStreamingChatCompletions(response)\n",
      "\u001b[0;31mHttpResponseError\u001b[0m: (Timeout) The operation was timeout.\nCode: Timeout\nMessage: The operation was timeout."
     ]
    }
   ],
   "source": [
    "deepseek_chat_completions(math_task)"
   ]
  },
  {
   "cell_type": "code",
   "execution_count": 55,
   "id": "5d229167",
   "metadata": {},
   "outputs": [
    {
     "name": "stdout",
     "output_type": "stream",
     "text": [
      "To find the number of participants in the Moscow chess tournament, let's analyze the information given:\n",
      "\n",
      "1. **Number of Games**: In a round-robin tournament where each participant plays each other exactly once, the number of games \\(G\\) played by each participant is \\( n - 1 \\), where \\(n\\) is the number of participants.\n",
      "\n",
      "2. **Total Number of Games**: The total number of games \\(T\\) played in the tournament can be calculated with the combinatorial formula:\n",
      "   \\[\n",
      "   T = \\binom{n}{2} = \\frac{n(n-1)}{2}\n",
      "   \\]\n",
      "\n",
      "3. **Rounds and Pairings**: In one round, if \\(n\\) is even, all players can be paired simultaneously, so \\( \\frac{n}{2} \\) games happen in each round. If \\(n\\) is odd, \\( \\frac{n-1}{2} \\) games happen in each round because one player must wait.\n",
      "\n",
      "4. **Total Number of Rounds**: For even \\(n\\) with \\( \\frac{n}{2} \\) games per round, the number of rounds \\(R\\) required to complete all games is:\n",
      "   \\[\n",
      "   R = \\frac{n(n-1)/2}{n/2} = n - 1\n",
      "   \\]\n",
      "   If \\(n\\) is even and there were 26 rounds in total, then:\n",
      "   \\[\n",
      "   n - 1 = 26 \\implies n = 27\n",
      "   \\]\n",
      "   But, if \\(n = 27\\) (which is odd), the equation doesn't hold as stated. We need to check even and odd \\(n\\).\n",
      "\n",
      "5. **Checking Even/Odd Number of Participants**:\n",
      "   - If \\( n \\) is even, the number of participants need to solve:\n",
      "     \\[\n",
      "     \\frac{n(n-1)}{2} = 13 \\times 2 = 26 \\implies n(n-1) = 52\n",
      "     \\]\n",
      "     Solving \\( n^2 - n - 52 = 0 \\), we seek integer solutions. None of the simple factorizations work for \\(n\\) since \\(26 + 2 = 28\\) doesn’t fit the equation’s requirements.\n",
      "   - If \\( n \\) is odd, players will not play all at once, and there will be adjustments in the operations. However, this contradicts the given 26 rounds unless one assumes there are skips or pauses.\n",
      "\n",
      "6. **Errors with odd points after even rounds**: After an even number of total games (multiples of rounds till 7), all players should have even points if games result in wins and losses (1 or 0 points), but due to draws (0.5 points each), a discrepancy in even and odd total points can arise.\n",
      "\n",
      "From careful analysis, deriving \\(n\\) from the given equations, assumption that \\( n \\) is odd because of the observed player's score anomaly:\n",
      "\n",
      "   - Odd score after an even number of rounds suggests disparities introduced by players sitting out or rounds in which draws predominate. However, as each player plays everyone else, the number of participants must align with the number of rounds.\n",
      "\n",
      "The actual calculation or rationality behind finding the number of participants in this scenario seems complex or inherently contradictory with the given data of 26 rounds for an all-play-all format. The possible misunderstanding or error in data or interpreting rules might make standard formulas not directly applicable. With this kind of puzzle, hypothetical or real, additional or clearer rules or a re-evaluation of provided data might be necessary.\n",
      "\n",
      "However, assuming a logical flaw or necessary missing piece, we might consider rechecking through practical tournament setups or a specific condition of the game that was not originally considered in the puzzle description.\n"
     ]
    }
   ],
   "source": [
    "response = chatgpt4_chat_completions(math_task)"
   ]
  },
  {
   "cell_type": "code",
   "execution_count": 56,
   "id": "7e9e77f3",
   "metadata": {},
   "outputs": [
    {
     "data": {
      "text/markdown": [
       "To find the number of participants in the Moscow chess tournament, let's analyze the information given:\n",
       "\n",
       "1. **Number of Games**: In a round-robin tournament where each participant plays each other exactly once, the number of games "
      ],
      "text/plain": [
       "<IPython.core.display.Markdown object>"
      ]
     },
     "metadata": {},
     "output_type": "display_data"
    },
    {
     "data": {
      "text/latex": [
       "\\(G\\)"
      ],
      "text/plain": [
       "<IPython.core.display.Latex object>"
      ]
     },
     "metadata": {},
     "output_type": "display_data"
    },
    {
     "data": {
      "text/markdown": [
       " played by each participant is "
      ],
      "text/plain": [
       "<IPython.core.display.Markdown object>"
      ]
     },
     "metadata": {},
     "output_type": "display_data"
    },
    {
     "data": {
      "text/latex": [
       "\\( n - 1 \\)"
      ],
      "text/plain": [
       "<IPython.core.display.Latex object>"
      ]
     },
     "metadata": {},
     "output_type": "display_data"
    },
    {
     "data": {
      "text/markdown": [
       ", where "
      ],
      "text/plain": [
       "<IPython.core.display.Markdown object>"
      ]
     },
     "metadata": {},
     "output_type": "display_data"
    },
    {
     "data": {
      "text/latex": [
       "\\(n\\)"
      ],
      "text/plain": [
       "<IPython.core.display.Latex object>"
      ]
     },
     "metadata": {},
     "output_type": "display_data"
    },
    {
     "data": {
      "text/markdown": [
       " is the number of participants.\n",
       "\n",
       "2. **Total Number of Games**: The total number of games "
      ],
      "text/plain": [
       "<IPython.core.display.Markdown object>"
      ]
     },
     "metadata": {},
     "output_type": "display_data"
    },
    {
     "data": {
      "text/latex": [
       "\\(T\\)"
      ],
      "text/plain": [
       "<IPython.core.display.Latex object>"
      ]
     },
     "metadata": {},
     "output_type": "display_data"
    },
    {
     "data": {
      "text/markdown": [
       " played in the tournament can be calculated with the combinatorial formula:\n",
       "   "
      ],
      "text/plain": [
       "<IPython.core.display.Markdown object>"
      ]
     },
     "metadata": {},
     "output_type": "display_data"
    },
    {
     "data": {
      "text/latex": [
       "\\[\n",
       "   T = \\binom{n}{2} = \\frac{n(n-1)}{2}\n",
       "   \\]"
      ],
      "text/plain": [
       "<IPython.core.display.Latex object>"
      ]
     },
     "metadata": {},
     "output_type": "display_data"
    },
    {
     "data": {
      "text/markdown": [
       "\n",
       "\n",
       "3. **Rounds and Pairings**: In one round, if "
      ],
      "text/plain": [
       "<IPython.core.display.Markdown object>"
      ]
     },
     "metadata": {},
     "output_type": "display_data"
    },
    {
     "data": {
      "text/latex": [
       "\\(n\\)"
      ],
      "text/plain": [
       "<IPython.core.display.Latex object>"
      ]
     },
     "metadata": {},
     "output_type": "display_data"
    },
    {
     "data": {
      "text/markdown": [
       " is even, all players can be paired simultaneously, so "
      ],
      "text/plain": [
       "<IPython.core.display.Markdown object>"
      ]
     },
     "metadata": {},
     "output_type": "display_data"
    },
    {
     "data": {
      "text/latex": [
       "\\( \\frac{n}{2} \\)"
      ],
      "text/plain": [
       "<IPython.core.display.Latex object>"
      ]
     },
     "metadata": {},
     "output_type": "display_data"
    },
    {
     "data": {
      "text/markdown": [
       " games happen in each round. If "
      ],
      "text/plain": [
       "<IPython.core.display.Markdown object>"
      ]
     },
     "metadata": {},
     "output_type": "display_data"
    },
    {
     "data": {
      "text/latex": [
       "\\(n\\)"
      ],
      "text/plain": [
       "<IPython.core.display.Latex object>"
      ]
     },
     "metadata": {},
     "output_type": "display_data"
    },
    {
     "data": {
      "text/markdown": [
       " is odd, "
      ],
      "text/plain": [
       "<IPython.core.display.Markdown object>"
      ]
     },
     "metadata": {},
     "output_type": "display_data"
    },
    {
     "data": {
      "text/latex": [
       "\\( \\frac{n-1}{2} \\)"
      ],
      "text/plain": [
       "<IPython.core.display.Latex object>"
      ]
     },
     "metadata": {},
     "output_type": "display_data"
    },
    {
     "data": {
      "text/markdown": [
       " games happen in each round because one player must wait.\n",
       "\n",
       "4. **Total Number of Rounds**: For even "
      ],
      "text/plain": [
       "<IPython.core.display.Markdown object>"
      ]
     },
     "metadata": {},
     "output_type": "display_data"
    },
    {
     "data": {
      "text/latex": [
       "\\(n\\)"
      ],
      "text/plain": [
       "<IPython.core.display.Latex object>"
      ]
     },
     "metadata": {},
     "output_type": "display_data"
    },
    {
     "data": {
      "text/markdown": [
       " with "
      ],
      "text/plain": [
       "<IPython.core.display.Markdown object>"
      ]
     },
     "metadata": {},
     "output_type": "display_data"
    },
    {
     "data": {
      "text/latex": [
       "\\( \\frac{n}{2} \\)"
      ],
      "text/plain": [
       "<IPython.core.display.Latex object>"
      ]
     },
     "metadata": {},
     "output_type": "display_data"
    },
    {
     "data": {
      "text/markdown": [
       " games per round, the number of rounds "
      ],
      "text/plain": [
       "<IPython.core.display.Markdown object>"
      ]
     },
     "metadata": {},
     "output_type": "display_data"
    },
    {
     "data": {
      "text/latex": [
       "\\(R\\)"
      ],
      "text/plain": [
       "<IPython.core.display.Latex object>"
      ]
     },
     "metadata": {},
     "output_type": "display_data"
    },
    {
     "data": {
      "text/markdown": [
       " required to complete all games is:\n",
       "   "
      ],
      "text/plain": [
       "<IPython.core.display.Markdown object>"
      ]
     },
     "metadata": {},
     "output_type": "display_data"
    },
    {
     "data": {
      "text/latex": [
       "\\[\n",
       "   R = \\frac{n(n-1)/2}{n/2} = n - 1\n",
       "   \\]"
      ],
      "text/plain": [
       "<IPython.core.display.Latex object>"
      ]
     },
     "metadata": {},
     "output_type": "display_data"
    },
    {
     "data": {
      "text/markdown": [
       "\n",
       "   If "
      ],
      "text/plain": [
       "<IPython.core.display.Markdown object>"
      ]
     },
     "metadata": {},
     "output_type": "display_data"
    },
    {
     "data": {
      "text/latex": [
       "\\(n\\)"
      ],
      "text/plain": [
       "<IPython.core.display.Latex object>"
      ]
     },
     "metadata": {},
     "output_type": "display_data"
    },
    {
     "data": {
      "text/markdown": [
       " is even and there were 26 rounds in total, then:\n",
       "   "
      ],
      "text/plain": [
       "<IPython.core.display.Markdown object>"
      ]
     },
     "metadata": {},
     "output_type": "display_data"
    },
    {
     "data": {
      "text/latex": [
       "\\[\n",
       "   n - 1 = 26 \\implies n = 27\n",
       "   \\]"
      ],
      "text/plain": [
       "<IPython.core.display.Latex object>"
      ]
     },
     "metadata": {},
     "output_type": "display_data"
    },
    {
     "data": {
      "text/markdown": [
       "\n",
       "   But, if "
      ],
      "text/plain": [
       "<IPython.core.display.Markdown object>"
      ]
     },
     "metadata": {},
     "output_type": "display_data"
    },
    {
     "data": {
      "text/latex": [
       "\\(n = 27\\)"
      ],
      "text/plain": [
       "<IPython.core.display.Latex object>"
      ]
     },
     "metadata": {},
     "output_type": "display_data"
    },
    {
     "data": {
      "text/markdown": [
       " (which is odd), the equation doesn't hold as stated. We need to check even and odd "
      ],
      "text/plain": [
       "<IPython.core.display.Markdown object>"
      ]
     },
     "metadata": {},
     "output_type": "display_data"
    },
    {
     "data": {
      "text/latex": [
       "\\(n\\)"
      ],
      "text/plain": [
       "<IPython.core.display.Latex object>"
      ]
     },
     "metadata": {},
     "output_type": "display_data"
    },
    {
     "data": {
      "text/markdown": [
       ".\n",
       "\n",
       "5. **Checking Even/Odd Number of Participants**:\n",
       "   - If "
      ],
      "text/plain": [
       "<IPython.core.display.Markdown object>"
      ]
     },
     "metadata": {},
     "output_type": "display_data"
    },
    {
     "data": {
      "text/latex": [
       "\\( n \\)"
      ],
      "text/plain": [
       "<IPython.core.display.Latex object>"
      ]
     },
     "metadata": {},
     "output_type": "display_data"
    },
    {
     "data": {
      "text/markdown": [
       " is even, the number of participants need to solve:\n",
       "     "
      ],
      "text/plain": [
       "<IPython.core.display.Markdown object>"
      ]
     },
     "metadata": {},
     "output_type": "display_data"
    },
    {
     "data": {
      "text/latex": [
       "\\[\n",
       "     \\frac{n(n-1)}{2} = 13 \\times 2 = 26 \\implies n(n-1) = 52\n",
       "     \\]"
      ],
      "text/plain": [
       "<IPython.core.display.Latex object>"
      ]
     },
     "metadata": {},
     "output_type": "display_data"
    },
    {
     "data": {
      "text/markdown": [
       "\n",
       "     Solving "
      ],
      "text/plain": [
       "<IPython.core.display.Markdown object>"
      ]
     },
     "metadata": {},
     "output_type": "display_data"
    },
    {
     "data": {
      "text/latex": [
       "\\( n^2 - n - 52 = 0 \\)"
      ],
      "text/plain": [
       "<IPython.core.display.Latex object>"
      ]
     },
     "metadata": {},
     "output_type": "display_data"
    },
    {
     "data": {
      "text/markdown": [
       ", we seek integer solutions. None of the simple factorizations work for "
      ],
      "text/plain": [
       "<IPython.core.display.Markdown object>"
      ]
     },
     "metadata": {},
     "output_type": "display_data"
    },
    {
     "data": {
      "text/latex": [
       "\\(n\\)"
      ],
      "text/plain": [
       "<IPython.core.display.Latex object>"
      ]
     },
     "metadata": {},
     "output_type": "display_data"
    },
    {
     "data": {
      "text/markdown": [
       " since "
      ],
      "text/plain": [
       "<IPython.core.display.Markdown object>"
      ]
     },
     "metadata": {},
     "output_type": "display_data"
    },
    {
     "data": {
      "text/latex": [
       "\\(26 + 2 = 28\\)"
      ],
      "text/plain": [
       "<IPython.core.display.Latex object>"
      ]
     },
     "metadata": {},
     "output_type": "display_data"
    },
    {
     "data": {
      "text/markdown": [
       " doesn’t fit the equation’s requirements.\n",
       "   - If "
      ],
      "text/plain": [
       "<IPython.core.display.Markdown object>"
      ]
     },
     "metadata": {},
     "output_type": "display_data"
    },
    {
     "data": {
      "text/latex": [
       "\\( n \\)"
      ],
      "text/plain": [
       "<IPython.core.display.Latex object>"
      ]
     },
     "metadata": {},
     "output_type": "display_data"
    },
    {
     "data": {
      "text/markdown": [
       " is odd, players will not play all at once, and there will be adjustments in the operations. However, this contradicts the given 26 rounds unless one assumes there are skips or pauses.\n",
       "\n",
       "6. **Errors with odd points after even rounds**: After an even number of total games (multiples of rounds till 7), all players should have even points if games result in wins and losses (1 or 0 points), but due to draws (0.5 points each), a discrepancy in even and odd total points can arise.\n",
       "\n",
       "From careful analysis, deriving "
      ],
      "text/plain": [
       "<IPython.core.display.Markdown object>"
      ]
     },
     "metadata": {},
     "output_type": "display_data"
    },
    {
     "data": {
      "text/latex": [
       "\\(n\\)"
      ],
      "text/plain": [
       "<IPython.core.display.Latex object>"
      ]
     },
     "metadata": {},
     "output_type": "display_data"
    },
    {
     "data": {
      "text/markdown": [
       " from the given equations, assumption that "
      ],
      "text/plain": [
       "<IPython.core.display.Markdown object>"
      ]
     },
     "metadata": {},
     "output_type": "display_data"
    },
    {
     "data": {
      "text/latex": [
       "\\( n \\)"
      ],
      "text/plain": [
       "<IPython.core.display.Latex object>"
      ]
     },
     "metadata": {},
     "output_type": "display_data"
    },
    {
     "data": {
      "text/markdown": [
       " is odd because of the observed player's score anomaly:\n",
       "\n",
       "   - Odd score after an even number of rounds suggests disparities introduced by players sitting out or rounds in which draws predominate. However, as each player plays everyone else, the number of participants must align with the number of rounds.\n",
       "\n",
       "The actual calculation or rationality behind finding the number of participants in this scenario seems complex or inherently contradictory with the given data of 26 rounds for an all-play-all format. The possible misunderstanding or error in data or interpreting rules might make standard formulas not directly applicable. With this kind of puzzle, hypothetical or real, additional or clearer rules or a re-evaluation of provided data might be necessary.\n",
       "\n",
       "However, assuming a logical flaw or necessary missing piece, we might consider rechecking through practical tournament setups or a specific condition of the game that was not originally considered in the puzzle description."
      ],
      "text/plain": [
       "<IPython.core.display.Markdown object>"
      ]
     },
     "metadata": {},
     "output_type": "display_data"
    },
    {
     "name": "stdout",
     "output_type": "stream",
     "text": [
      "{'completion_tokens': 770, 'prompt_tokens': 193, 'total_tokens': 963}\n"
     ]
    }
   ],
   "source": [
    "process_model_response(response)"
   ]
  },
  {
   "cell_type": "code",
   "execution_count": 57,
   "id": "a8c31459",
   "metadata": {},
   "outputs": [],
   "source": [
    "def deepseek_chat_completions_v2(prompt, temperature=None, max_tokens=None):\n",
    "    try:\n",
    "        endpoint = os.getenv(\"AZURE_DEEPSEEK_ENDPOINT\")\n",
    "        key = os.getenv(\"AZURE_DEEPSEEK_KEY\")\n",
    "    except KeyError:\n",
    "        print(\"Missing environment variable 'AZURE_DEEPSEEK_ENDPOINT' or 'AZURE_DEEPSEEK_KEY'\")\n",
    "        print(\"Set them before running this sample.\")\n",
    "        exit()\n",
    "    client = ChatCompletionsClient(endpoint=endpoint, \n",
    "                                   credential=AzureKeyCredential(key), \n",
    "                                   model=\"DeepSeek-R1\",\n",
    "                                   api_version='2024-05-01-preview',\n",
    "                                   temperature=temperature,\n",
    "                                   max_tokens=max_tokens)\n",
    "    \n",
    "\n",
    "    response = client.complete(\n",
    "        messages=[\n",
    "            SystemMessage(\"You are a helpful assistant. Please add to the response tag <summary></summary> and provide there short summary of the conversational context that could be used to continue the discsussion.\"),\n",
    "            UserMessage(prompt),\n",
    "        ],\n",
    "        stream=True\n",
    "    )\n",
    "    \n",
    "    for chunk in response:\n",
    "        # Extract the delta content from the chunk\n",
    "        if \"choices\" in chunk and chunk[\"choices\"]:\n",
    "            delta = chunk[\"choices\"][0][\"delta\"]\n",
    "            if \"content\" in delta:\n",
    "                print(delta[\"content\"], end=\"\", flush=True)\n",
    "                \n",
    "    print(response.choices[0].message.content)            \n",
    "    \n",
    "    return response"
   ]
  },
  {
   "cell_type": "code",
   "execution_count": 58,
   "id": "e900b838",
   "metadata": {},
   "outputs": [
    {
     "name": "stdout",
     "output_type": "stream",
     "text": [
      "<think>\n",
      "Okay, let's try to figure out the number of participants in the Moscow chess tournament. The problem states that there were at least four players, each player played the same number of games with each other, and a total of 26 rounds were held. After the seventh round, a player noticed that all others had even points, but his own was odd. We need to determine the number of participants, given the tournament rules.\n",
      "\n",
      "First, let's understand the tournament structure. Each round, players are paired up. If the number is odd, one sits out, but the sitting out is rotated so everyone sits out the same number of times. Since each player must miss the same number of rounds, the total number of players must be odd or even? Wait, if it's even, then no one sits out, right? Because you can pair everyone. If it's odd, one sits out each round. But the problem says that each player sits out the same number of rounds. So if the number of players is even, there are no byes (sitting out), so everyone plays every round. If it's odd, then each player has to sit out an equal number of times over 26 rounds. But 26 might not divide evenly into the number of players. Wait, but 26 rounds... Hmm.\n",
      "\n",
      "Wait, the problem says \"each player played the same number of games with each other\". So it's a round-robin tournament where each pair plays each other the same number of times. Wait, but in a standard round-robin, each pair plays once. But here, maybe they play multiple times? The total number of rounds is 26. But in a round-robin tournament with n players, each round has n/2 games if n is even, or (n-1)/2 games if n is odd (with one sitting out). The total number of rounds required for each pair to play once is C(n,2) games divided by the number of games per round. Wait, but here they played 26 rounds. So maybe each pair played multiple times. But the problem states \"each player played the same number of games with each other\", meaning that each pair played k games, where k is some integer.\n",
      "\n",
      "So total number of games would be C(n,2)*k. But each round has floor(n/2) games (if n is even, n/2; if odd, (n-1)/2). So total number of games over 26 rounds is 26*(floor(n/2)). Therefore, C(n,2)*k = 26*(floor(n/2)).\n",
      "\n",
      "But since the problem says \"each player played the same number of games with each other\", the number of times each pair plays against each other must be the same. Let's denote that number as k. Therefore, total games is C(n,2)*k. But each round has floor(n/2) games, so total games over 26 rounds is 26*floor(n/2). Therefore:\n",
      "\n",
      "C(n,2)*k = 26*floor(n/2).\n",
      "\n",
      "So we can write this as:\n",
      "\n",
      "(n(n-1)/2)*k = 26*(n/2 if even, else (n-1)/2).\n",
      "\n",
      "Hmm. Let's see. If n is even, then floor(n/2) = n/2. Therefore:\n",
      "\n",
      "(n(n-1)/2)*k = 26*(n/2)\n",
      "\n",
      "Simplify:\n",
      "\n",
      "(n-1)*k = 26\n",
      "\n",
      "So (n-1)*k = 26. Here, n and k are positive integers, n >=4.\n",
      "\n",
      "Similarly, if n is odd, then floor(n/2) = (n-1)/2. Then the equation becomes:\n",
      "\n",
      "(n(n-1)/2)*k = 26*( (n-1)/2 )\n",
      "\n",
      "Simplify:\n",
      "\n",
      "n*k = 26\n",
      "\n",
      "So n*k =26. Here, n must be an odd integer >=4, and k a positive integer.\n",
      "\n",
      "So we have two cases: n even and n odd.\n",
      "\n",
      "Case 1: n even.\n",
      "\n",
      "Then (n-1)*k =26. So possible factors of 26: 1×26, 2×13. Since n >=4, n-1 must be at least 3. So possible (n-1, k):\n",
      "\n",
      "26=26×1 → n-1=26, n=27 (but 27 is odd, which contradicts n even). So invalid.\n",
      "\n",
      "26=13×2 → n-1=13 → n=14 (even). k=2. Possible.\n",
      "\n",
      "Or 2×13: n-1=2 → n=3, which is less than 4, invalid.\n",
      "\n",
      "So only possible even n is 14 with k=2.\n",
      "\n",
      "Case 2: n odd.\n",
      "\n",
      "Then n*k=26. Possible factors of 26 are 1×26, 2×13. Since n is odd >=4.\n",
      "\n",
      "Possible n:\n",
      "\n",
      "13×2 → n=13 (odd) and k=2. But 13 is odd and >=4. So possible.\n",
      "\n",
      "26×1 → n=26 (even, invalid for this case).\n",
      "\n",
      "2×13 → n=2, invalid.\n",
      "\n",
      "So possible n=13, k=2.\n",
      "\n",
      "Therefore possible solutions are n=14 even, or n=13 odd.\n",
      "\n",
      "Now, we need to check which of these satisfies the condition after 7 rounds, a player had an odd number of points while all others had even points.\n",
      "\n",
      "First, let's analyze the games per player. Let's see: in each round, a player plays a game unless they sit out. Since in each round, if n is even, everyone plays; if n is odd, one sits out each round, and each sits out equally. So over 26 rounds, each player sits out 26/(n) times? Wait, if n is odd, each round one sits out. Over 26 rounds, each player sits out floor(26/n) times? Wait, no. Wait, to ensure each sits out the same number, the number of rounds must be a multiple of n? Hmm. Wait, no. If n is odd, in order for all players to sit out the same number of times, the number of rounds must be a multiple of n. Because each player sits out once every n rounds. For example, in n=5, each player sits out once every 5 rounds. So in 26 rounds, each would sit out floor(26/5) =5 times, but 5×5=25, so one round remains, but that would mean the last round someone sits out again, but that would make it unequal. So actually, the number of rounds must be a multiple of n for each to sit out exactly k times. But in our problem, it's 26 rounds, which may not be a multiple. However, the problem states \"Each player must miss the same number of rounds.\" Therefore, the number of rounds must be such that each sits out an integer number of times.\n",
      "\n",
      "So for n odd, each player sits out t times, so total number of sit-outs is n*t. But each round has one sit-out, so total sit-outs over 26 rounds is 26. Therefore, n*t =26. So 26 must be divisible by n. So n is a divisor of 26. The divisors of 26 are 1,2,13,26. Since n is odd and >=4, the only possibility is n=13. Because 13 divides 26. So 26=13*2. Therefore, t=2. So each player sits out 2 times in 13 rounds? Wait, no. Wait, total sit-outs is 26 (each round one sit-out, 26 rounds → 26 sit-outs). Therefore, n*t=26. So for n=13, t=2. So each player sits out 2 times over 26 rounds. So possible. Therefore, if n=13, then it's possible. So that's okay.\n",
      "\n",
      "But for the even case, n=14. In that case, since n is even, no one sits out any rounds. So each player plays all 26 rounds. So each player plays 26 games. Wait, but in each round, they play one game. So total games per player is 26.\n",
      "\n",
      "But in the case of n=14 even, each pair plays k=2 games (from previous calculation). So each player plays each other twice. So total games per player is 2*(14-1)=26. Which matches. Because 2 games against each of 13 opponents, 2*13=26. So that's consistent.\n",
      "\n",
      "Similarly, for n=13 odd, each pair plays k=2 games. Because n=13, k=26/13=2. Wait, no. Wait, earlier in the odd case, we had n*k=26. So k=26/n=26/13=2. Therefore, each pair plays 2 games. So total games per player: each plays 2 games against each of 12 opponents, so 2*12=24 games. But each player also sits out 2 rounds (since t=2). So total rounds is 26. So played 24 games, sat out 2. So checks out.\n",
      "\n",
      "Now, back to the problem. After 7 rounds, a player notices that all others have even points, but his own is odd. We need to figure out n=13 or 14.\n",
      "\n",
      "First, let's recall that in chess, points are 1 for a win, 0.5 for a draw, 0 for a loss. So possible points per game: 0, 0.5, 1.\n",
      "\n",
      "In 7 rounds, each player has played a certain number of games. Let's calculate how many games each player has played after 7 rounds.\n",
      "\n",
      "Case 1: n=14 (even). Then every round, all play. So after 7 rounds, each player has played 7 games. Because in each round, one game. So 7 games, each with result 0, 0.5, or 1. So total points are sum of those.\n",
      "\n",
      "But the player observed that after 7 rounds, he had an odd number of points, while all others had even. But points can be fractions (0.5 increments). Wait, but the problem states \"even number of points\" and \"odd number of points\". However, points can be half-integers. For example, 1.5, 2.0, etc. So how can a player have an odd or even number of points?\n",
      "\n"
     ]
    },
    {
     "name": "stdout",
     "output_type": "stream",
     "text": [
      "Wait, maybe the problem is referring to integer points. But in chess, points are accumulated as 1, 0.5, or 0. So total points can be integers or half-integers. So an even number of points would be an integer, even integer. Similarly, an odd number would be an odd integer. But getting a half-integer (like 1.5) would not be even or odd. So the fact that all other players have even points (i.e., integer even) and the player has an odd integer points suggests that all their points are integers, which implies that in their games, they either won or lost all their games (no draws). Because a draw gives 0.5, which would lead to a fractional total if there's an odd number of draws.\n",
      "\n",
      "But wait, the problem doesn't say there were no draws. It's possible to have points as half-integers. However, the problem states \"all players had an even number of points, but his own number of points was odd.\" So perhaps all the other players have even integers, and he has an odd integer. But this would require that in each of their games, there were no draws, or an even number of draws. Wait, because each draw contributes 0.5, so two draws would contribute 1, which is an integer. So if a player has an even number of draws, their total points would be integer. Similarly, if they have an odd number of draws, their total would be a half-integer.\n",
      "\n",
      "Therefore, if all other players have even integer points, that would mean that each of them has an even number of draws. The player in question has an odd integer, so he must have an odd number of draws. Wait, but no. If a player has, say, one draw (0.5) and the rest wins and losses (integers), his total would be integer +0.5, which is a half-integer. So to have an integer total, the number of draws must be even. Therefore, the problem's statement implies that all other players have even number of draws (hence integer totals), and the player has an odd number of draws (leading to a half-integer total), but the problem says his points are odd. Wait, this seems conflicting.\n",
      "\n",
      "Wait, maybe the problem is in translation or phrasing. The original says \"all players had an even number of points, but his own number of points was odd.\" If \"even number of points\" and \"odd number of points\" refer to the parity (even or odd integer), but points can be half-integers, this is only possible if all other players have integer points (even) and the player has an integer odd. This requires that all other players had an even number of draws (since each draw contributes 0.5, so two draws make 1), so their total points are integer. Similarly, the player must have an even number of draws to have an integer total, but he has an odd total, which contradicts unless... Wait, no. If the player has an odd number of wins and losses contributing to an integer total. Wait, no, wins and losses are integers, draws add 0.5. So if a player has, say, 3 wins (3 points) and 1 draw (0.5), total is 3.5, which is not an integer. Therefore, to have an integer total, the number of draws must be even.\n",
      "\n",
      "Therefore, in order for all other players to have even integer points, they must have an even number of draws, and the player must have an odd number of draws (leading to a half-integer), but the problem states his points are odd. This is a contradiction unless the problem's \"even number of points\" and \"odd number of points\" refer to the integer part, but that's unconventional. Alternatively, maybe all games resulted in decisive results (no draws), so all points are integers. Then the totals would be integers, and parity can be considered. That would make sense. But the problem allows for draws. However, the problem statement says \"A player earns one point for a win, half a point for a draw, and zero points for a loss.\" So draws are possible, but the problem mentions even and odd points, which would require that all players have integer points. Therefore, this suggests that there were no draws in the first seven rounds, or an even number of draws per player so that their total points are integers. But the problem doesn't state that there were no draws. So this is a bit confusing.\n",
      "\n",
      "Alternatively, maybe the problem is from a source where \"points\" are counted as integers, considering that draws are split as half points, but the total points across all players must be an integer because each game awards a total of 1 point (1 for a win, 0.5 each for a draw). Therefore, the total points in each round is equal to the number of games played. So after seven rounds, total points would be 7*(number of games per round). If n is even, games per round is n/2. If odd, (n-1)/2. Therefore, total points after 7 rounds would be 7*(n/2) if even, or 7*((n-1)/2) if odd. For this total points to be an integer, since 7 is odd, if n is even, n/2 must be integer, so total points is integer. If n is odd, (n-1)/2 must be integer, which it is, and 7*( (n-1)/2 ) must be integer. However, in either case, individual players can have half-integers. But the problem states that all players except one had even integers, and one had odd integer. Therefore, it's possible that the total points in the system is an integer, and the sum of all players' points is an integer. But for each player to have an integer, there must be no draws (all games decisive), or an even number of draws per player. But since the problem allows draws, but the specific after 7 rounds, we have all others even and one odd, which requires all players have integer points, implying that all their games were decisive (no draws) or they had an even number of draws. However, the player's own points being odd suggests that he had an odd number of wins and losses, with an even number of draws (to keep his total integer). Wait, no. If he had even number of draws, then his draws contribute an integer (since 0.5*even=integer). Then his wins and losses (which are integers) plus integer from draws would give integer total. So if his total is odd, that's possible. Similarly for others: even number of draws (leading to integer total) and even total points.\n",
      "\n",
      "But this is getting complicated. Maybe the intended solution assumes that all games are decisive (no draws), so points are integers. Then the sum of points per round is equal to the number of games (each game gives 1 point to the winner). Then total points after 7 rounds is 7*(number of games per round). For n even, games per round is n/2. For n odd, (n-1)/2. So total points would be 7*(n/2) or 7*((n-1)/2). If n is even, total points 7n/2. If n is odd, total points 7(n-1)/2. For this total to be integer, if n is even, 7n/2 must be integer. Since 7 is odd, n must be even, which it is, so okay. For n odd, 7(n-1)/2 must be integer. Since n is odd, n-1 is even, so yes, integer.\n",
      "\n",
      "In the case where all games are decisive (no draws), then each player's points are integers. Therefore, the total points is also an integer, and individual players' points are integers. So the observation that everyone else has even points and the player has odd is possible.\n",
      "\n",
      "Assuming no draws, let's proceed.\n",
      "\n",
      "Therefore, in 7 rounds, each player has played a certain number of games. For n even (14), each player has played 7 games (since no byes). For n odd (13), each player has played 7 - number of sit-outs. Wait, in 7 rounds, how many times has each player sat out? Since total sit-outs per player over 26 rounds is 2 (for n=13), as established earlier. Therefore, per 26 rounds, each sits out 2 rounds. So per 7 rounds, the number of sit-outs would be 2*(7/26) = approximately 0.538, which is not integer. Therefore, this is a problem. Wait, we can't have a fraction of sit-outs. Hmm.\n",
      "\n",
      "Wait, the sitting out must be distributed evenly. Since total sit-outs per player is 2 over 26 rounds, which is 2/26 = 1/13 per round. Hmm, no, that's not possible. Wait, no. If n=13, each player sits out 2 rounds total. Therefore, over 26 rounds, each player sits out 2 rounds. Hence, per 7 rounds, the number of sit-outs would be floor(2*(7/26)*13) or something? Wait, maybe this approach isn't correct. Let me think.\n",
      "\n"
     ]
    },
    {
     "name": "stdout",
     "output_type": "stream",
     "text": [
      "If in 26 rounds, each of the 13 players sits out 2 rounds, then in each set of 13 rounds, each player sits out exactly once (since 13 players, each round one sits out, so after 13 rounds, each has sat out once). Therefore, in 26 rounds, which is two sets of 13, each sits out twice. Therefore, after 7 rounds, which is less than 13, each player has sat out either 0 or 1 times. Because in the first 13 rounds, each sits out once. So in 7 rounds, the number of sit-outs per player is 0 or 1. Specifically, each player sits out once every 13 rounds. So in the first 7 rounds, which player sits out? They rotate. For example, in round 1, player 1 sits out; round 2, player 2; ... round 13, player 13; round 14, player 1 again, etc. So in 7 rounds, players 1 through 7 have sat out once each (rounds 1-7), and players 8-13 haven't sat out yet. Wait, no. Wait, if in each round, the next player sits out. So round 1: player 1 sits out. Round 2: player 2 sits out. ... Round 13: player 13 sits out. Round 14: player 1 sits out again. So in the first 7 rounds, players 1 through 7 have each sat out once. Therefore, after 7 rounds, each of players 1-7 has sat out once, and players 8-13 haven't sat out at all. Therefore, after 7 rounds, for n=13, each player has sat out either 0 or 1 times. Therefore, the number of games each player has played is 7 minus the number of sit-outs. So for players 1-7: 6 games. Players 8-13: 7 games.\n",
      "\n",
      "But the problem states that \"after the seventh round, one player noticed that all players had an even number of points, but his own number of points was odd.\" So this player must be one of the players who has played 6 or 7 games. But the points are integers (assuming no draws), so:\n",
      "\n",
      "If a player played 6 games, maximum points 6, minimum 0.\n",
      "\n",
      "If played 7 games, max 7, min 0.\n",
      "\n",
      "The total points per player is even or odd.\n",
      "\n",
      "But for players 8-13 (n=13 case), they played 7 games. Suppose all of them have even points. The total points for these 6 players would be even*6 = even.\n",
      "\n",
      "Players 1-7 played 6 games each. Suppose one of them (say player 1) has odd points, and the other 6 have even points. The total for these 7 players would be odd + even*6 = odd.\n",
      "\n",
      "Therefore, total points for all players would be odd (from players 1-7) + even (from 8-13) = odd.\n",
      "\n",
      "But total points from 7 rounds in n=13 is 7*((13-1)/2) =7*6=42, which is even. Contradiction. Therefore, this is impossible. Therefore, n=13 cannot be the case.\n",
      "\n",
      "For n=14 even. In this case, after 7 rounds, each player has played 7 games. All players have played the same number of games. Total points in the system is 7*(14/2)=7*7=49, which is odd. If one player has odd points and the rest 13 have even points, total points would be odd + 13*even = odd, which matches 49. So possible.\n",
      "\n",
      "Therefore, n=14 is possible. So the answer is 14.\n",
      "\n",
      "But we need to check if this fits with the initial condition about the number of games each pair played. For n=14, we had (n-1)*k=26 →13*k=26 →k=2. So each pair played twice. So total rounds would be C(14,2)*2 / (14/2) = (91*2)/7=182/7=26, which matches. So this works.\n",
      "\n",
      "Therefore, the number of participants is 14.\n",
      "</think>\n",
      "\n",
      "The number of participants in the tournament is **14**.\n",
      "\n",
      "<summary>\n",
      "The problem involves determining the number of chess players in a tournament with 26 rounds, where after 7 rounds, one player has an odd score while all others have even scores. Key steps include analyzing the tournament structure (even/odd players, rounds played, and points parity). Using constraints on total games, rounds, and point parity conditions, the solution identifies that 14 players satisfy all criteria: each pair plays twice (k=2), total rounds align, and the odd-even point distribution after 7 rounds is mathematically consistent.  \n",
      "</summary>"
     ]
    },
    {
     "ename": "AttributeError",
     "evalue": "'StreamingChatCompletions' object has no attribute 'choices'",
     "output_type": "error",
     "traceback": [
      "\u001b[0;31m---------------------------------------------------------------------------\u001b[0m",
      "\u001b[0;31mAttributeError\u001b[0m                            Traceback (most recent call last)",
      "Cell \u001b[0;32mIn[58], line 1\u001b[0m\n\u001b[0;32m----> 1\u001b[0m \u001b[43mdeepseek_chat_completions_v2\u001b[49m\u001b[43m(\u001b[49m\u001b[43mmath_task\u001b[49m\u001b[43m)\u001b[49m\n",
      "Cell \u001b[0;32mIn[57], line 32\u001b[0m, in \u001b[0;36mdeepseek_chat_completions_v2\u001b[0;34m(prompt, temperature, max_tokens)\u001b[0m\n\u001b[1;32m     29\u001b[0m         \u001b[38;5;28;01mif\u001b[39;00m \u001b[38;5;124m\"\u001b[39m\u001b[38;5;124mcontent\u001b[39m\u001b[38;5;124m\"\u001b[39m \u001b[38;5;129;01min\u001b[39;00m delta:\n\u001b[1;32m     30\u001b[0m             \u001b[38;5;28mprint\u001b[39m(delta[\u001b[38;5;124m\"\u001b[39m\u001b[38;5;124mcontent\u001b[39m\u001b[38;5;124m\"\u001b[39m], end\u001b[38;5;241m=\u001b[39m\u001b[38;5;124m\"\u001b[39m\u001b[38;5;124m\"\u001b[39m, flush\u001b[38;5;241m=\u001b[39m\u001b[38;5;28;01mTrue\u001b[39;00m)\n\u001b[0;32m---> 32\u001b[0m \u001b[38;5;28mprint\u001b[39m(\u001b[43mresponse\u001b[49m\u001b[38;5;241;43m.\u001b[39;49m\u001b[43mchoices\u001b[49m[\u001b[38;5;241m0\u001b[39m]\u001b[38;5;241m.\u001b[39mmessage\u001b[38;5;241m.\u001b[39mcontent)            \n\u001b[1;32m     34\u001b[0m \u001b[38;5;28;01mreturn\u001b[39;00m response\n",
      "\u001b[0;31mAttributeError\u001b[0m: 'StreamingChatCompletions' object has no attribute 'choices'"
     ]
    }
   ],
   "source": [
    "deepseek_chat_completions_v2(math_task)"
   ]
  },
  {
   "cell_type": "code",
   "execution_count": null,
   "id": "715774d9",
   "metadata": {},
   "outputs": [],
   "source": []
  }
 ],
 "metadata": {
  "kernelspec": {
   "display_name": "Python 3 (ipykernel)",
   "language": "python",
   "name": "python3"
  },
  "language_info": {
   "codemirror_mode": {
    "name": "ipython",
    "version": 3
   },
   "file_extension": ".py",
   "mimetype": "text/x-python",
   "name": "python",
   "nbconvert_exporter": "python",
   "pygments_lexer": "ipython3",
   "version": "3.9.6"
  }
 },
 "nbformat": 4,
 "nbformat_minor": 5
}
